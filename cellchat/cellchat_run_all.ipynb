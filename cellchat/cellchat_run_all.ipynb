{
 "cells": [
  {
   "cell_type": "code",
   "execution_count": 1,
   "id": "8167f378-5b02-4d02-81e9-a1b45730ca28",
   "metadata": {
    "collapsed": true,
    "jupyter": {
     "outputs_hidden": true
    },
    "tags": []
   },
   "outputs": [
    {
     "name": "stderr",
     "output_type": "stream",
     "text": [
      "Loading required package: dplyr\n",
      "\n",
      "\n",
      "Attaching package: ‘dplyr’\n",
      "\n",
      "\n",
      "The following objects are masked from ‘package:stats’:\n",
      "\n",
      "    filter, lag\n",
      "\n",
      "\n",
      "The following objects are masked from ‘package:base’:\n",
      "\n",
      "    intersect, setdiff, setequal, union\n",
      "\n",
      "\n",
      "Loading required package: igraph\n",
      "\n",
      "\n",
      "Attaching package: ‘igraph’\n",
      "\n",
      "\n",
      "The following objects are masked from ‘package:dplyr’:\n",
      "\n",
      "    as_data_frame, groups, union\n",
      "\n",
      "\n",
      "The following objects are masked from ‘package:stats’:\n",
      "\n",
      "    decompose, spectrum\n",
      "\n",
      "\n",
      "The following object is masked from ‘package:base’:\n",
      "\n",
      "    union\n",
      "\n",
      "\n",
      "Loading required package: ggplot2\n",
      "\n"
     ]
    },
    {
     "name": "stdout",
     "output_type": "stream",
     "text": [
      "[1] \"Create a CellChat object from a data matrix\"\n",
      "The cell barcodes in 'meta' is  AAACGGCTCTGACA.E8_10x21 AATTGATGACCCTC.E8_10x21 ACCTATTGTGCAGT.E8_10x21 ACTGGCCTGGTACT.E8_10x21 ACTGTTACACGGGA.E8_10x21 ACTTGGGACTGCTC.E8_10x21 \n"
     ]
    },
    {
     "name": "stderr",
     "output_type": "stream",
     "text": [
      "Warning message in createCellChat(object = data.input, meta = meta, group.by = \"labels\"):\n",
      "“The cell barcodes in 'meta' is different from those in the used data matrix.\n",
      "              We now simply assign the colnames in the data matrix to the rownames of 'mata'!”\n",
      "Warning message in createCellChat(object = data.input, meta = meta, group.by = \"labels\"):\n",
      "“The 'meta' data does not have a column named `samples`. We now add this column and all cells are assumed to belong to `sample1`!”\n"
     ]
    },
    {
     "name": "stdout",
     "output_type": "stream",
     "text": [
      "Set cell identities for the new CellChat object \n",
      "The cell groups used for CellChat analysis are  Ectoderm - Ectodermal Placode, Ectoderm - Surface Ectoderm, Mesenchyme - Frontonasal Mesenchyme, Mesenchyme - Maxillary Mesenchyme, Mesenchyme - Neural Crest \n",
      "The number of highly variable ligand-receptor pairs used for signaling inference is 726 \n",
      "[1] 73.40322\n",
      "triMean is used for calculating the average gene expression per cell group. \n",
      "[1] \">>> Run CellChat on sc/snRNA-seq data <<< [2024-12-04 14:12:38.945596]\"\n",
      "[1] \">>> CellChat inference is done. Parameter values are stored in `object@options$parameter` <<< [2024-12-04 14:19:51.99552]\"\n"
     ]
    },
    {
     "name": "stderr",
     "output_type": "stream",
     "text": [
      "Warning message:\n",
      "“UNRELIABLE VALUE: One of the ‘future.apply’ iterations (‘future_sapply-1’) unexpectedly generated random numbers without declaring so. There is a risk that those random numbers are not statistically sound and the overall results might be invalid. To fix this, specify 'future.seed=TRUE'. This ensures that proper, parallel-safe random numbers are produced via the L'Ecuyer-CMRG method. To disable this check, use 'future.seed = NULL', or set option 'future.rng.onMisuse' to \"ignore\".”\n",
      "Warning message:\n",
      "“UNRELIABLE VALUE: One of the ‘future.apply’ iterations (‘future_sapply-2’) unexpectedly generated random numbers without declaring so. There is a risk that those random numbers are not statistically sound and the overall results might be invalid. To fix this, specify 'future.seed=TRUE'. This ensures that proper, parallel-safe random numbers are produced via the L'Ecuyer-CMRG method. To disable this check, use 'future.seed = NULL', or set option 'future.rng.onMisuse' to \"ignore\".”\n",
      "Warning message:\n",
      "“UNRELIABLE VALUE: One of the ‘future.apply’ iterations (‘future_sapply-3’) unexpectedly generated random numbers without declaring so. There is a risk that those random numbers are not statistically sound and the overall results might be invalid. To fix this, specify 'future.seed=TRUE'. This ensures that proper, parallel-safe random numbers are produced via the L'Ecuyer-CMRG method. To disable this check, use 'future.seed = NULL', or set option 'future.rng.onMisuse' to \"ignore\".”\n",
      "Warning message:\n",
      "“UNRELIABLE VALUE: One of the ‘future.apply’ iterations (‘future_sapply-4’) unexpectedly generated random numbers without declaring so. There is a risk that those random numbers are not statistically sound and the overall results might be invalid. To fix this, specify 'future.seed=TRUE'. This ensures that proper, parallel-safe random numbers are produced via the L'Ecuyer-CMRG method. To disable this check, use 'future.seed = NULL', or set option 'future.rng.onMisuse' to \"ignore\".”\n",
      "Warning message:\n",
      "“UNRELIABLE VALUE: One of the ‘future.apply’ iterations (‘future_sapply-5’) unexpectedly generated random numbers without declaring so. There is a risk that those random numbers are not statistically sound and the overall results might be invalid. To fix this, specify 'future.seed=TRUE'. This ensures that proper, parallel-safe random numbers are produced via the L'Ecuyer-CMRG method. To disable this check, use 'future.seed = NULL', or set option 'future.rng.onMisuse' to \"ignore\".”\n",
      "Warning message:\n",
      "“UNRELIABLE VALUE: One of the ‘future.apply’ iterations (‘future_sapply-6’) unexpectedly generated random numbers without declaring so. There is a risk that those random numbers are not statistically sound and the overall results might be invalid. To fix this, specify 'future.seed=TRUE'. This ensures that proper, parallel-safe random numbers are produced via the L'Ecuyer-CMRG method. To disable this check, use 'future.seed = NULL', or set option 'future.rng.onMisuse' to \"ignore\".”\n",
      "Warning message:\n",
      "“UNRELIABLE VALUE: One of the ‘future.apply’ iterations (‘future_sapply-7’) unexpectedly generated random numbers without declaring so. There is a risk that those random numbers are not statistically sound and the overall results might be invalid. To fix this, specify 'future.seed=TRUE'. This ensures that proper, parallel-safe random numbers are produced via the L'Ecuyer-CMRG method. To disable this check, use 'future.seed = NULL', or set option 'future.rng.onMisuse' to \"ignore\".”\n",
      "Warning message:\n",
      "“UNRELIABLE VALUE: One of the ‘future.apply’ iterations (‘future_sapply-8’) unexpectedly generated random numbers without declaring so. There is a risk that those random numbers are not statistically sound and the overall results might be invalid. To fix this, specify 'future.seed=TRUE'. This ensures that proper, parallel-safe random numbers are produced via the L'Ecuyer-CMRG method. To disable this check, use 'future.seed = NULL', or set option 'future.rng.onMisuse' to \"ignore\".”\n",
      "Warning message:\n",
      "“UNRELIABLE VALUE: One of the ‘future.apply’ iterations (‘future_sapply-9’) unexpectedly generated random numbers without declaring so. There is a risk that those random numbers are not statistically sound and the overall results might be invalid. To fix this, specify 'future.seed=TRUE'. This ensures that proper, parallel-safe random numbers are produced via the L'Ecuyer-CMRG method. To disable this check, use 'future.seed = NULL', or set option 'future.rng.onMisuse' to \"ignore\".”\n",
      "Warning message:\n",
      "“UNRELIABLE VALUE: One of the ‘future.apply’ iterations (‘future_sapply-10’) unexpectedly generated random numbers without declaring so. There is a risk that those random numbers are not statistically sound and the overall results might be invalid. To fix this, specify 'future.seed=TRUE'. This ensures that proper, parallel-safe random numbers are produced via the L'Ecuyer-CMRG method. To disable this check, use 'future.seed = NULL', or set option 'future.rng.onMisuse' to \"ignore\".”\n",
      "Warning message:\n",
      "“UNRELIABLE VALUE: One of the ‘future.apply’ iterations (‘future_sapply-11’) unexpectedly generated random numbers without declaring so. There is a risk that those random numbers are not statistically sound and the overall results might be invalid. To fix this, specify 'future.seed=TRUE'. This ensures that proper, parallel-safe random numbers are produced via the L'Ecuyer-CMRG method. To disable this check, use 'future.seed = NULL', or set option 'future.rng.onMisuse' to \"ignore\".”\n",
      "Warning message:\n",
      "“UNRELIABLE VALUE: One of the ‘future.apply’ iterations (‘future_sapply-12’) unexpectedly generated random numbers without declaring so. There is a risk that those random numbers are not statistically sound and the overall results might be invalid. To fix this, specify 'future.seed=TRUE'. This ensures that proper, parallel-safe random numbers are produced via the L'Ecuyer-CMRG method. To disable this check, use 'future.seed = NULL', or set option 'future.rng.onMisuse' to \"ignore\".”\n",
      "Warning message:\n",
      "“UNRELIABLE VALUE: One of the ‘future.apply’ iterations (‘future_sapply-13’) unexpectedly generated random numbers without declaring so. There is a risk that those random numbers are not statistically sound and the overall results might be invalid. To fix this, specify 'future.seed=TRUE'. This ensures that proper, parallel-safe random numbers are produced via the L'Ecuyer-CMRG method. To disable this check, use 'future.seed = NULL', or set option 'future.rng.onMisuse' to \"ignore\".”\n",
      "Warning message:\n",
      "“UNRELIABLE VALUE: One of the ‘future.apply’ iterations (‘future_sapply-14’) unexpectedly generated random numbers without declaring so. There is a risk that those random numbers are not statistically sound and the overall results might be invalid. To fix this, specify 'future.seed=TRUE'. This ensures that proper, parallel-safe random numbers are produced via the L'Ecuyer-CMRG method. To disable this check, use 'future.seed = NULL', or set option 'future.rng.onMisuse' to \"ignore\".”\n",
      "Warning message:\n",
      "“UNRELIABLE VALUE: One of the ‘future.apply’ iterations (‘future_sapply-15’) unexpectedly generated random numbers without declaring so. There is a risk that those random numbers are not statistically sound and the overall results might be invalid. To fix this, specify 'future.seed=TRUE'. This ensures that proper, parallel-safe random numbers are produced via the L'Ecuyer-CMRG method. To disable this check, use 'future.seed = NULL', or set option 'future.rng.onMisuse' to \"ignore\".”\n",
      "Warning message:\n",
      "“UNRELIABLE VALUE: One of the ‘future.apply’ iterations (‘future_sapply-16’) unexpectedly generated random numbers without declaring so. There is a risk that those random numbers are not statistically sound and the overall results might be invalid. To fix this, specify 'future.seed=TRUE'. This ensures that proper, parallel-safe random numbers are produced via the L'Ecuyer-CMRG method. To disable this check, use 'future.seed = NULL', or set option 'future.rng.onMisuse' to \"ignore\".”\n"
     ]
    },
    {
     "name": "stdout",
     "output_type": "stream",
     "text": [
      "[1] \"Create a CellChat object from a data matrix\"\n",
      "The cell barcodes in 'meta' is  AAACGGCTCTGACA.E8_10x21 AATTGATGACCCTC.E8_10x21 ACCTATTGTGCAGT.E8_10x21 ACTGGCCTGGTACT.E8_10x21 ACTGTTACACGGGA.E8_10x21 ACTTGGGACTGCTC.E8_10x21 \n"
     ]
    },
    {
     "name": "stderr",
     "output_type": "stream",
     "text": [
      "Warning message in createCellChat(object = data.input, meta = meta, group.by = \"labels\"):\n",
      "“The cell barcodes in 'meta' is different from those in the used data matrix.\n",
      "              We now simply assign the colnames in the data matrix to the rownames of 'mata'!”\n",
      "Warning message in createCellChat(object = data.input, meta = meta, group.by = \"labels\"):\n",
      "“The 'meta' data does not have a column named `samples`. We now add this column and all cells are assumed to belong to `sample1`!”\n"
     ]
    },
    {
     "name": "stdout",
     "output_type": "stream",
     "text": [
      "Set cell identities for the new CellChat object \n",
      "The cell groups used for CellChat analysis are  Ectoderm - Ectodermal Placode, Ectoderm - Surface Ectoderm, Mesenchyme - Delaminating Neural Crest, Mesenchyme - Frontonasal Mesenchyme, Mesenchyme - Id1- Dlx2+ glia?, Mesenchyme - Maxillary Mesenchyme, Mesenchyme - Migrating Neural Crest \n",
      "The number of highly variable ligand-receptor pairs used for signaling inference is 759 \n",
      "[1] 72.21335\n",
      "triMean is used for calculating the average gene expression per cell group. \n",
      "[1] \">>> Run CellChat on sc/snRNA-seq data <<< [2024-12-04 14:21:23.106833]\"\n",
      "[1] \">>> CellChat inference is done. Parameter values are stored in `object@options$parameter` <<< [2024-12-04 14:29:30.997559]\"\n"
     ]
    },
    {
     "name": "stderr",
     "output_type": "stream",
     "text": [
      "Warning message:\n",
      "“UNRELIABLE VALUE: One of the ‘future.apply’ iterations (‘future_sapply-1’) unexpectedly generated random numbers without declaring so. There is a risk that those random numbers are not statistically sound and the overall results might be invalid. To fix this, specify 'future.seed=TRUE'. This ensures that proper, parallel-safe random numbers are produced via the L'Ecuyer-CMRG method. To disable this check, use 'future.seed = NULL', or set option 'future.rng.onMisuse' to \"ignore\".”\n",
      "Warning message:\n",
      "“UNRELIABLE VALUE: One of the ‘future.apply’ iterations (‘future_sapply-2’) unexpectedly generated random numbers without declaring so. There is a risk that those random numbers are not statistically sound and the overall results might be invalid. To fix this, specify 'future.seed=TRUE'. This ensures that proper, parallel-safe random numbers are produced via the L'Ecuyer-CMRG method. To disable this check, use 'future.seed = NULL', or set option 'future.rng.onMisuse' to \"ignore\".”\n",
      "Warning message:\n",
      "“UNRELIABLE VALUE: One of the ‘future.apply’ iterations (‘future_sapply-3’) unexpectedly generated random numbers without declaring so. There is a risk that those random numbers are not statistically sound and the overall results might be invalid. To fix this, specify 'future.seed=TRUE'. This ensures that proper, parallel-safe random numbers are produced via the L'Ecuyer-CMRG method. To disable this check, use 'future.seed = NULL', or set option 'future.rng.onMisuse' to \"ignore\".”\n",
      "Warning message:\n",
      "“UNRELIABLE VALUE: One of the ‘future.apply’ iterations (‘future_sapply-4’) unexpectedly generated random numbers without declaring so. There is a risk that those random numbers are not statistically sound and the overall results might be invalid. To fix this, specify 'future.seed=TRUE'. This ensures that proper, parallel-safe random numbers are produced via the L'Ecuyer-CMRG method. To disable this check, use 'future.seed = NULL', or set option 'future.rng.onMisuse' to \"ignore\".”\n",
      "Warning message:\n",
      "“UNRELIABLE VALUE: One of the ‘future.apply’ iterations (‘future_sapply-5’) unexpectedly generated random numbers without declaring so. There is a risk that those random numbers are not statistically sound and the overall results might be invalid. To fix this, specify 'future.seed=TRUE'. This ensures that proper, parallel-safe random numbers are produced via the L'Ecuyer-CMRG method. To disable this check, use 'future.seed = NULL', or set option 'future.rng.onMisuse' to \"ignore\".”\n",
      "Warning message:\n",
      "“UNRELIABLE VALUE: One of the ‘future.apply’ iterations (‘future_sapply-6’) unexpectedly generated random numbers without declaring so. There is a risk that those random numbers are not statistically sound and the overall results might be invalid. To fix this, specify 'future.seed=TRUE'. This ensures that proper, parallel-safe random numbers are produced via the L'Ecuyer-CMRG method. To disable this check, use 'future.seed = NULL', or set option 'future.rng.onMisuse' to \"ignore\".”\n",
      "Warning message:\n",
      "“UNRELIABLE VALUE: One of the ‘future.apply’ iterations (‘future_sapply-7’) unexpectedly generated random numbers without declaring so. There is a risk that those random numbers are not statistically sound and the overall results might be invalid. To fix this, specify 'future.seed=TRUE'. This ensures that proper, parallel-safe random numbers are produced via the L'Ecuyer-CMRG method. To disable this check, use 'future.seed = NULL', or set option 'future.rng.onMisuse' to \"ignore\".”\n",
      "Warning message:\n",
      "“UNRELIABLE VALUE: One of the ‘future.apply’ iterations (‘future_sapply-8’) unexpectedly generated random numbers without declaring so. There is a risk that those random numbers are not statistically sound and the overall results might be invalid. To fix this, specify 'future.seed=TRUE'. This ensures that proper, parallel-safe random numbers are produced via the L'Ecuyer-CMRG method. To disable this check, use 'future.seed = NULL', or set option 'future.rng.onMisuse' to \"ignore\".”\n",
      "Warning message:\n",
      "“UNRELIABLE VALUE: One of the ‘future.apply’ iterations (‘future_sapply-9’) unexpectedly generated random numbers without declaring so. There is a risk that those random numbers are not statistically sound and the overall results might be invalid. To fix this, specify 'future.seed=TRUE'. This ensures that proper, parallel-safe random numbers are produced via the L'Ecuyer-CMRG method. To disable this check, use 'future.seed = NULL', or set option 'future.rng.onMisuse' to \"ignore\".”\n",
      "Warning message:\n",
      "“UNRELIABLE VALUE: One of the ‘future.apply’ iterations (‘future_sapply-10’) unexpectedly generated random numbers without declaring so. There is a risk that those random numbers are not statistically sound and the overall results might be invalid. To fix this, specify 'future.seed=TRUE'. This ensures that proper, parallel-safe random numbers are produced via the L'Ecuyer-CMRG method. To disable this check, use 'future.seed = NULL', or set option 'future.rng.onMisuse' to \"ignore\".”\n",
      "Warning message:\n",
      "“UNRELIABLE VALUE: One of the ‘future.apply’ iterations (‘future_sapply-11’) unexpectedly generated random numbers without declaring so. There is a risk that those random numbers are not statistically sound and the overall results might be invalid. To fix this, specify 'future.seed=TRUE'. This ensures that proper, parallel-safe random numbers are produced via the L'Ecuyer-CMRG method. To disable this check, use 'future.seed = NULL', or set option 'future.rng.onMisuse' to \"ignore\".”\n",
      "Warning message:\n",
      "“UNRELIABLE VALUE: One of the ‘future.apply’ iterations (‘future_sapply-12’) unexpectedly generated random numbers without declaring so. There is a risk that those random numbers are not statistically sound and the overall results might be invalid. To fix this, specify 'future.seed=TRUE'. This ensures that proper, parallel-safe random numbers are produced via the L'Ecuyer-CMRG method. To disable this check, use 'future.seed = NULL', or set option 'future.rng.onMisuse' to \"ignore\".”\n",
      "Warning message:\n",
      "“UNRELIABLE VALUE: One of the ‘future.apply’ iterations (‘future_sapply-13’) unexpectedly generated random numbers without declaring so. There is a risk that those random numbers are not statistically sound and the overall results might be invalid. To fix this, specify 'future.seed=TRUE'. This ensures that proper, parallel-safe random numbers are produced via the L'Ecuyer-CMRG method. To disable this check, use 'future.seed = NULL', or set option 'future.rng.onMisuse' to \"ignore\".”\n",
      "Warning message:\n",
      "“UNRELIABLE VALUE: One of the ‘future.apply’ iterations (‘future_sapply-14’) unexpectedly generated random numbers without declaring so. There is a risk that those random numbers are not statistically sound and the overall results might be invalid. To fix this, specify 'future.seed=TRUE'. This ensures that proper, parallel-safe random numbers are produced via the L'Ecuyer-CMRG method. To disable this check, use 'future.seed = NULL', or set option 'future.rng.onMisuse' to \"ignore\".”\n",
      "Warning message:\n",
      "“UNRELIABLE VALUE: One of the ‘future.apply’ iterations (‘future_sapply-15’) unexpectedly generated random numbers without declaring so. There is a risk that those random numbers are not statistically sound and the overall results might be invalid. To fix this, specify 'future.seed=TRUE'. This ensures that proper, parallel-safe random numbers are produced via the L'Ecuyer-CMRG method. To disable this check, use 'future.seed = NULL', or set option 'future.rng.onMisuse' to \"ignore\".”\n",
      "Warning message:\n",
      "“UNRELIABLE VALUE: One of the ‘future.apply’ iterations (‘future_sapply-16’) unexpectedly generated random numbers without declaring so. There is a risk that those random numbers are not statistically sound and the overall results might be invalid. To fix this, specify 'future.seed=TRUE'. This ensures that proper, parallel-safe random numbers are produced via the L'Ecuyer-CMRG method. To disable this check, use 'future.seed = NULL', or set option 'future.rng.onMisuse' to \"ignore\".”\n"
     ]
    },
    {
     "name": "stdout",
     "output_type": "stream",
     "text": [
      "[1] \"Create a CellChat object from a data matrix\"\n",
      "The cell barcodes in 'meta' is  AAACGGCTCTGACA.E8_10x21 AATTGATGACCCTC.E8_10x21 ACCTATTGTGCAGT.E8_10x21 ACTGGCCTGGTACT.E8_10x21 ACTGTTACACGGGA.E8_10x21 ACTTGGGACTGCTC.E8_10x21 \n"
     ]
    },
    {
     "name": "stderr",
     "output_type": "stream",
     "text": [
      "Warning message in createCellChat(object = data.input, meta = meta, group.by = \"labels\"):\n",
      "“The cell barcodes in 'meta' is different from those in the used data matrix.\n",
      "              We now simply assign the colnames in the data matrix to the rownames of 'mata'!”\n",
      "Warning message in createCellChat(object = data.input, meta = meta, group.by = \"labels\"):\n",
      "“The 'meta' data does not have a column named `samples`. We now add this column and all cells are assumed to belong to `sample1`!”\n"
     ]
    },
    {
     "name": "stdout",
     "output_type": "stream",
     "text": [
      "Set cell identities for the new CellChat object \n",
      "The cell groups used for CellChat analysis are  Ectoderm - Ectodermal Placode, Ectoderm - Surface Ectoderm, Mesenchyme - FNP Early Mesenchyme, Mesenchyme - MXP Early Mesenchyme, Mesenchyme - Neural Crest \n",
      "The number of highly variable ligand-receptor pairs used for signaling inference is 726 \n",
      "[1] 71.6051\n",
      "triMean is used for calculating the average gene expression per cell group. \n",
      "[1] \">>> Run CellChat on sc/snRNA-seq data <<< [2024-12-04 14:31:01.660366]\"\n",
      "[1] \">>> CellChat inference is done. Parameter values are stored in `object@options$parameter` <<< [2024-12-04 14:38:11.72133]\"\n"
     ]
    },
    {
     "name": "stderr",
     "output_type": "stream",
     "text": [
      "Warning message:\n",
      "“UNRELIABLE VALUE: One of the ‘future.apply’ iterations (‘future_sapply-1’) unexpectedly generated random numbers without declaring so. There is a risk that those random numbers are not statistically sound and the overall results might be invalid. To fix this, specify 'future.seed=TRUE'. This ensures that proper, parallel-safe random numbers are produced via the L'Ecuyer-CMRG method. To disable this check, use 'future.seed = NULL', or set option 'future.rng.onMisuse' to \"ignore\".”\n",
      "Warning message:\n",
      "“UNRELIABLE VALUE: One of the ‘future.apply’ iterations (‘future_sapply-2’) unexpectedly generated random numbers without declaring so. There is a risk that those random numbers are not statistically sound and the overall results might be invalid. To fix this, specify 'future.seed=TRUE'. This ensures that proper, parallel-safe random numbers are produced via the L'Ecuyer-CMRG method. To disable this check, use 'future.seed = NULL', or set option 'future.rng.onMisuse' to \"ignore\".”\n",
      "Warning message:\n",
      "“UNRELIABLE VALUE: One of the ‘future.apply’ iterations (‘future_sapply-3’) unexpectedly generated random numbers without declaring so. There is a risk that those random numbers are not statistically sound and the overall results might be invalid. To fix this, specify 'future.seed=TRUE'. This ensures that proper, parallel-safe random numbers are produced via the L'Ecuyer-CMRG method. To disable this check, use 'future.seed = NULL', or set option 'future.rng.onMisuse' to \"ignore\".”\n",
      "Warning message:\n",
      "“UNRELIABLE VALUE: One of the ‘future.apply’ iterations (‘future_sapply-4’) unexpectedly generated random numbers without declaring so. There is a risk that those random numbers are not statistically sound and the overall results might be invalid. To fix this, specify 'future.seed=TRUE'. This ensures that proper, parallel-safe random numbers are produced via the L'Ecuyer-CMRG method. To disable this check, use 'future.seed = NULL', or set option 'future.rng.onMisuse' to \"ignore\".”\n",
      "Warning message:\n",
      "“UNRELIABLE VALUE: One of the ‘future.apply’ iterations (‘future_sapply-5’) unexpectedly generated random numbers without declaring so. There is a risk that those random numbers are not statistically sound and the overall results might be invalid. To fix this, specify 'future.seed=TRUE'. This ensures that proper, parallel-safe random numbers are produced via the L'Ecuyer-CMRG method. To disable this check, use 'future.seed = NULL', or set option 'future.rng.onMisuse' to \"ignore\".”\n",
      "Warning message:\n",
      "“UNRELIABLE VALUE: One of the ‘future.apply’ iterations (‘future_sapply-6’) unexpectedly generated random numbers without declaring so. There is a risk that those random numbers are not statistically sound and the overall results might be invalid. To fix this, specify 'future.seed=TRUE'. This ensures that proper, parallel-safe random numbers are produced via the L'Ecuyer-CMRG method. To disable this check, use 'future.seed = NULL', or set option 'future.rng.onMisuse' to \"ignore\".”\n",
      "Warning message:\n",
      "“UNRELIABLE VALUE: One of the ‘future.apply’ iterations (‘future_sapply-7’) unexpectedly generated random numbers without declaring so. There is a risk that those random numbers are not statistically sound and the overall results might be invalid. To fix this, specify 'future.seed=TRUE'. This ensures that proper, parallel-safe random numbers are produced via the L'Ecuyer-CMRG method. To disable this check, use 'future.seed = NULL', or set option 'future.rng.onMisuse' to \"ignore\".”\n",
      "Warning message:\n",
      "“UNRELIABLE VALUE: One of the ‘future.apply’ iterations (‘future_sapply-8’) unexpectedly generated random numbers without declaring so. There is a risk that those random numbers are not statistically sound and the overall results might be invalid. To fix this, specify 'future.seed=TRUE'. This ensures that proper, parallel-safe random numbers are produced via the L'Ecuyer-CMRG method. To disable this check, use 'future.seed = NULL', or set option 'future.rng.onMisuse' to \"ignore\".”\n",
      "Warning message:\n",
      "“UNRELIABLE VALUE: One of the ‘future.apply’ iterations (‘future_sapply-9’) unexpectedly generated random numbers without declaring so. There is a risk that those random numbers are not statistically sound and the overall results might be invalid. To fix this, specify 'future.seed=TRUE'. This ensures that proper, parallel-safe random numbers are produced via the L'Ecuyer-CMRG method. To disable this check, use 'future.seed = NULL', or set option 'future.rng.onMisuse' to \"ignore\".”\n",
      "Warning message:\n",
      "“UNRELIABLE VALUE: One of the ‘future.apply’ iterations (‘future_sapply-10’) unexpectedly generated random numbers without declaring so. There is a risk that those random numbers are not statistically sound and the overall results might be invalid. To fix this, specify 'future.seed=TRUE'. This ensures that proper, parallel-safe random numbers are produced via the L'Ecuyer-CMRG method. To disable this check, use 'future.seed = NULL', or set option 'future.rng.onMisuse' to \"ignore\".”\n",
      "Warning message:\n",
      "“UNRELIABLE VALUE: One of the ‘future.apply’ iterations (‘future_sapply-11’) unexpectedly generated random numbers without declaring so. There is a risk that those random numbers are not statistically sound and the overall results might be invalid. To fix this, specify 'future.seed=TRUE'. This ensures that proper, parallel-safe random numbers are produced via the L'Ecuyer-CMRG method. To disable this check, use 'future.seed = NULL', or set option 'future.rng.onMisuse' to \"ignore\".”\n",
      "Warning message:\n",
      "“UNRELIABLE VALUE: One of the ‘future.apply’ iterations (‘future_sapply-12’) unexpectedly generated random numbers without declaring so. There is a risk that those random numbers are not statistically sound and the overall results might be invalid. To fix this, specify 'future.seed=TRUE'. This ensures that proper, parallel-safe random numbers are produced via the L'Ecuyer-CMRG method. To disable this check, use 'future.seed = NULL', or set option 'future.rng.onMisuse' to \"ignore\".”\n",
      "Warning message:\n",
      "“UNRELIABLE VALUE: One of the ‘future.apply’ iterations (‘future_sapply-13’) unexpectedly generated random numbers without declaring so. There is a risk that those random numbers are not statistically sound and the overall results might be invalid. To fix this, specify 'future.seed=TRUE'. This ensures that proper, parallel-safe random numbers are produced via the L'Ecuyer-CMRG method. To disable this check, use 'future.seed = NULL', or set option 'future.rng.onMisuse' to \"ignore\".”\n",
      "Warning message:\n",
      "“UNRELIABLE VALUE: One of the ‘future.apply’ iterations (‘future_sapply-14’) unexpectedly generated random numbers without declaring so. There is a risk that those random numbers are not statistically sound and the overall results might be invalid. To fix this, specify 'future.seed=TRUE'. This ensures that proper, parallel-safe random numbers are produced via the L'Ecuyer-CMRG method. To disable this check, use 'future.seed = NULL', or set option 'future.rng.onMisuse' to \"ignore\".”\n",
      "Warning message:\n",
      "“UNRELIABLE VALUE: One of the ‘future.apply’ iterations (‘future_sapply-15’) unexpectedly generated random numbers without declaring so. There is a risk that those random numbers are not statistically sound and the overall results might be invalid. To fix this, specify 'future.seed=TRUE'. This ensures that proper, parallel-safe random numbers are produced via the L'Ecuyer-CMRG method. To disable this check, use 'future.seed = NULL', or set option 'future.rng.onMisuse' to \"ignore\".”\n",
      "Warning message:\n",
      "“UNRELIABLE VALUE: One of the ‘future.apply’ iterations (‘future_sapply-16’) unexpectedly generated random numbers without declaring so. There is a risk that those random numbers are not statistically sound and the overall results might be invalid. To fix this, specify 'future.seed=TRUE'. This ensures that proper, parallel-safe random numbers are produced via the L'Ecuyer-CMRG method. To disable this check, use 'future.seed = NULL', or set option 'future.rng.onMisuse' to \"ignore\".”\n"
     ]
    },
    {
     "name": "stdout",
     "output_type": "stream",
     "text": [
      "[1] \"Create a CellChat object from a data matrix\"\n",
      "The cell barcodes in 'meta' is  AAACATTGGTCGAT.E9_10x25 AACCTTACTTCATC.E9_10x25 AAGATGGAGGCGAA.E9_10x25 AAGTGCACTAGCCA.E9_10x25 AATCTCACGAGACG.E9_10x25 AATTACGATTTGTC.E9_10x25 \n"
     ]
    },
    {
     "name": "stderr",
     "output_type": "stream",
     "text": [
      "Warning message in createCellChat(object = data.input, meta = meta, group.by = \"labels\"):\n",
      "“The cell barcodes in 'meta' is different from those in the used data matrix.\n",
      "              We now simply assign the colnames in the data matrix to the rownames of 'mata'!”\n",
      "Warning message in createCellChat(object = data.input, meta = meta, group.by = \"labels\"):\n",
      "“The 'meta' data does not have a column named `samples`. We now add this column and all cells are assumed to belong to `sample1`!”\n"
     ]
    },
    {
     "name": "stdout",
     "output_type": "stream",
     "text": [
      "Set cell identities for the new CellChat object \n",
      "The cell groups used for CellChat analysis are  Ectoderm - Ectodermal Placode, Ectoderm - Midfacial Ectoderm, Ectoderm - Surface Ectoderm, Mesenchyme - Frontonasal Mesenchyme, Mesenchyme - Maxillary Mesenchyme \n",
      "The number of highly variable ligand-receptor pairs used for signaling inference is 578 \n",
      "[1] 62.8752\n",
      "triMean is used for calculating the average gene expression per cell group. \n",
      "[1] \">>> Run CellChat on sc/snRNA-seq data <<< [2024-12-04 14:39:34.581923]\"\n",
      "[1] \">>> CellChat inference is done. Parameter values are stored in `object@options$parameter` <<< [2024-12-04 14:53:26.435002]\"\n"
     ]
    },
    {
     "name": "stderr",
     "output_type": "stream",
     "text": [
      "Warning message:\n",
      "“UNRELIABLE VALUE: One of the ‘future.apply’ iterations (‘future_sapply-1’) unexpectedly generated random numbers without declaring so. There is a risk that those random numbers are not statistically sound and the overall results might be invalid. To fix this, specify 'future.seed=TRUE'. This ensures that proper, parallel-safe random numbers are produced via the L'Ecuyer-CMRG method. To disable this check, use 'future.seed = NULL', or set option 'future.rng.onMisuse' to \"ignore\".”\n",
      "Warning message:\n",
      "“UNRELIABLE VALUE: One of the ‘future.apply’ iterations (‘future_sapply-2’) unexpectedly generated random numbers without declaring so. There is a risk that those random numbers are not statistically sound and the overall results might be invalid. To fix this, specify 'future.seed=TRUE'. This ensures that proper, parallel-safe random numbers are produced via the L'Ecuyer-CMRG method. To disable this check, use 'future.seed = NULL', or set option 'future.rng.onMisuse' to \"ignore\".”\n",
      "Warning message:\n",
      "“UNRELIABLE VALUE: One of the ‘future.apply’ iterations (‘future_sapply-3’) unexpectedly generated random numbers without declaring so. There is a risk that those random numbers are not statistically sound and the overall results might be invalid. To fix this, specify 'future.seed=TRUE'. This ensures that proper, parallel-safe random numbers are produced via the L'Ecuyer-CMRG method. To disable this check, use 'future.seed = NULL', or set option 'future.rng.onMisuse' to \"ignore\".”\n",
      "Warning message:\n",
      "“UNRELIABLE VALUE: One of the ‘future.apply’ iterations (‘future_sapply-4’) unexpectedly generated random numbers without declaring so. There is a risk that those random numbers are not statistically sound and the overall results might be invalid. To fix this, specify 'future.seed=TRUE'. This ensures that proper, parallel-safe random numbers are produced via the L'Ecuyer-CMRG method. To disable this check, use 'future.seed = NULL', or set option 'future.rng.onMisuse' to \"ignore\".”\n",
      "Warning message:\n",
      "“UNRELIABLE VALUE: One of the ‘future.apply’ iterations (‘future_sapply-5’) unexpectedly generated random numbers without declaring so. There is a risk that those random numbers are not statistically sound and the overall results might be invalid. To fix this, specify 'future.seed=TRUE'. This ensures that proper, parallel-safe random numbers are produced via the L'Ecuyer-CMRG method. To disable this check, use 'future.seed = NULL', or set option 'future.rng.onMisuse' to \"ignore\".”\n",
      "Warning message:\n",
      "“UNRELIABLE VALUE: One of the ‘future.apply’ iterations (‘future_sapply-6’) unexpectedly generated random numbers without declaring so. There is a risk that those random numbers are not statistically sound and the overall results might be invalid. To fix this, specify 'future.seed=TRUE'. This ensures that proper, parallel-safe random numbers are produced via the L'Ecuyer-CMRG method. To disable this check, use 'future.seed = NULL', or set option 'future.rng.onMisuse' to \"ignore\".”\n",
      "Warning message:\n",
      "“UNRELIABLE VALUE: One of the ‘future.apply’ iterations (‘future_sapply-7’) unexpectedly generated random numbers without declaring so. There is a risk that those random numbers are not statistically sound and the overall results might be invalid. To fix this, specify 'future.seed=TRUE'. This ensures that proper, parallel-safe random numbers are produced via the L'Ecuyer-CMRG method. To disable this check, use 'future.seed = NULL', or set option 'future.rng.onMisuse' to \"ignore\".”\n",
      "Warning message:\n",
      "“UNRELIABLE VALUE: One of the ‘future.apply’ iterations (‘future_sapply-8’) unexpectedly generated random numbers without declaring so. There is a risk that those random numbers are not statistically sound and the overall results might be invalid. To fix this, specify 'future.seed=TRUE'. This ensures that proper, parallel-safe random numbers are produced via the L'Ecuyer-CMRG method. To disable this check, use 'future.seed = NULL', or set option 'future.rng.onMisuse' to \"ignore\".”\n",
      "Warning message:\n",
      "“UNRELIABLE VALUE: One of the ‘future.apply’ iterations (‘future_sapply-9’) unexpectedly generated random numbers without declaring so. There is a risk that those random numbers are not statistically sound and the overall results might be invalid. To fix this, specify 'future.seed=TRUE'. This ensures that proper, parallel-safe random numbers are produced via the L'Ecuyer-CMRG method. To disable this check, use 'future.seed = NULL', or set option 'future.rng.onMisuse' to \"ignore\".”\n",
      "Warning message:\n",
      "“UNRELIABLE VALUE: One of the ‘future.apply’ iterations (‘future_sapply-10’) unexpectedly generated random numbers without declaring so. There is a risk that those random numbers are not statistically sound and the overall results might be invalid. To fix this, specify 'future.seed=TRUE'. This ensures that proper, parallel-safe random numbers are produced via the L'Ecuyer-CMRG method. To disable this check, use 'future.seed = NULL', or set option 'future.rng.onMisuse' to \"ignore\".”\n",
      "Warning message:\n",
      "“UNRELIABLE VALUE: One of the ‘future.apply’ iterations (‘future_sapply-11’) unexpectedly generated random numbers without declaring so. There is a risk that those random numbers are not statistically sound and the overall results might be invalid. To fix this, specify 'future.seed=TRUE'. This ensures that proper, parallel-safe random numbers are produced via the L'Ecuyer-CMRG method. To disable this check, use 'future.seed = NULL', or set option 'future.rng.onMisuse' to \"ignore\".”\n",
      "Warning message:\n",
      "“UNRELIABLE VALUE: One of the ‘future.apply’ iterations (‘future_sapply-12’) unexpectedly generated random numbers without declaring so. There is a risk that those random numbers are not statistically sound and the overall results might be invalid. To fix this, specify 'future.seed=TRUE'. This ensures that proper, parallel-safe random numbers are produced via the L'Ecuyer-CMRG method. To disable this check, use 'future.seed = NULL', or set option 'future.rng.onMisuse' to \"ignore\".”\n",
      "Warning message:\n",
      "“UNRELIABLE VALUE: One of the ‘future.apply’ iterations (‘future_sapply-13’) unexpectedly generated random numbers without declaring so. There is a risk that those random numbers are not statistically sound and the overall results might be invalid. To fix this, specify 'future.seed=TRUE'. This ensures that proper, parallel-safe random numbers are produced via the L'Ecuyer-CMRG method. To disable this check, use 'future.seed = NULL', or set option 'future.rng.onMisuse' to \"ignore\".”\n",
      "Warning message:\n",
      "“UNRELIABLE VALUE: One of the ‘future.apply’ iterations (‘future_sapply-14’) unexpectedly generated random numbers without declaring so. There is a risk that those random numbers are not statistically sound and the overall results might be invalid. To fix this, specify 'future.seed=TRUE'. This ensures that proper, parallel-safe random numbers are produced via the L'Ecuyer-CMRG method. To disable this check, use 'future.seed = NULL', or set option 'future.rng.onMisuse' to \"ignore\".”\n",
      "Warning message:\n",
      "“UNRELIABLE VALUE: One of the ‘future.apply’ iterations (‘future_sapply-15’) unexpectedly generated random numbers without declaring so. There is a risk that those random numbers are not statistically sound and the overall results might be invalid. To fix this, specify 'future.seed=TRUE'. This ensures that proper, parallel-safe random numbers are produced via the L'Ecuyer-CMRG method. To disable this check, use 'future.seed = NULL', or set option 'future.rng.onMisuse' to \"ignore\".”\n",
      "Warning message:\n",
      "“UNRELIABLE VALUE: One of the ‘future.apply’ iterations (‘future_sapply-16’) unexpectedly generated random numbers without declaring so. There is a risk that those random numbers are not statistically sound and the overall results might be invalid. To fix this, specify 'future.seed=TRUE'. This ensures that proper, parallel-safe random numbers are produced via the L'Ecuyer-CMRG method. To disable this check, use 'future.seed = NULL', or set option 'future.rng.onMisuse' to \"ignore\".”\n"
     ]
    },
    {
     "name": "stdout",
     "output_type": "stream",
     "text": [
      "[1] \"Create a CellChat object from a data matrix\"\n",
      "The cell barcodes in 'meta' is  AAACATTGGTCGAT.E9_10x25 AACCTTACTTCATC.E9_10x25 AAGATGGAGGCGAA.E9_10x25 AAGTGCACTAGCCA.E9_10x25 AATCTCACGAGACG.E9_10x25 AATTACGATTTGTC.E9_10x25 \n"
     ]
    },
    {
     "name": "stderr",
     "output_type": "stream",
     "text": [
      "Warning message in createCellChat(object = data.input, meta = meta, group.by = \"labels\"):\n",
      "“The cell barcodes in 'meta' is different from those in the used data matrix.\n",
      "              We now simply assign the colnames in the data matrix to the rownames of 'mata'!”\n",
      "Warning message in createCellChat(object = data.input, meta = meta, group.by = \"labels\"):\n",
      "“The 'meta' data does not have a column named `samples`. We now add this column and all cells are assumed to belong to `sample1`!”\n"
     ]
    },
    {
     "name": "stdout",
     "output_type": "stream",
     "text": [
      "Set cell identities for the new CellChat object \n",
      "The cell groups used for CellChat analysis are  Ectoderm - Ectodermal Placode, Ectoderm - Midfacial Ectoderm, Ectoderm - Surface Ectoderm, Mesenchyme - Frontonasal Mesenchyme, Mesenchyme - Maxillary Mesenchyme, Mesenchyme - Prrx2+ Gata3+ ? \n",
      "The number of highly variable ligand-receptor pairs used for signaling inference is 614 \n",
      "[1] 62.39079\n",
      "triMean is used for calculating the average gene expression per cell group. \n",
      "[1] \">>> Run CellChat on sc/snRNA-seq data <<< [2024-12-04 14:54:49.862748]\"\n",
      "[1] \">>> CellChat inference is done. Parameter values are stored in `object@options$parameter` <<< [2024-12-04 15:10:41.414297]\"\n"
     ]
    },
    {
     "name": "stderr",
     "output_type": "stream",
     "text": [
      "Warning message:\n",
      "“UNRELIABLE VALUE: One of the ‘future.apply’ iterations (‘future_sapply-1’) unexpectedly generated random numbers without declaring so. There is a risk that those random numbers are not statistically sound and the overall results might be invalid. To fix this, specify 'future.seed=TRUE'. This ensures that proper, parallel-safe random numbers are produced via the L'Ecuyer-CMRG method. To disable this check, use 'future.seed = NULL', or set option 'future.rng.onMisuse' to \"ignore\".”\n",
      "Warning message:\n",
      "“UNRELIABLE VALUE: One of the ‘future.apply’ iterations (‘future_sapply-2’) unexpectedly generated random numbers without declaring so. There is a risk that those random numbers are not statistically sound and the overall results might be invalid. To fix this, specify 'future.seed=TRUE'. This ensures that proper, parallel-safe random numbers are produced via the L'Ecuyer-CMRG method. To disable this check, use 'future.seed = NULL', or set option 'future.rng.onMisuse' to \"ignore\".”\n",
      "Warning message:\n",
      "“UNRELIABLE VALUE: One of the ‘future.apply’ iterations (‘future_sapply-3’) unexpectedly generated random numbers without declaring so. There is a risk that those random numbers are not statistically sound and the overall results might be invalid. To fix this, specify 'future.seed=TRUE'. This ensures that proper, parallel-safe random numbers are produced via the L'Ecuyer-CMRG method. To disable this check, use 'future.seed = NULL', or set option 'future.rng.onMisuse' to \"ignore\".”\n",
      "Warning message:\n",
      "“UNRELIABLE VALUE: One of the ‘future.apply’ iterations (‘future_sapply-4’) unexpectedly generated random numbers without declaring so. There is a risk that those random numbers are not statistically sound and the overall results might be invalid. To fix this, specify 'future.seed=TRUE'. This ensures that proper, parallel-safe random numbers are produced via the L'Ecuyer-CMRG method. To disable this check, use 'future.seed = NULL', or set option 'future.rng.onMisuse' to \"ignore\".”\n",
      "Warning message:\n",
      "“UNRELIABLE VALUE: One of the ‘future.apply’ iterations (‘future_sapply-5’) unexpectedly generated random numbers without declaring so. There is a risk that those random numbers are not statistically sound and the overall results might be invalid. To fix this, specify 'future.seed=TRUE'. This ensures that proper, parallel-safe random numbers are produced via the L'Ecuyer-CMRG method. To disable this check, use 'future.seed = NULL', or set option 'future.rng.onMisuse' to \"ignore\".”\n",
      "Warning message:\n",
      "“UNRELIABLE VALUE: One of the ‘future.apply’ iterations (‘future_sapply-6’) unexpectedly generated random numbers without declaring so. There is a risk that those random numbers are not statistically sound and the overall results might be invalid. To fix this, specify 'future.seed=TRUE'. This ensures that proper, parallel-safe random numbers are produced via the L'Ecuyer-CMRG method. To disable this check, use 'future.seed = NULL', or set option 'future.rng.onMisuse' to \"ignore\".”\n",
      "Warning message:\n",
      "“UNRELIABLE VALUE: One of the ‘future.apply’ iterations (‘future_sapply-7’) unexpectedly generated random numbers without declaring so. There is a risk that those random numbers are not statistically sound and the overall results might be invalid. To fix this, specify 'future.seed=TRUE'. This ensures that proper, parallel-safe random numbers are produced via the L'Ecuyer-CMRG method. To disable this check, use 'future.seed = NULL', or set option 'future.rng.onMisuse' to \"ignore\".”\n",
      "Warning message:\n",
      "“UNRELIABLE VALUE: One of the ‘future.apply’ iterations (‘future_sapply-8’) unexpectedly generated random numbers without declaring so. There is a risk that those random numbers are not statistically sound and the overall results might be invalid. To fix this, specify 'future.seed=TRUE'. This ensures that proper, parallel-safe random numbers are produced via the L'Ecuyer-CMRG method. To disable this check, use 'future.seed = NULL', or set option 'future.rng.onMisuse' to \"ignore\".”\n",
      "Warning message:\n",
      "“UNRELIABLE VALUE: One of the ‘future.apply’ iterations (‘future_sapply-9’) unexpectedly generated random numbers without declaring so. There is a risk that those random numbers are not statistically sound and the overall results might be invalid. To fix this, specify 'future.seed=TRUE'. This ensures that proper, parallel-safe random numbers are produced via the L'Ecuyer-CMRG method. To disable this check, use 'future.seed = NULL', or set option 'future.rng.onMisuse' to \"ignore\".”\n",
      "Warning message:\n",
      "“UNRELIABLE VALUE: One of the ‘future.apply’ iterations (‘future_sapply-10’) unexpectedly generated random numbers without declaring so. There is a risk that those random numbers are not statistically sound and the overall results might be invalid. To fix this, specify 'future.seed=TRUE'. This ensures that proper, parallel-safe random numbers are produced via the L'Ecuyer-CMRG method. To disable this check, use 'future.seed = NULL', or set option 'future.rng.onMisuse' to \"ignore\".”\n",
      "Warning message:\n",
      "“UNRELIABLE VALUE: One of the ‘future.apply’ iterations (‘future_sapply-11’) unexpectedly generated random numbers without declaring so. There is a risk that those random numbers are not statistically sound and the overall results might be invalid. To fix this, specify 'future.seed=TRUE'. This ensures that proper, parallel-safe random numbers are produced via the L'Ecuyer-CMRG method. To disable this check, use 'future.seed = NULL', or set option 'future.rng.onMisuse' to \"ignore\".”\n",
      "Warning message:\n",
      "“UNRELIABLE VALUE: One of the ‘future.apply’ iterations (‘future_sapply-12’) unexpectedly generated random numbers without declaring so. There is a risk that those random numbers are not statistically sound and the overall results might be invalid. To fix this, specify 'future.seed=TRUE'. This ensures that proper, parallel-safe random numbers are produced via the L'Ecuyer-CMRG method. To disable this check, use 'future.seed = NULL', or set option 'future.rng.onMisuse' to \"ignore\".”\n",
      "Warning message:\n",
      "“UNRELIABLE VALUE: One of the ‘future.apply’ iterations (‘future_sapply-13’) unexpectedly generated random numbers without declaring so. There is a risk that those random numbers are not statistically sound and the overall results might be invalid. To fix this, specify 'future.seed=TRUE'. This ensures that proper, parallel-safe random numbers are produced via the L'Ecuyer-CMRG method. To disable this check, use 'future.seed = NULL', or set option 'future.rng.onMisuse' to \"ignore\".”\n",
      "Warning message:\n",
      "“UNRELIABLE VALUE: One of the ‘future.apply’ iterations (‘future_sapply-14’) unexpectedly generated random numbers without declaring so. There is a risk that those random numbers are not statistically sound and the overall results might be invalid. To fix this, specify 'future.seed=TRUE'. This ensures that proper, parallel-safe random numbers are produced via the L'Ecuyer-CMRG method. To disable this check, use 'future.seed = NULL', or set option 'future.rng.onMisuse' to \"ignore\".”\n",
      "Warning message:\n",
      "“UNRELIABLE VALUE: One of the ‘future.apply’ iterations (‘future_sapply-15’) unexpectedly generated random numbers without declaring so. There is a risk that those random numbers are not statistically sound and the overall results might be invalid. To fix this, specify 'future.seed=TRUE'. This ensures that proper, parallel-safe random numbers are produced via the L'Ecuyer-CMRG method. To disable this check, use 'future.seed = NULL', or set option 'future.rng.onMisuse' to \"ignore\".”\n",
      "Warning message:\n",
      "“UNRELIABLE VALUE: One of the ‘future.apply’ iterations (‘future_sapply-16’) unexpectedly generated random numbers without declaring so. There is a risk that those random numbers are not statistically sound and the overall results might be invalid. To fix this, specify 'future.seed=TRUE'. This ensures that proper, parallel-safe random numbers are produced via the L'Ecuyer-CMRG method. To disable this check, use 'future.seed = NULL', or set option 'future.rng.onMisuse' to \"ignore\".”\n"
     ]
    },
    {
     "name": "stdout",
     "output_type": "stream",
     "text": [
      "[1] \"Create a CellChat object from a data matrix\"\n",
      "The cell barcodes in 'meta' is  AAACATTGGTCGAT.E9_10x25 AACCTTACTTCATC.E9_10x25 AAGATGGAGGCGAA.E9_10x25 AAGTGCACTAGCCA.E9_10x25 AATCTCACGAGACG.E9_10x25 AATTACGATTTGTC.E9_10x25 \n"
     ]
    },
    {
     "name": "stderr",
     "output_type": "stream",
     "text": [
      "Warning message in createCellChat(object = data.input, meta = meta, group.by = \"labels\"):\n",
      "“The cell barcodes in 'meta' is different from those in the used data matrix.\n",
      "              We now simply assign the colnames in the data matrix to the rownames of 'mata'!”\n",
      "Warning message in createCellChat(object = data.input, meta = meta, group.by = \"labels\"):\n",
      "“The 'meta' data does not have a column named `samples`. We now add this column and all cells are assumed to belong to `sample1`!”\n"
     ]
    },
    {
     "name": "stdout",
     "output_type": "stream",
     "text": [
      "Set cell identities for the new CellChat object \n",
      "The cell groups used for CellChat analysis are  Ectoderm - Ectodermal Placode, Ectoderm - Midfacial Ectoderm, Ectoderm - Surface Ectoderm, Mesenchyme - FNP Early Mesenchyme, Mesenchyme - MXP Early Mesenchyme \n",
      "The number of highly variable ligand-receptor pairs used for signaling inference is 578 \n",
      "[1] 62.6622\n",
      "triMean is used for calculating the average gene expression per cell group. \n",
      "[1] \">>> Run CellChat on sc/snRNA-seq data <<< [2024-12-04 15:12:02.109602]\"\n",
      "[1] \">>> CellChat inference is done. Parameter values are stored in `object@options$parameter` <<< [2024-12-04 15:25:54.531103]\"\n"
     ]
    },
    {
     "name": "stderr",
     "output_type": "stream",
     "text": [
      "Warning message:\n",
      "“UNRELIABLE VALUE: One of the ‘future.apply’ iterations (‘future_sapply-1’) unexpectedly generated random numbers without declaring so. There is a risk that those random numbers are not statistically sound and the overall results might be invalid. To fix this, specify 'future.seed=TRUE'. This ensures that proper, parallel-safe random numbers are produced via the L'Ecuyer-CMRG method. To disable this check, use 'future.seed = NULL', or set option 'future.rng.onMisuse' to \"ignore\".”\n",
      "Warning message:\n",
      "“UNRELIABLE VALUE: One of the ‘future.apply’ iterations (‘future_sapply-2’) unexpectedly generated random numbers without declaring so. There is a risk that those random numbers are not statistically sound and the overall results might be invalid. To fix this, specify 'future.seed=TRUE'. This ensures that proper, parallel-safe random numbers are produced via the L'Ecuyer-CMRG method. To disable this check, use 'future.seed = NULL', or set option 'future.rng.onMisuse' to \"ignore\".”\n",
      "Warning message:\n",
      "“UNRELIABLE VALUE: One of the ‘future.apply’ iterations (‘future_sapply-3’) unexpectedly generated random numbers without declaring so. There is a risk that those random numbers are not statistically sound and the overall results might be invalid. To fix this, specify 'future.seed=TRUE'. This ensures that proper, parallel-safe random numbers are produced via the L'Ecuyer-CMRG method. To disable this check, use 'future.seed = NULL', or set option 'future.rng.onMisuse' to \"ignore\".”\n",
      "Warning message:\n",
      "“UNRELIABLE VALUE: One of the ‘future.apply’ iterations (‘future_sapply-4’) unexpectedly generated random numbers without declaring so. There is a risk that those random numbers are not statistically sound and the overall results might be invalid. To fix this, specify 'future.seed=TRUE'. This ensures that proper, parallel-safe random numbers are produced via the L'Ecuyer-CMRG method. To disable this check, use 'future.seed = NULL', or set option 'future.rng.onMisuse' to \"ignore\".”\n",
      "Warning message:\n",
      "“UNRELIABLE VALUE: One of the ‘future.apply’ iterations (‘future_sapply-5’) unexpectedly generated random numbers without declaring so. There is a risk that those random numbers are not statistically sound and the overall results might be invalid. To fix this, specify 'future.seed=TRUE'. This ensures that proper, parallel-safe random numbers are produced via the L'Ecuyer-CMRG method. To disable this check, use 'future.seed = NULL', or set option 'future.rng.onMisuse' to \"ignore\".”\n",
      "Warning message:\n",
      "“UNRELIABLE VALUE: One of the ‘future.apply’ iterations (‘future_sapply-6’) unexpectedly generated random numbers without declaring so. There is a risk that those random numbers are not statistically sound and the overall results might be invalid. To fix this, specify 'future.seed=TRUE'. This ensures that proper, parallel-safe random numbers are produced via the L'Ecuyer-CMRG method. To disable this check, use 'future.seed = NULL', or set option 'future.rng.onMisuse' to \"ignore\".”\n",
      "Warning message:\n",
      "“UNRELIABLE VALUE: One of the ‘future.apply’ iterations (‘future_sapply-7’) unexpectedly generated random numbers without declaring so. There is a risk that those random numbers are not statistically sound and the overall results might be invalid. To fix this, specify 'future.seed=TRUE'. This ensures that proper, parallel-safe random numbers are produced via the L'Ecuyer-CMRG method. To disable this check, use 'future.seed = NULL', or set option 'future.rng.onMisuse' to \"ignore\".”\n",
      "Warning message:\n",
      "“UNRELIABLE VALUE: One of the ‘future.apply’ iterations (‘future_sapply-8’) unexpectedly generated random numbers without declaring so. There is a risk that those random numbers are not statistically sound and the overall results might be invalid. To fix this, specify 'future.seed=TRUE'. This ensures that proper, parallel-safe random numbers are produced via the L'Ecuyer-CMRG method. To disable this check, use 'future.seed = NULL', or set option 'future.rng.onMisuse' to \"ignore\".”\n",
      "Warning message:\n",
      "“UNRELIABLE VALUE: One of the ‘future.apply’ iterations (‘future_sapply-9’) unexpectedly generated random numbers without declaring so. There is a risk that those random numbers are not statistically sound and the overall results might be invalid. To fix this, specify 'future.seed=TRUE'. This ensures that proper, parallel-safe random numbers are produced via the L'Ecuyer-CMRG method. To disable this check, use 'future.seed = NULL', or set option 'future.rng.onMisuse' to \"ignore\".”\n",
      "Warning message:\n",
      "“UNRELIABLE VALUE: One of the ‘future.apply’ iterations (‘future_sapply-10’) unexpectedly generated random numbers without declaring so. There is a risk that those random numbers are not statistically sound and the overall results might be invalid. To fix this, specify 'future.seed=TRUE'. This ensures that proper, parallel-safe random numbers are produced via the L'Ecuyer-CMRG method. To disable this check, use 'future.seed = NULL', or set option 'future.rng.onMisuse' to \"ignore\".”\n",
      "Warning message:\n",
      "“UNRELIABLE VALUE: One of the ‘future.apply’ iterations (‘future_sapply-11’) unexpectedly generated random numbers without declaring so. There is a risk that those random numbers are not statistically sound and the overall results might be invalid. To fix this, specify 'future.seed=TRUE'. This ensures that proper, parallel-safe random numbers are produced via the L'Ecuyer-CMRG method. To disable this check, use 'future.seed = NULL', or set option 'future.rng.onMisuse' to \"ignore\".”\n",
      "Warning message:\n",
      "“UNRELIABLE VALUE: One of the ‘future.apply’ iterations (‘future_sapply-12’) unexpectedly generated random numbers without declaring so. There is a risk that those random numbers are not statistically sound and the overall results might be invalid. To fix this, specify 'future.seed=TRUE'. This ensures that proper, parallel-safe random numbers are produced via the L'Ecuyer-CMRG method. To disable this check, use 'future.seed = NULL', or set option 'future.rng.onMisuse' to \"ignore\".”\n",
      "Warning message:\n",
      "“UNRELIABLE VALUE: One of the ‘future.apply’ iterations (‘future_sapply-13’) unexpectedly generated random numbers without declaring so. There is a risk that those random numbers are not statistically sound and the overall results might be invalid. To fix this, specify 'future.seed=TRUE'. This ensures that proper, parallel-safe random numbers are produced via the L'Ecuyer-CMRG method. To disable this check, use 'future.seed = NULL', or set option 'future.rng.onMisuse' to \"ignore\".”\n",
      "Warning message:\n",
      "“UNRELIABLE VALUE: One of the ‘future.apply’ iterations (‘future_sapply-14’) unexpectedly generated random numbers without declaring so. There is a risk that those random numbers are not statistically sound and the overall results might be invalid. To fix this, specify 'future.seed=TRUE'. This ensures that proper, parallel-safe random numbers are produced via the L'Ecuyer-CMRG method. To disable this check, use 'future.seed = NULL', or set option 'future.rng.onMisuse' to \"ignore\".”\n",
      "Warning message:\n",
      "“UNRELIABLE VALUE: One of the ‘future.apply’ iterations (‘future_sapply-15’) unexpectedly generated random numbers without declaring so. There is a risk that those random numbers are not statistically sound and the overall results might be invalid. To fix this, specify 'future.seed=TRUE'. This ensures that proper, parallel-safe random numbers are produced via the L'Ecuyer-CMRG method. To disable this check, use 'future.seed = NULL', or set option 'future.rng.onMisuse' to \"ignore\".”\n",
      "Warning message:\n",
      "“UNRELIABLE VALUE: One of the ‘future.apply’ iterations (‘future_sapply-16’) unexpectedly generated random numbers without declaring so. There is a risk that those random numbers are not statistically sound and the overall results might be invalid. To fix this, specify 'future.seed=TRUE'. This ensures that proper, parallel-safe random numbers are produced via the L'Ecuyer-CMRG method. To disable this check, use 'future.seed = NULL', or set option 'future.rng.onMisuse' to \"ignore\".”\n"
     ]
    },
    {
     "name": "stdout",
     "output_type": "stream",
     "text": [
      "[1] \"Create a CellChat object from a data matrix\"\n",
      "The cell barcodes in 'meta' is  AAAGATCTCACCAA.E10_10x58 AAAGCCTGCTTCTA.E10_10x58 AACAATACTCGTTT.E10_10x58 AACAGAGAGAATCC.E10_10x58 AACCCAGAGAAAGT.E10_10x58 AACGCCCTGATACC.E10_10x58 \n"
     ]
    },
    {
     "name": "stderr",
     "output_type": "stream",
     "text": [
      "Warning message in createCellChat(object = data.input, meta = meta, group.by = \"labels\"):\n",
      "“The cell barcodes in 'meta' is different from those in the used data matrix.\n",
      "              We now simply assign the colnames in the data matrix to the rownames of 'mata'!”\n",
      "Warning message in createCellChat(object = data.input, meta = meta, group.by = \"labels\"):\n",
      "“The 'meta' data does not have a column named `samples`. We now add this column and all cells are assumed to belong to `sample1`!”\n"
     ]
    },
    {
     "name": "stdout",
     "output_type": "stream",
     "text": [
      "Set cell identities for the new CellChat object \n",
      "The cell groups used for CellChat analysis are  Ectoderm - Committed Neuronal Progenitors, Ectoderm - Dental Epithelium, Ectoderm - Dorsomedial Olfactory Epithelium, Ectoderm - Olfactory Pit Rim - Six1, Ectoderm - Olfactory Pit Rim - Wnt6, Ectoderm - Palate Epithelium, Ectoderm - Surface Ectoderm, Ectoderm - Ventral Olfactory Epithelium, Mesenchyme - Anterior MxP, Mesenchyme - Dorsal NP, Mesenchyme - Lateral NP, Mesenchyme - Medial NP, Mesenchyme - Posterior MxP \n",
      "The number of highly variable ligand-receptor pairs used for signaling inference is 1317 \n",
      "[1] 80.46293\n",
      "triMean is used for calculating the average gene expression per cell group. \n",
      "[1] \">>> Run CellChat on sc/snRNA-seq data <<< [2024-12-04 15:27:39.436813]\"\n",
      "[1] \">>> CellChat inference is done. Parameter values are stored in `object@options$parameter` <<< [2024-12-04 17:14:50.722999]\"\n"
     ]
    },
    {
     "name": "stderr",
     "output_type": "stream",
     "text": [
      "Warning message:\n",
      "“UNRELIABLE VALUE: One of the ‘future.apply’ iterations (‘future_sapply-1’) unexpectedly generated random numbers without declaring so. There is a risk that those random numbers are not statistically sound and the overall results might be invalid. To fix this, specify 'future.seed=TRUE'. This ensures that proper, parallel-safe random numbers are produced via the L'Ecuyer-CMRG method. To disable this check, use 'future.seed = NULL', or set option 'future.rng.onMisuse' to \"ignore\".”\n",
      "Warning message:\n",
      "“UNRELIABLE VALUE: One of the ‘future.apply’ iterations (‘future_sapply-2’) unexpectedly generated random numbers without declaring so. There is a risk that those random numbers are not statistically sound and the overall results might be invalid. To fix this, specify 'future.seed=TRUE'. This ensures that proper, parallel-safe random numbers are produced via the L'Ecuyer-CMRG method. To disable this check, use 'future.seed = NULL', or set option 'future.rng.onMisuse' to \"ignore\".”\n",
      "Warning message:\n",
      "“UNRELIABLE VALUE: One of the ‘future.apply’ iterations (‘future_sapply-3’) unexpectedly generated random numbers without declaring so. There is a risk that those random numbers are not statistically sound and the overall results might be invalid. To fix this, specify 'future.seed=TRUE'. This ensures that proper, parallel-safe random numbers are produced via the L'Ecuyer-CMRG method. To disable this check, use 'future.seed = NULL', or set option 'future.rng.onMisuse' to \"ignore\".”\n",
      "Warning message:\n",
      "“UNRELIABLE VALUE: One of the ‘future.apply’ iterations (‘future_sapply-4’) unexpectedly generated random numbers without declaring so. There is a risk that those random numbers are not statistically sound and the overall results might be invalid. To fix this, specify 'future.seed=TRUE'. This ensures that proper, parallel-safe random numbers are produced via the L'Ecuyer-CMRG method. To disable this check, use 'future.seed = NULL', or set option 'future.rng.onMisuse' to \"ignore\".”\n",
      "Warning message:\n",
      "“UNRELIABLE VALUE: One of the ‘future.apply’ iterations (‘future_sapply-5’) unexpectedly generated random numbers without declaring so. There is a risk that those random numbers are not statistically sound and the overall results might be invalid. To fix this, specify 'future.seed=TRUE'. This ensures that proper, parallel-safe random numbers are produced via the L'Ecuyer-CMRG method. To disable this check, use 'future.seed = NULL', or set option 'future.rng.onMisuse' to \"ignore\".”\n",
      "Warning message:\n",
      "“UNRELIABLE VALUE: One of the ‘future.apply’ iterations (‘future_sapply-6’) unexpectedly generated random numbers without declaring so. There is a risk that those random numbers are not statistically sound and the overall results might be invalid. To fix this, specify 'future.seed=TRUE'. This ensures that proper, parallel-safe random numbers are produced via the L'Ecuyer-CMRG method. To disable this check, use 'future.seed = NULL', or set option 'future.rng.onMisuse' to \"ignore\".”\n",
      "Warning message:\n",
      "“UNRELIABLE VALUE: One of the ‘future.apply’ iterations (‘future_sapply-7’) unexpectedly generated random numbers without declaring so. There is a risk that those random numbers are not statistically sound and the overall results might be invalid. To fix this, specify 'future.seed=TRUE'. This ensures that proper, parallel-safe random numbers are produced via the L'Ecuyer-CMRG method. To disable this check, use 'future.seed = NULL', or set option 'future.rng.onMisuse' to \"ignore\".”\n",
      "Warning message:\n",
      "“UNRELIABLE VALUE: One of the ‘future.apply’ iterations (‘future_sapply-8’) unexpectedly generated random numbers without declaring so. There is a risk that those random numbers are not statistically sound and the overall results might be invalid. To fix this, specify 'future.seed=TRUE'. This ensures that proper, parallel-safe random numbers are produced via the L'Ecuyer-CMRG method. To disable this check, use 'future.seed = NULL', or set option 'future.rng.onMisuse' to \"ignore\".”\n",
      "Warning message:\n",
      "“UNRELIABLE VALUE: One of the ‘future.apply’ iterations (‘future_sapply-9’) unexpectedly generated random numbers without declaring so. There is a risk that those random numbers are not statistically sound and the overall results might be invalid. To fix this, specify 'future.seed=TRUE'. This ensures that proper, parallel-safe random numbers are produced via the L'Ecuyer-CMRG method. To disable this check, use 'future.seed = NULL', or set option 'future.rng.onMisuse' to \"ignore\".”\n",
      "Warning message:\n",
      "“UNRELIABLE VALUE: One of the ‘future.apply’ iterations (‘future_sapply-10’) unexpectedly generated random numbers without declaring so. There is a risk that those random numbers are not statistically sound and the overall results might be invalid. To fix this, specify 'future.seed=TRUE'. This ensures that proper, parallel-safe random numbers are produced via the L'Ecuyer-CMRG method. To disable this check, use 'future.seed = NULL', or set option 'future.rng.onMisuse' to \"ignore\".”\n",
      "Warning message:\n",
      "“UNRELIABLE VALUE: One of the ‘future.apply’ iterations (‘future_sapply-11’) unexpectedly generated random numbers without declaring so. There is a risk that those random numbers are not statistically sound and the overall results might be invalid. To fix this, specify 'future.seed=TRUE'. This ensures that proper, parallel-safe random numbers are produced via the L'Ecuyer-CMRG method. To disable this check, use 'future.seed = NULL', or set option 'future.rng.onMisuse' to \"ignore\".”\n",
      "Warning message:\n",
      "“UNRELIABLE VALUE: One of the ‘future.apply’ iterations (‘future_sapply-12’) unexpectedly generated random numbers without declaring so. There is a risk that those random numbers are not statistically sound and the overall results might be invalid. To fix this, specify 'future.seed=TRUE'. This ensures that proper, parallel-safe random numbers are produced via the L'Ecuyer-CMRG method. To disable this check, use 'future.seed = NULL', or set option 'future.rng.onMisuse' to \"ignore\".”\n",
      "Warning message:\n",
      "“UNRELIABLE VALUE: One of the ‘future.apply’ iterations (‘future_sapply-13’) unexpectedly generated random numbers without declaring so. There is a risk that those random numbers are not statistically sound and the overall results might be invalid. To fix this, specify 'future.seed=TRUE'. This ensures that proper, parallel-safe random numbers are produced via the L'Ecuyer-CMRG method. To disable this check, use 'future.seed = NULL', or set option 'future.rng.onMisuse' to \"ignore\".”\n",
      "Warning message:\n",
      "“UNRELIABLE VALUE: One of the ‘future.apply’ iterations (‘future_sapply-14’) unexpectedly generated random numbers without declaring so. There is a risk that those random numbers are not statistically sound and the overall results might be invalid. To fix this, specify 'future.seed=TRUE'. This ensures that proper, parallel-safe random numbers are produced via the L'Ecuyer-CMRG method. To disable this check, use 'future.seed = NULL', or set option 'future.rng.onMisuse' to \"ignore\".”\n",
      "Warning message:\n",
      "“UNRELIABLE VALUE: One of the ‘future.apply’ iterations (‘future_sapply-15’) unexpectedly generated random numbers without declaring so. There is a risk that those random numbers are not statistically sound and the overall results might be invalid. To fix this, specify 'future.seed=TRUE'. This ensures that proper, parallel-safe random numbers are produced via the L'Ecuyer-CMRG method. To disable this check, use 'future.seed = NULL', or set option 'future.rng.onMisuse' to \"ignore\".”\n",
      "Warning message:\n",
      "“UNRELIABLE VALUE: One of the ‘future.apply’ iterations (‘future_sapply-16’) unexpectedly generated random numbers without declaring so. There is a risk that those random numbers are not statistically sound and the overall results might be invalid. To fix this, specify 'future.seed=TRUE'. This ensures that proper, parallel-safe random numbers are produced via the L'Ecuyer-CMRG method. To disable this check, use 'future.seed = NULL', or set option 'future.rng.onMisuse' to \"ignore\".”\n"
     ]
    },
    {
     "name": "stdout",
     "output_type": "stream",
     "text": [
      "[1] \"annotation_combined_fine missing from E10\"\n",
      "[1] \"Create a CellChat object from a data matrix\"\n",
      "The cell barcodes in 'meta' is  AAAGATCTCACCAA.E10_10x58 AAAGCCTGCTTCTA.E10_10x58 AACAATACTCGTTT.E10_10x58 AACAGAGAGAATCC.E10_10x58 AACCCAGAGAAAGT.E10_10x58 AACGCCCTGATACC.E10_10x58 \n"
     ]
    },
    {
     "name": "stderr",
     "output_type": "stream",
     "text": [
      "Warning message in createCellChat(object = data.input, meta = meta, group.by = \"labels\"):\n",
      "“The cell barcodes in 'meta' is different from those in the used data matrix.\n",
      "              We now simply assign the colnames in the data matrix to the rownames of 'mata'!”\n",
      "Warning message in createCellChat(object = data.input, meta = meta, group.by = \"labels\"):\n",
      "“The 'meta' data does not have a column named `samples`. We now add this column and all cells are assumed to belong to `sample1`!”\n"
     ]
    },
    {
     "name": "stdout",
     "output_type": "stream",
     "text": [
      "Set cell identities for the new CellChat object \n",
      "The cell groups used for CellChat analysis are  Ectoderm - Committed Neuronal Progenitors, Ectoderm - Dental Epithelium, Ectoderm - Dorsomedial Olfactory Epithelium, Ectoderm - Olfactory Pit Rim - Six1, Ectoderm - Olfactory Pit Rim - Wnt6, Ectoderm - Palate Epithelium, Ectoderm - Surface Ectoderm, Ectoderm - Ventral Olfactory Epithelium, Mesenchyme - LNP Mesenchyme, Mesenchyme - MNP Mesenchyme, Mesenchyme - MXP Early Mesenchyme \n",
      "The number of highly variable ligand-receptor pairs used for signaling inference is 1223 \n",
      "[1] 80.19196\n",
      "triMean is used for calculating the average gene expression per cell group. \n",
      "[1] \">>> Run CellChat on sc/snRNA-seq data <<< [2024-12-04 17:16:35.337757]\"\n",
      "[1] \">>> CellChat inference is done. Parameter values are stored in `object@options$parameter` <<< [2024-12-04 18:59:34.198818]\"\n"
     ]
    },
    {
     "name": "stderr",
     "output_type": "stream",
     "text": [
      "Warning message:\n",
      "“UNRELIABLE VALUE: One of the ‘future.apply’ iterations (‘future_sapply-1’) unexpectedly generated random numbers without declaring so. There is a risk that those random numbers are not statistically sound and the overall results might be invalid. To fix this, specify 'future.seed=TRUE'. This ensures that proper, parallel-safe random numbers are produced via the L'Ecuyer-CMRG method. To disable this check, use 'future.seed = NULL', or set option 'future.rng.onMisuse' to \"ignore\".”\n",
      "Warning message:\n",
      "“UNRELIABLE VALUE: One of the ‘future.apply’ iterations (‘future_sapply-2’) unexpectedly generated random numbers without declaring so. There is a risk that those random numbers are not statistically sound and the overall results might be invalid. To fix this, specify 'future.seed=TRUE'. This ensures that proper, parallel-safe random numbers are produced via the L'Ecuyer-CMRG method. To disable this check, use 'future.seed = NULL', or set option 'future.rng.onMisuse' to \"ignore\".”\n",
      "Warning message:\n",
      "“UNRELIABLE VALUE: One of the ‘future.apply’ iterations (‘future_sapply-3’) unexpectedly generated random numbers without declaring so. There is a risk that those random numbers are not statistically sound and the overall results might be invalid. To fix this, specify 'future.seed=TRUE'. This ensures that proper, parallel-safe random numbers are produced via the L'Ecuyer-CMRG method. To disable this check, use 'future.seed = NULL', or set option 'future.rng.onMisuse' to \"ignore\".”\n",
      "Warning message:\n",
      "“UNRELIABLE VALUE: One of the ‘future.apply’ iterations (‘future_sapply-4’) unexpectedly generated random numbers without declaring so. There is a risk that those random numbers are not statistically sound and the overall results might be invalid. To fix this, specify 'future.seed=TRUE'. This ensures that proper, parallel-safe random numbers are produced via the L'Ecuyer-CMRG method. To disable this check, use 'future.seed = NULL', or set option 'future.rng.onMisuse' to \"ignore\".”\n",
      "Warning message:\n",
      "“UNRELIABLE VALUE: One of the ‘future.apply’ iterations (‘future_sapply-5’) unexpectedly generated random numbers without declaring so. There is a risk that those random numbers are not statistically sound and the overall results might be invalid. To fix this, specify 'future.seed=TRUE'. This ensures that proper, parallel-safe random numbers are produced via the L'Ecuyer-CMRG method. To disable this check, use 'future.seed = NULL', or set option 'future.rng.onMisuse' to \"ignore\".”\n",
      "Warning message:\n",
      "“UNRELIABLE VALUE: One of the ‘future.apply’ iterations (‘future_sapply-6’) unexpectedly generated random numbers without declaring so. There is a risk that those random numbers are not statistically sound and the overall results might be invalid. To fix this, specify 'future.seed=TRUE'. This ensures that proper, parallel-safe random numbers are produced via the L'Ecuyer-CMRG method. To disable this check, use 'future.seed = NULL', or set option 'future.rng.onMisuse' to \"ignore\".”\n",
      "Warning message:\n",
      "“UNRELIABLE VALUE: One of the ‘future.apply’ iterations (‘future_sapply-7’) unexpectedly generated random numbers without declaring so. There is a risk that those random numbers are not statistically sound and the overall results might be invalid. To fix this, specify 'future.seed=TRUE'. This ensures that proper, parallel-safe random numbers are produced via the L'Ecuyer-CMRG method. To disable this check, use 'future.seed = NULL', or set option 'future.rng.onMisuse' to \"ignore\".”\n",
      "Warning message:\n",
      "“UNRELIABLE VALUE: One of the ‘future.apply’ iterations (‘future_sapply-8’) unexpectedly generated random numbers without declaring so. There is a risk that those random numbers are not statistically sound and the overall results might be invalid. To fix this, specify 'future.seed=TRUE'. This ensures that proper, parallel-safe random numbers are produced via the L'Ecuyer-CMRG method. To disable this check, use 'future.seed = NULL', or set option 'future.rng.onMisuse' to \"ignore\".”\n",
      "Warning message:\n",
      "“UNRELIABLE VALUE: One of the ‘future.apply’ iterations (‘future_sapply-9’) unexpectedly generated random numbers without declaring so. There is a risk that those random numbers are not statistically sound and the overall results might be invalid. To fix this, specify 'future.seed=TRUE'. This ensures that proper, parallel-safe random numbers are produced via the L'Ecuyer-CMRG method. To disable this check, use 'future.seed = NULL', or set option 'future.rng.onMisuse' to \"ignore\".”\n",
      "Warning message:\n",
      "“UNRELIABLE VALUE: One of the ‘future.apply’ iterations (‘future_sapply-10’) unexpectedly generated random numbers without declaring so. There is a risk that those random numbers are not statistically sound and the overall results might be invalid. To fix this, specify 'future.seed=TRUE'. This ensures that proper, parallel-safe random numbers are produced via the L'Ecuyer-CMRG method. To disable this check, use 'future.seed = NULL', or set option 'future.rng.onMisuse' to \"ignore\".”\n",
      "Warning message:\n",
      "“UNRELIABLE VALUE: One of the ‘future.apply’ iterations (‘future_sapply-11’) unexpectedly generated random numbers without declaring so. There is a risk that those random numbers are not statistically sound and the overall results might be invalid. To fix this, specify 'future.seed=TRUE'. This ensures that proper, parallel-safe random numbers are produced via the L'Ecuyer-CMRG method. To disable this check, use 'future.seed = NULL', or set option 'future.rng.onMisuse' to \"ignore\".”\n",
      "Warning message:\n",
      "“UNRELIABLE VALUE: One of the ‘future.apply’ iterations (‘future_sapply-12’) unexpectedly generated random numbers without declaring so. There is a risk that those random numbers are not statistically sound and the overall results might be invalid. To fix this, specify 'future.seed=TRUE'. This ensures that proper, parallel-safe random numbers are produced via the L'Ecuyer-CMRG method. To disable this check, use 'future.seed = NULL', or set option 'future.rng.onMisuse' to \"ignore\".”\n",
      "Warning message:\n",
      "“UNRELIABLE VALUE: One of the ‘future.apply’ iterations (‘future_sapply-13’) unexpectedly generated random numbers without declaring so. There is a risk that those random numbers are not statistically sound and the overall results might be invalid. To fix this, specify 'future.seed=TRUE'. This ensures that proper, parallel-safe random numbers are produced via the L'Ecuyer-CMRG method. To disable this check, use 'future.seed = NULL', or set option 'future.rng.onMisuse' to \"ignore\".”\n",
      "Warning message:\n",
      "“UNRELIABLE VALUE: One of the ‘future.apply’ iterations (‘future_sapply-14’) unexpectedly generated random numbers without declaring so. There is a risk that those random numbers are not statistically sound and the overall results might be invalid. To fix this, specify 'future.seed=TRUE'. This ensures that proper, parallel-safe random numbers are produced via the L'Ecuyer-CMRG method. To disable this check, use 'future.seed = NULL', or set option 'future.rng.onMisuse' to \"ignore\".”\n",
      "Warning message:\n",
      "“UNRELIABLE VALUE: One of the ‘future.apply’ iterations (‘future_sapply-15’) unexpectedly generated random numbers without declaring so. There is a risk that those random numbers are not statistically sound and the overall results might be invalid. To fix this, specify 'future.seed=TRUE'. This ensures that proper, parallel-safe random numbers are produced via the L'Ecuyer-CMRG method. To disable this check, use 'future.seed = NULL', or set option 'future.rng.onMisuse' to \"ignore\".”\n",
      "Warning message:\n",
      "“UNRELIABLE VALUE: One of the ‘future.apply’ iterations (‘future_sapply-16’) unexpectedly generated random numbers without declaring so. There is a risk that those random numbers are not statistically sound and the overall results might be invalid. To fix this, specify 'future.seed=TRUE'. This ensures that proper, parallel-safe random numbers are produced via the L'Ecuyer-CMRG method. To disable this check, use 'future.seed = NULL', or set option 'future.rng.onMisuse' to \"ignore\".”\n"
     ]
    },
    {
     "name": "stdout",
     "output_type": "stream",
     "text": [
      "[1] \"Create a CellChat object from a data matrix\"\n",
      "The cell barcodes in 'meta' is  AAACGCTTCGCTTGCT.11 AAAGGATCAATCGCCG.11 AAAGGGCAGGCAGGGA.11 AAAGGGCAGTGCAAAT.11 AAAGGTAGTCTGCGCA.11 AAAGTCCAGGAACGTC.11 \n"
     ]
    },
    {
     "name": "stderr",
     "output_type": "stream",
     "text": [
      "Warning message in createCellChat(object = data.input, meta = meta, group.by = \"labels\"):\n",
      "“The cell barcodes in 'meta' is different from those in the used data matrix.\n",
      "              We now simply assign the colnames in the data matrix to the rownames of 'mata'!”\n",
      "Warning message in createCellChat(object = data.input, meta = meta, group.by = \"labels\"):\n",
      "“The 'meta' data does not have a column named `samples`. We now add this column and all cells are assumed to belong to `sample1`!”\n"
     ]
    },
    {
     "name": "stdout",
     "output_type": "stream",
     "text": [
      "Set cell identities for the new CellChat object \n",
      "The cell groups used for CellChat analysis are  Ectoderm - Committed Neuronal Progenitors, Ectoderm - Neuronal Progenitors, Ectoderm - Non-neuronal Progenitors, Ectoderm - Olfactory Pit Rim - Six1, Ectoderm - Olfactory Pit Rim - Wnt6, Ectoderm - Oral Ectoderm, Ectoderm - Palate Epithelium, Ectoderm - Periderm, Ectoderm - Respiratory Epithelium, Ectoderm - Surface Ectoderm - Dlx2, Ectoderm - Surface Ectoderm - Gjb6, Ectoderm - Ventral Olfactory Epithelium, Ectoderm - Vomeronasal Organ, Mesenchyme - Dorsal Nasal Cavity, Mesenchyme - LnP - Casz1, Mesenchyme - LnP - Gata2, Mesenchyme - LnP - Irx5, Mesenchyme - MxP - Lhx8, Mesenchyme - Ventral Nasal Cavity, Mesenchyme - aMnP, Mesenchyme - avMnP, Mesenchyme - dMxP, Mesenchyme - lMxP, Mesenchyme - mMnP, Mesenchyme - mMxP, Mesenchyme - pvMnP \n",
      "The number of highly variable ligand-receptor pairs used for signaling inference is 1436 \n",
      "[1] 93.41232\n",
      "triMean is used for calculating the average gene expression per cell group. \n",
      "[1] \">>> Run CellChat on sc/snRNA-seq data <<< [2024-12-04 19:01:48.443632]\"\n",
      "[1] \">>> CellChat inference is done. Parameter values are stored in `object@options$parameter` <<< [2024-12-04 22:45:06.771211]\"\n"
     ]
    },
    {
     "name": "stderr",
     "output_type": "stream",
     "text": [
      "Warning message:\n",
      "“UNRELIABLE VALUE: One of the ‘future.apply’ iterations (‘future_sapply-1’) unexpectedly generated random numbers without declaring so. There is a risk that those random numbers are not statistically sound and the overall results might be invalid. To fix this, specify 'future.seed=TRUE'. This ensures that proper, parallel-safe random numbers are produced via the L'Ecuyer-CMRG method. To disable this check, use 'future.seed = NULL', or set option 'future.rng.onMisuse' to \"ignore\".”\n",
      "Warning message:\n",
      "“UNRELIABLE VALUE: One of the ‘future.apply’ iterations (‘future_sapply-2’) unexpectedly generated random numbers without declaring so. There is a risk that those random numbers are not statistically sound and the overall results might be invalid. To fix this, specify 'future.seed=TRUE'. This ensures that proper, parallel-safe random numbers are produced via the L'Ecuyer-CMRG method. To disable this check, use 'future.seed = NULL', or set option 'future.rng.onMisuse' to \"ignore\".”\n",
      "Warning message:\n",
      "“UNRELIABLE VALUE: One of the ‘future.apply’ iterations (‘future_sapply-3’) unexpectedly generated random numbers without declaring so. There is a risk that those random numbers are not statistically sound and the overall results might be invalid. To fix this, specify 'future.seed=TRUE'. This ensures that proper, parallel-safe random numbers are produced via the L'Ecuyer-CMRG method. To disable this check, use 'future.seed = NULL', or set option 'future.rng.onMisuse' to \"ignore\".”\n",
      "Warning message:\n",
      "“UNRELIABLE VALUE: One of the ‘future.apply’ iterations (‘future_sapply-4’) unexpectedly generated random numbers without declaring so. There is a risk that those random numbers are not statistically sound and the overall results might be invalid. To fix this, specify 'future.seed=TRUE'. This ensures that proper, parallel-safe random numbers are produced via the L'Ecuyer-CMRG method. To disable this check, use 'future.seed = NULL', or set option 'future.rng.onMisuse' to \"ignore\".”\n",
      "Warning message:\n",
      "“UNRELIABLE VALUE: One of the ‘future.apply’ iterations (‘future_sapply-5’) unexpectedly generated random numbers without declaring so. There is a risk that those random numbers are not statistically sound and the overall results might be invalid. To fix this, specify 'future.seed=TRUE'. This ensures that proper, parallel-safe random numbers are produced via the L'Ecuyer-CMRG method. To disable this check, use 'future.seed = NULL', or set option 'future.rng.onMisuse' to \"ignore\".”\n",
      "Warning message:\n",
      "“UNRELIABLE VALUE: One of the ‘future.apply’ iterations (‘future_sapply-6’) unexpectedly generated random numbers without declaring so. There is a risk that those random numbers are not statistically sound and the overall results might be invalid. To fix this, specify 'future.seed=TRUE'. This ensures that proper, parallel-safe random numbers are produced via the L'Ecuyer-CMRG method. To disable this check, use 'future.seed = NULL', or set option 'future.rng.onMisuse' to \"ignore\".”\n",
      "Warning message:\n",
      "“UNRELIABLE VALUE: One of the ‘future.apply’ iterations (‘future_sapply-7’) unexpectedly generated random numbers without declaring so. There is a risk that those random numbers are not statistically sound and the overall results might be invalid. To fix this, specify 'future.seed=TRUE'. This ensures that proper, parallel-safe random numbers are produced via the L'Ecuyer-CMRG method. To disable this check, use 'future.seed = NULL', or set option 'future.rng.onMisuse' to \"ignore\".”\n",
      "Warning message:\n",
      "“UNRELIABLE VALUE: One of the ‘future.apply’ iterations (‘future_sapply-8’) unexpectedly generated random numbers without declaring so. There is a risk that those random numbers are not statistically sound and the overall results might be invalid. To fix this, specify 'future.seed=TRUE'. This ensures that proper, parallel-safe random numbers are produced via the L'Ecuyer-CMRG method. To disable this check, use 'future.seed = NULL', or set option 'future.rng.onMisuse' to \"ignore\".”\n",
      "Warning message:\n",
      "“UNRELIABLE VALUE: One of the ‘future.apply’ iterations (‘future_sapply-9’) unexpectedly generated random numbers without declaring so. There is a risk that those random numbers are not statistically sound and the overall results might be invalid. To fix this, specify 'future.seed=TRUE'. This ensures that proper, parallel-safe random numbers are produced via the L'Ecuyer-CMRG method. To disable this check, use 'future.seed = NULL', or set option 'future.rng.onMisuse' to \"ignore\".”\n",
      "Warning message:\n",
      "“UNRELIABLE VALUE: One of the ‘future.apply’ iterations (‘future_sapply-10’) unexpectedly generated random numbers without declaring so. There is a risk that those random numbers are not statistically sound and the overall results might be invalid. To fix this, specify 'future.seed=TRUE'. This ensures that proper, parallel-safe random numbers are produced via the L'Ecuyer-CMRG method. To disable this check, use 'future.seed = NULL', or set option 'future.rng.onMisuse' to \"ignore\".”\n",
      "Warning message:\n",
      "“UNRELIABLE VALUE: One of the ‘future.apply’ iterations (‘future_sapply-11’) unexpectedly generated random numbers without declaring so. There is a risk that those random numbers are not statistically sound and the overall results might be invalid. To fix this, specify 'future.seed=TRUE'. This ensures that proper, parallel-safe random numbers are produced via the L'Ecuyer-CMRG method. To disable this check, use 'future.seed = NULL', or set option 'future.rng.onMisuse' to \"ignore\".”\n",
      "Warning message:\n",
      "“UNRELIABLE VALUE: One of the ‘future.apply’ iterations (‘future_sapply-12’) unexpectedly generated random numbers without declaring so. There is a risk that those random numbers are not statistically sound and the overall results might be invalid. To fix this, specify 'future.seed=TRUE'. This ensures that proper, parallel-safe random numbers are produced via the L'Ecuyer-CMRG method. To disable this check, use 'future.seed = NULL', or set option 'future.rng.onMisuse' to \"ignore\".”\n",
      "Warning message:\n",
      "“UNRELIABLE VALUE: One of the ‘future.apply’ iterations (‘future_sapply-13’) unexpectedly generated random numbers without declaring so. There is a risk that those random numbers are not statistically sound and the overall results might be invalid. To fix this, specify 'future.seed=TRUE'. This ensures that proper, parallel-safe random numbers are produced via the L'Ecuyer-CMRG method. To disable this check, use 'future.seed = NULL', or set option 'future.rng.onMisuse' to \"ignore\".”\n",
      "Warning message:\n",
      "“UNRELIABLE VALUE: One of the ‘future.apply’ iterations (‘future_sapply-14’) unexpectedly generated random numbers without declaring so. There is a risk that those random numbers are not statistically sound and the overall results might be invalid. To fix this, specify 'future.seed=TRUE'. This ensures that proper, parallel-safe random numbers are produced via the L'Ecuyer-CMRG method. To disable this check, use 'future.seed = NULL', or set option 'future.rng.onMisuse' to \"ignore\".”\n",
      "Warning message:\n",
      "“UNRELIABLE VALUE: One of the ‘future.apply’ iterations (‘future_sapply-15’) unexpectedly generated random numbers without declaring so. There is a risk that those random numbers are not statistically sound and the overall results might be invalid. To fix this, specify 'future.seed=TRUE'. This ensures that proper, parallel-safe random numbers are produced via the L'Ecuyer-CMRG method. To disable this check, use 'future.seed = NULL', or set option 'future.rng.onMisuse' to \"ignore\".”\n",
      "Warning message:\n",
      "“UNRELIABLE VALUE: One of the ‘future.apply’ iterations (‘future_sapply-16’) unexpectedly generated random numbers without declaring so. There is a risk that those random numbers are not statistically sound and the overall results might be invalid. To fix this, specify 'future.seed=TRUE'. This ensures that proper, parallel-safe random numbers are produced via the L'Ecuyer-CMRG method. To disable this check, use 'future.seed = NULL', or set option 'future.rng.onMisuse' to \"ignore\".”\n"
     ]
    },
    {
     "name": "stdout",
     "output_type": "stream",
     "text": [
      "[1] \"Create a CellChat object from a data matrix\"\n",
      "The cell barcodes in 'meta' is  AAACGCTTCGCTTGCT.11 AAAGGATCAATCGCCG.11 AAAGGGCAGGCAGGGA.11 AAAGGGCAGTGCAAAT.11 AAAGGTAGTCTGCGCA.11 AAAGTCCAGGAACGTC.11 \n"
     ]
    },
    {
     "name": "stderr",
     "output_type": "stream",
     "text": [
      "Warning message in createCellChat(object = data.input, meta = meta, group.by = \"labels\"):\n",
      "“The cell barcodes in 'meta' is different from those in the used data matrix.\n",
      "              We now simply assign the colnames in the data matrix to the rownames of 'mata'!”\n",
      "Warning message in createCellChat(object = data.input, meta = meta, group.by = \"labels\"):\n",
      "“The 'meta' data does not have a column named `samples`. We now add this column and all cells are assumed to belong to `sample1`!”\n"
     ]
    },
    {
     "name": "stdout",
     "output_type": "stream",
     "text": [
      "Set cell identities for the new CellChat object \n",
      "The cell groups used for CellChat analysis are  Ectoderm - Committed Neuronal Progenitors, Ectoderm - Immature Neurons, Ectoderm - Neuronal Progenitors, Ectoderm - Non-neuronal Progenitors, Ectoderm - Olfactory Pit Rim, Ectoderm - Oral Ectoderm, Ectoderm - Palate Epithelium, Ectoderm - Periderm, Ectoderm - Respiratory Epithelium, Ectoderm - Surface Ectoderm Dlx1/2 High, Ectoderm - Surface Ectoderm Gjb6/2 High, Ectoderm - Ventral Olfactory Epithelium, Ectoderm - Vomeronasal Organ, Mesenchyme - LnP - Casz1, Mesenchyme - LnP - Irx5, Mesenchyme - LnP - Pax9, Mesenchyme - LnP - Pitx2, Mesenchyme - LnP - Rnf128, Mesenchyme - MxP - Lhx6/Msx2+, Mesenchyme - MxP Lateral/dermal - Bmper, Mesenchyme - MxP Lateral/dermal - Emx2, Mesenchyme - Nasal Cavity - Aldh1a2, Mesenchyme - Nasal Cavity - Gsc, Mesenchyme - Nasal Cavity - Rspo1, Mesenchyme - Nasal Cavity - Tfap2b, Mesenchyme - Posterior MxP/Hinge, Mesenchyme - Presumptive Palate - Ebf2, Mesenchyme - Presumptive Palate - Lhx6/8, Mesenchyme - aMnP, Mesenchyme - amMxP - Cxcl14, Mesenchyme - avMnP, Mesenchyme - avMnP - Inhba+, Mesenchyme - dMxP - Foxl2, Mesenchyme - mMnP - Foxd1, Mesenchyme - mMnP - Foxd1/Kcnmb2, Mesenchyme - pMnP - Foxl/q1, Mesenchyme - pvMnP - Cnmd, Mesenchyme - pvMnP - Vomer \n",
      "The number of highly variable ligand-receptor pairs used for signaling inference is 1450 \n",
      "[1] 93.34172\n",
      "triMean is used for calculating the average gene expression per cell group. \n",
      "[1] \">>> Run CellChat on sc/snRNA-seq data <<< [2024-12-04 22:47:23.726786]\"\n",
      "[1] \">>> CellChat inference is done. Parameter values are stored in `object@options$parameter` <<< [2024-12-05 02:04:01.993179]\"\n",
      "The cell-cell communication related with the following cell groups are excluded due to the few number of cells:  Ectoderm - Immature Neurons ! \t2.7% interactions are removed!\n"
     ]
    },
    {
     "name": "stderr",
     "output_type": "stream",
     "text": [
      "Warning message:\n",
      "“UNRELIABLE VALUE: One of the ‘future.apply’ iterations (‘future_sapply-1’) unexpectedly generated random numbers without declaring so. There is a risk that those random numbers are not statistically sound and the overall results might be invalid. To fix this, specify 'future.seed=TRUE'. This ensures that proper, parallel-safe random numbers are produced via the L'Ecuyer-CMRG method. To disable this check, use 'future.seed = NULL', or set option 'future.rng.onMisuse' to \"ignore\".”\n",
      "Warning message:\n",
      "“UNRELIABLE VALUE: One of the ‘future.apply’ iterations (‘future_sapply-2’) unexpectedly generated random numbers without declaring so. There is a risk that those random numbers are not statistically sound and the overall results might be invalid. To fix this, specify 'future.seed=TRUE'. This ensures that proper, parallel-safe random numbers are produced via the L'Ecuyer-CMRG method. To disable this check, use 'future.seed = NULL', or set option 'future.rng.onMisuse' to \"ignore\".”\n",
      "Warning message:\n",
      "“UNRELIABLE VALUE: One of the ‘future.apply’ iterations (‘future_sapply-3’) unexpectedly generated random numbers without declaring so. There is a risk that those random numbers are not statistically sound and the overall results might be invalid. To fix this, specify 'future.seed=TRUE'. This ensures that proper, parallel-safe random numbers are produced via the L'Ecuyer-CMRG method. To disable this check, use 'future.seed = NULL', or set option 'future.rng.onMisuse' to \"ignore\".”\n",
      "Warning message:\n",
      "“UNRELIABLE VALUE: One of the ‘future.apply’ iterations (‘future_sapply-4’) unexpectedly generated random numbers without declaring so. There is a risk that those random numbers are not statistically sound and the overall results might be invalid. To fix this, specify 'future.seed=TRUE'. This ensures that proper, parallel-safe random numbers are produced via the L'Ecuyer-CMRG method. To disable this check, use 'future.seed = NULL', or set option 'future.rng.onMisuse' to \"ignore\".”\n",
      "Warning message:\n",
      "“UNRELIABLE VALUE: One of the ‘future.apply’ iterations (‘future_sapply-5’) unexpectedly generated random numbers without declaring so. There is a risk that those random numbers are not statistically sound and the overall results might be invalid. To fix this, specify 'future.seed=TRUE'. This ensures that proper, parallel-safe random numbers are produced via the L'Ecuyer-CMRG method. To disable this check, use 'future.seed = NULL', or set option 'future.rng.onMisuse' to \"ignore\".”\n",
      "Warning message:\n",
      "“UNRELIABLE VALUE: One of the ‘future.apply’ iterations (‘future_sapply-6’) unexpectedly generated random numbers without declaring so. There is a risk that those random numbers are not statistically sound and the overall results might be invalid. To fix this, specify 'future.seed=TRUE'. This ensures that proper, parallel-safe random numbers are produced via the L'Ecuyer-CMRG method. To disable this check, use 'future.seed = NULL', or set option 'future.rng.onMisuse' to \"ignore\".”\n",
      "Warning message:\n",
      "“UNRELIABLE VALUE: One of the ‘future.apply’ iterations (‘future_sapply-7’) unexpectedly generated random numbers without declaring so. There is a risk that those random numbers are not statistically sound and the overall results might be invalid. To fix this, specify 'future.seed=TRUE'. This ensures that proper, parallel-safe random numbers are produced via the L'Ecuyer-CMRG method. To disable this check, use 'future.seed = NULL', or set option 'future.rng.onMisuse' to \"ignore\".”\n",
      "Warning message:\n",
      "“UNRELIABLE VALUE: One of the ‘future.apply’ iterations (‘future_sapply-8’) unexpectedly generated random numbers without declaring so. There is a risk that those random numbers are not statistically sound and the overall results might be invalid. To fix this, specify 'future.seed=TRUE'. This ensures that proper, parallel-safe random numbers are produced via the L'Ecuyer-CMRG method. To disable this check, use 'future.seed = NULL', or set option 'future.rng.onMisuse' to \"ignore\".”\n",
      "Warning message:\n",
      "“UNRELIABLE VALUE: One of the ‘future.apply’ iterations (‘future_sapply-9’) unexpectedly generated random numbers without declaring so. There is a risk that those random numbers are not statistically sound and the overall results might be invalid. To fix this, specify 'future.seed=TRUE'. This ensures that proper, parallel-safe random numbers are produced via the L'Ecuyer-CMRG method. To disable this check, use 'future.seed = NULL', or set option 'future.rng.onMisuse' to \"ignore\".”\n",
      "Warning message:\n",
      "“UNRELIABLE VALUE: One of the ‘future.apply’ iterations (‘future_sapply-10’) unexpectedly generated random numbers without declaring so. There is a risk that those random numbers are not statistically sound and the overall results might be invalid. To fix this, specify 'future.seed=TRUE'. This ensures that proper, parallel-safe random numbers are produced via the L'Ecuyer-CMRG method. To disable this check, use 'future.seed = NULL', or set option 'future.rng.onMisuse' to \"ignore\".”\n",
      "Warning message:\n",
      "“UNRELIABLE VALUE: One of the ‘future.apply’ iterations (‘future_sapply-11’) unexpectedly generated random numbers without declaring so. There is a risk that those random numbers are not statistically sound and the overall results might be invalid. To fix this, specify 'future.seed=TRUE'. This ensures that proper, parallel-safe random numbers are produced via the L'Ecuyer-CMRG method. To disable this check, use 'future.seed = NULL', or set option 'future.rng.onMisuse' to \"ignore\".”\n",
      "Warning message:\n",
      "“UNRELIABLE VALUE: One of the ‘future.apply’ iterations (‘future_sapply-12’) unexpectedly generated random numbers without declaring so. There is a risk that those random numbers are not statistically sound and the overall results might be invalid. To fix this, specify 'future.seed=TRUE'. This ensures that proper, parallel-safe random numbers are produced via the L'Ecuyer-CMRG method. To disable this check, use 'future.seed = NULL', or set option 'future.rng.onMisuse' to \"ignore\".”\n",
      "Warning message:\n",
      "“UNRELIABLE VALUE: One of the ‘future.apply’ iterations (‘future_sapply-13’) unexpectedly generated random numbers without declaring so. There is a risk that those random numbers are not statistically sound and the overall results might be invalid. To fix this, specify 'future.seed=TRUE'. This ensures that proper, parallel-safe random numbers are produced via the L'Ecuyer-CMRG method. To disable this check, use 'future.seed = NULL', or set option 'future.rng.onMisuse' to \"ignore\".”\n",
      "Warning message:\n",
      "“UNRELIABLE VALUE: One of the ‘future.apply’ iterations (‘future_sapply-14’) unexpectedly generated random numbers without declaring so. There is a risk that those random numbers are not statistically sound and the overall results might be invalid. To fix this, specify 'future.seed=TRUE'. This ensures that proper, parallel-safe random numbers are produced via the L'Ecuyer-CMRG method. To disable this check, use 'future.seed = NULL', or set option 'future.rng.onMisuse' to \"ignore\".”\n",
      "Warning message:\n",
      "“UNRELIABLE VALUE: One of the ‘future.apply’ iterations (‘future_sapply-15’) unexpectedly generated random numbers without declaring so. There is a risk that those random numbers are not statistically sound and the overall results might be invalid. To fix this, specify 'future.seed=TRUE'. This ensures that proper, parallel-safe random numbers are produced via the L'Ecuyer-CMRG method. To disable this check, use 'future.seed = NULL', or set option 'future.rng.onMisuse' to \"ignore\".”\n",
      "Warning message:\n",
      "“UNRELIABLE VALUE: One of the ‘future.apply’ iterations (‘future_sapply-16’) unexpectedly generated random numbers without declaring so. There is a risk that those random numbers are not statistically sound and the overall results might be invalid. To fix this, specify 'future.seed=TRUE'. This ensures that proper, parallel-safe random numbers are produced via the L'Ecuyer-CMRG method. To disable this check, use 'future.seed = NULL', or set option 'future.rng.onMisuse' to \"ignore\".”\n"
     ]
    },
    {
     "name": "stdout",
     "output_type": "stream",
     "text": [
      "[1] \"Create a CellChat object from a data matrix\"\n",
      "The cell barcodes in 'meta' is  AAACGCTTCGCTTGCT.11 AAAGGATCAATCGCCG.11 AAAGGGCAGGCAGGGA.11 AAAGGGCAGTGCAAAT.11 AAAGGTAGTCTGCGCA.11 AAAGTCCAGGAACGTC.11 \n"
     ]
    },
    {
     "name": "stderr",
     "output_type": "stream",
     "text": [
      "Warning message in createCellChat(object = data.input, meta = meta, group.by = \"labels\"):\n",
      "“The cell barcodes in 'meta' is different from those in the used data matrix.\n",
      "              We now simply assign the colnames in the data matrix to the rownames of 'mata'!”\n",
      "Warning message in createCellChat(object = data.input, meta = meta, group.by = \"labels\"):\n",
      "“The 'meta' data does not have a column named `samples`. We now add this column and all cells are assumed to belong to `sample1`!”\n"
     ]
    },
    {
     "name": "stdout",
     "output_type": "stream",
     "text": [
      "Set cell identities for the new CellChat object \n",
      "The cell groups used for CellChat analysis are  Ectoderm - Committed Neuronal Progenitors, Ectoderm - Neuronal Progenitors, Ectoderm - Non-neuronal Progenitors, Ectoderm - Olfactory Pit Rim - Six1, Ectoderm - Olfactory Pit Rim - Wnt6, Ectoderm - Oral Ectoderm, Ectoderm - Palate Epithelium, Ectoderm - Periderm, Ectoderm - Respiratory Epithelium, Ectoderm - Surface Ectoderm - Dlx2, Ectoderm - Surface Ectoderm - Gjb6, Ectoderm - Ventral Olfactory Epithelium, Ectoderm - Vomeronasal Organ, Mesenchyme - LNP Mesenchyme, Mesenchyme - MNP Mesenchyme, Mesenchyme - MXP Early Mesenchyme, Mesenchyme - Nasal Cavity Mesenchyme \n",
      "The number of highly variable ligand-receptor pairs used for signaling inference is 1361 \n",
      "[1] 93.87379\n",
      "triMean is used for calculating the average gene expression per cell group. \n",
      "[1] \">>> Run CellChat on sc/snRNA-seq data <<< [2024-12-05 02:06:22.396047]\"\n",
      "[1] \">>> CellChat inference is done. Parameter values are stored in `object@options$parameter` <<< [2024-12-05 05:40:50.232696]\"\n"
     ]
    },
    {
     "name": "stderr",
     "output_type": "stream",
     "text": [
      "Warning message:\n",
      "“UNRELIABLE VALUE: One of the ‘future.apply’ iterations (‘future_sapply-1’) unexpectedly generated random numbers without declaring so. There is a risk that those random numbers are not statistically sound and the overall results might be invalid. To fix this, specify 'future.seed=TRUE'. This ensures that proper, parallel-safe random numbers are produced via the L'Ecuyer-CMRG method. To disable this check, use 'future.seed = NULL', or set option 'future.rng.onMisuse' to \"ignore\".”\n",
      "Warning message:\n",
      "“UNRELIABLE VALUE: One of the ‘future.apply’ iterations (‘future_sapply-2’) unexpectedly generated random numbers without declaring so. There is a risk that those random numbers are not statistically sound and the overall results might be invalid. To fix this, specify 'future.seed=TRUE'. This ensures that proper, parallel-safe random numbers are produced via the L'Ecuyer-CMRG method. To disable this check, use 'future.seed = NULL', or set option 'future.rng.onMisuse' to \"ignore\".”\n",
      "Warning message:\n",
      "“UNRELIABLE VALUE: One of the ‘future.apply’ iterations (‘future_sapply-3’) unexpectedly generated random numbers without declaring so. There is a risk that those random numbers are not statistically sound and the overall results might be invalid. To fix this, specify 'future.seed=TRUE'. This ensures that proper, parallel-safe random numbers are produced via the L'Ecuyer-CMRG method. To disable this check, use 'future.seed = NULL', or set option 'future.rng.onMisuse' to \"ignore\".”\n",
      "Warning message:\n",
      "“UNRELIABLE VALUE: One of the ‘future.apply’ iterations (‘future_sapply-4’) unexpectedly generated random numbers without declaring so. There is a risk that those random numbers are not statistically sound and the overall results might be invalid. To fix this, specify 'future.seed=TRUE'. This ensures that proper, parallel-safe random numbers are produced via the L'Ecuyer-CMRG method. To disable this check, use 'future.seed = NULL', or set option 'future.rng.onMisuse' to \"ignore\".”\n",
      "Warning message:\n",
      "“UNRELIABLE VALUE: One of the ‘future.apply’ iterations (‘future_sapply-5’) unexpectedly generated random numbers without declaring so. There is a risk that those random numbers are not statistically sound and the overall results might be invalid. To fix this, specify 'future.seed=TRUE'. This ensures that proper, parallel-safe random numbers are produced via the L'Ecuyer-CMRG method. To disable this check, use 'future.seed = NULL', or set option 'future.rng.onMisuse' to \"ignore\".”\n",
      "Warning message:\n",
      "“UNRELIABLE VALUE: One of the ‘future.apply’ iterations (‘future_sapply-6’) unexpectedly generated random numbers without declaring so. There is a risk that those random numbers are not statistically sound and the overall results might be invalid. To fix this, specify 'future.seed=TRUE'. This ensures that proper, parallel-safe random numbers are produced via the L'Ecuyer-CMRG method. To disable this check, use 'future.seed = NULL', or set option 'future.rng.onMisuse' to \"ignore\".”\n",
      "Warning message:\n",
      "“UNRELIABLE VALUE: One of the ‘future.apply’ iterations (‘future_sapply-7’) unexpectedly generated random numbers without declaring so. There is a risk that those random numbers are not statistically sound and the overall results might be invalid. To fix this, specify 'future.seed=TRUE'. This ensures that proper, parallel-safe random numbers are produced via the L'Ecuyer-CMRG method. To disable this check, use 'future.seed = NULL', or set option 'future.rng.onMisuse' to \"ignore\".”\n",
      "Warning message:\n",
      "“UNRELIABLE VALUE: One of the ‘future.apply’ iterations (‘future_sapply-8’) unexpectedly generated random numbers without declaring so. There is a risk that those random numbers are not statistically sound and the overall results might be invalid. To fix this, specify 'future.seed=TRUE'. This ensures that proper, parallel-safe random numbers are produced via the L'Ecuyer-CMRG method. To disable this check, use 'future.seed = NULL', or set option 'future.rng.onMisuse' to \"ignore\".”\n",
      "Warning message:\n",
      "“UNRELIABLE VALUE: One of the ‘future.apply’ iterations (‘future_sapply-9’) unexpectedly generated random numbers without declaring so. There is a risk that those random numbers are not statistically sound and the overall results might be invalid. To fix this, specify 'future.seed=TRUE'. This ensures that proper, parallel-safe random numbers are produced via the L'Ecuyer-CMRG method. To disable this check, use 'future.seed = NULL', or set option 'future.rng.onMisuse' to \"ignore\".”\n",
      "Warning message:\n",
      "“UNRELIABLE VALUE: One of the ‘future.apply’ iterations (‘future_sapply-10’) unexpectedly generated random numbers without declaring so. There is a risk that those random numbers are not statistically sound and the overall results might be invalid. To fix this, specify 'future.seed=TRUE'. This ensures that proper, parallel-safe random numbers are produced via the L'Ecuyer-CMRG method. To disable this check, use 'future.seed = NULL', or set option 'future.rng.onMisuse' to \"ignore\".”\n",
      "Warning message:\n",
      "“UNRELIABLE VALUE: One of the ‘future.apply’ iterations (‘future_sapply-11’) unexpectedly generated random numbers without declaring so. There is a risk that those random numbers are not statistically sound and the overall results might be invalid. To fix this, specify 'future.seed=TRUE'. This ensures that proper, parallel-safe random numbers are produced via the L'Ecuyer-CMRG method. To disable this check, use 'future.seed = NULL', or set option 'future.rng.onMisuse' to \"ignore\".”\n",
      "Warning message:\n",
      "“UNRELIABLE VALUE: One of the ‘future.apply’ iterations (‘future_sapply-12’) unexpectedly generated random numbers without declaring so. There is a risk that those random numbers are not statistically sound and the overall results might be invalid. To fix this, specify 'future.seed=TRUE'. This ensures that proper, parallel-safe random numbers are produced via the L'Ecuyer-CMRG method. To disable this check, use 'future.seed = NULL', or set option 'future.rng.onMisuse' to \"ignore\".”\n",
      "Warning message:\n",
      "“UNRELIABLE VALUE: One of the ‘future.apply’ iterations (‘future_sapply-13’) unexpectedly generated random numbers without declaring so. There is a risk that those random numbers are not statistically sound and the overall results might be invalid. To fix this, specify 'future.seed=TRUE'. This ensures that proper, parallel-safe random numbers are produced via the L'Ecuyer-CMRG method. To disable this check, use 'future.seed = NULL', or set option 'future.rng.onMisuse' to \"ignore\".”\n",
      "Warning message:\n",
      "“UNRELIABLE VALUE: One of the ‘future.apply’ iterations (‘future_sapply-14’) unexpectedly generated random numbers without declaring so. There is a risk that those random numbers are not statistically sound and the overall results might be invalid. To fix this, specify 'future.seed=TRUE'. This ensures that proper, parallel-safe random numbers are produced via the L'Ecuyer-CMRG method. To disable this check, use 'future.seed = NULL', or set option 'future.rng.onMisuse' to \"ignore\".”\n",
      "Warning message:\n",
      "“UNRELIABLE VALUE: One of the ‘future.apply’ iterations (‘future_sapply-15’) unexpectedly generated random numbers without declaring so. There is a risk that those random numbers are not statistically sound and the overall results might be invalid. To fix this, specify 'future.seed=TRUE'. This ensures that proper, parallel-safe random numbers are produced via the L'Ecuyer-CMRG method. To disable this check, use 'future.seed = NULL', or set option 'future.rng.onMisuse' to \"ignore\".”\n",
      "Warning message:\n",
      "“UNRELIABLE VALUE: One of the ‘future.apply’ iterations (‘future_sapply-16’) unexpectedly generated random numbers without declaring so. There is a risk that those random numbers are not statistically sound and the overall results might be invalid. To fix this, specify 'future.seed=TRUE'. This ensures that proper, parallel-safe random numbers are produced via the L'Ecuyer-CMRG method. To disable this check, use 'future.seed = NULL', or set option 'future.rng.onMisuse' to \"ignore\".”\n",
      "Warning message in asMethod(object):\n",
      "“sparse->dense coercion: allocating vector of size 1.7 GiB”\n"
     ]
    },
    {
     "name": "stdout",
     "output_type": "stream",
     "text": [
      "[1] \"Create a CellChat object from a data matrix\"\n",
      "The cell barcodes in 'meta' is  AAACCCACACCACATA.12 AAACCCATCGTGTGAT.12 AAACGAATCTGGACCG.12 AAAGAACCAACTGCTA.12 AAAGAACTCCTTCTGG.12 AAAGAACTCGCAGTCG.12 \n"
     ]
    },
    {
     "name": "stderr",
     "output_type": "stream",
     "text": [
      "Warning message in createCellChat(object = data.input, meta = meta, group.by = \"labels\"):\n",
      "“The cell barcodes in 'meta' is different from those in the used data matrix.\n",
      "              We now simply assign the colnames in the data matrix to the rownames of 'mata'!”\n",
      "Warning message in createCellChat(object = data.input, meta = meta, group.by = \"labels\"):\n",
      "“The 'meta' data does not have a column named `samples`. We now add this column and all cells are assumed to belong to `sample1`!”\n"
     ]
    },
    {
     "name": "stdout",
     "output_type": "stream",
     "text": [
      "Set cell identities for the new CellChat object \n",
      "The cell groups used for CellChat analysis are  Ectoderm - Committed Neuronal Progenitors, Ectoderm - Conjunctival Epithelium, Ectoderm - Immature Neurons, Ectoderm - Mature Neurons, Ectoderm - Neuronal Progenitors, Ectoderm - Non-neuronal Progenitors, Ectoderm - Olfactory Pit Rim - Six1, Ectoderm - Olfactory Pit Rim - Wnt6, Ectoderm - Olfm5, Ectoderm - Oral Ectoderm, Ectoderm - Palate Epithelium, Ectoderm - Periderm, Ectoderm - Respiratory Epithelium, Ectoderm - Surface Ectoderm - Dlx2, Ectoderm - Surface Ectoderm - Gjb6, Ectoderm - Ventral Olfactory Epithelium, Ectoderm - Vomeronasal Organ, Ectoderm - Whiskers - Ecto, Mesenchyme - Chondrocytes - Septum/Capsule, Mesenchyme - Dermal Condensate, Mesenchyme - Lip - Dermal, Mesenchyme - Lip-Nostril Fusion, Mesenchyme - MxP - Periocular, Mesenchyme - MxP Mesenchyme, Mesenchyme - Nasal Cavity Mesenchyme, Mesenchyme - Nostrils - Gata2, Mesenchyme - Nostrils - Pax7, Mesenchyme - Nostrils - Tfap2b, Mesenchyme - Osteoblast, Mesenchyme - Osteomesenchyme, Mesenchyme - Palatal Shelf - Anterior, Mesenchyme - Palatal Shelf - Posterior, Mesenchyme - Periocular Mesenchyme, Mesenchyme - Philtrum, Mesenchyme - Primary Palate, Mesenchyme - Roof - Sim1, Mesenchyme - VNO Mesenchyme, Mesenchyme - Whisker Pad \n",
      "The number of highly variable ligand-receptor pairs used for signaling inference is 1464 \n",
      "[1] 112.4328\n",
      "triMean is used for calculating the average gene expression per cell group. \n",
      "[1] \">>> Run CellChat on sc/snRNA-seq data <<< [2024-12-05 05:43:57.769198]\"\n",
      "[1] \">>> CellChat inference is done. Parameter values are stored in `object@options$parameter` <<< [2024-12-05 09:28:14.026501]\"\n"
     ]
    },
    {
     "name": "stderr",
     "output_type": "stream",
     "text": [
      "Warning message:\n",
      "“UNRELIABLE VALUE: One of the ‘future.apply’ iterations (‘future_sapply-1’) unexpectedly generated random numbers without declaring so. There is a risk that those random numbers are not statistically sound and the overall results might be invalid. To fix this, specify 'future.seed=TRUE'. This ensures that proper, parallel-safe random numbers are produced via the L'Ecuyer-CMRG method. To disable this check, use 'future.seed = NULL', or set option 'future.rng.onMisuse' to \"ignore\".”\n",
      "Warning message:\n",
      "“UNRELIABLE VALUE: One of the ‘future.apply’ iterations (‘future_sapply-2’) unexpectedly generated random numbers without declaring so. There is a risk that those random numbers are not statistically sound and the overall results might be invalid. To fix this, specify 'future.seed=TRUE'. This ensures that proper, parallel-safe random numbers are produced via the L'Ecuyer-CMRG method. To disable this check, use 'future.seed = NULL', or set option 'future.rng.onMisuse' to \"ignore\".”\n",
      "Warning message:\n",
      "“UNRELIABLE VALUE: One of the ‘future.apply’ iterations (‘future_sapply-3’) unexpectedly generated random numbers without declaring so. There is a risk that those random numbers are not statistically sound and the overall results might be invalid. To fix this, specify 'future.seed=TRUE'. This ensures that proper, parallel-safe random numbers are produced via the L'Ecuyer-CMRG method. To disable this check, use 'future.seed = NULL', or set option 'future.rng.onMisuse' to \"ignore\".”\n",
      "Warning message:\n",
      "“UNRELIABLE VALUE: One of the ‘future.apply’ iterations (‘future_sapply-4’) unexpectedly generated random numbers without declaring so. There is a risk that those random numbers are not statistically sound and the overall results might be invalid. To fix this, specify 'future.seed=TRUE'. This ensures that proper, parallel-safe random numbers are produced via the L'Ecuyer-CMRG method. To disable this check, use 'future.seed = NULL', or set option 'future.rng.onMisuse' to \"ignore\".”\n",
      "Warning message:\n",
      "“UNRELIABLE VALUE: One of the ‘future.apply’ iterations (‘future_sapply-5’) unexpectedly generated random numbers without declaring so. There is a risk that those random numbers are not statistically sound and the overall results might be invalid. To fix this, specify 'future.seed=TRUE'. This ensures that proper, parallel-safe random numbers are produced via the L'Ecuyer-CMRG method. To disable this check, use 'future.seed = NULL', or set option 'future.rng.onMisuse' to \"ignore\".”\n",
      "Warning message:\n",
      "“UNRELIABLE VALUE: One of the ‘future.apply’ iterations (‘future_sapply-6’) unexpectedly generated random numbers without declaring so. There is a risk that those random numbers are not statistically sound and the overall results might be invalid. To fix this, specify 'future.seed=TRUE'. This ensures that proper, parallel-safe random numbers are produced via the L'Ecuyer-CMRG method. To disable this check, use 'future.seed = NULL', or set option 'future.rng.onMisuse' to \"ignore\".”\n",
      "Warning message:\n",
      "“UNRELIABLE VALUE: One of the ‘future.apply’ iterations (‘future_sapply-7’) unexpectedly generated random numbers without declaring so. There is a risk that those random numbers are not statistically sound and the overall results might be invalid. To fix this, specify 'future.seed=TRUE'. This ensures that proper, parallel-safe random numbers are produced via the L'Ecuyer-CMRG method. To disable this check, use 'future.seed = NULL', or set option 'future.rng.onMisuse' to \"ignore\".”\n",
      "Warning message:\n",
      "“UNRELIABLE VALUE: One of the ‘future.apply’ iterations (‘future_sapply-8’) unexpectedly generated random numbers without declaring so. There is a risk that those random numbers are not statistically sound and the overall results might be invalid. To fix this, specify 'future.seed=TRUE'. This ensures that proper, parallel-safe random numbers are produced via the L'Ecuyer-CMRG method. To disable this check, use 'future.seed = NULL', or set option 'future.rng.onMisuse' to \"ignore\".”\n",
      "Warning message:\n",
      "“UNRELIABLE VALUE: One of the ‘future.apply’ iterations (‘future_sapply-9’) unexpectedly generated random numbers without declaring so. There is a risk that those random numbers are not statistically sound and the overall results might be invalid. To fix this, specify 'future.seed=TRUE'. This ensures that proper, parallel-safe random numbers are produced via the L'Ecuyer-CMRG method. To disable this check, use 'future.seed = NULL', or set option 'future.rng.onMisuse' to \"ignore\".”\n",
      "Warning message:\n",
      "“UNRELIABLE VALUE: One of the ‘future.apply’ iterations (‘future_sapply-10’) unexpectedly generated random numbers without declaring so. There is a risk that those random numbers are not statistically sound and the overall results might be invalid. To fix this, specify 'future.seed=TRUE'. This ensures that proper, parallel-safe random numbers are produced via the L'Ecuyer-CMRG method. To disable this check, use 'future.seed = NULL', or set option 'future.rng.onMisuse' to \"ignore\".”\n",
      "Warning message:\n",
      "“UNRELIABLE VALUE: One of the ‘future.apply’ iterations (‘future_sapply-11’) unexpectedly generated random numbers without declaring so. There is a risk that those random numbers are not statistically sound and the overall results might be invalid. To fix this, specify 'future.seed=TRUE'. This ensures that proper, parallel-safe random numbers are produced via the L'Ecuyer-CMRG method. To disable this check, use 'future.seed = NULL', or set option 'future.rng.onMisuse' to \"ignore\".”\n",
      "Warning message:\n",
      "“UNRELIABLE VALUE: One of the ‘future.apply’ iterations (‘future_sapply-12’) unexpectedly generated random numbers without declaring so. There is a risk that those random numbers are not statistically sound and the overall results might be invalid. To fix this, specify 'future.seed=TRUE'. This ensures that proper, parallel-safe random numbers are produced via the L'Ecuyer-CMRG method. To disable this check, use 'future.seed = NULL', or set option 'future.rng.onMisuse' to \"ignore\".”\n",
      "Warning message:\n",
      "“UNRELIABLE VALUE: One of the ‘future.apply’ iterations (‘future_sapply-13’) unexpectedly generated random numbers without declaring so. There is a risk that those random numbers are not statistically sound and the overall results might be invalid. To fix this, specify 'future.seed=TRUE'. This ensures that proper, parallel-safe random numbers are produced via the L'Ecuyer-CMRG method. To disable this check, use 'future.seed = NULL', or set option 'future.rng.onMisuse' to \"ignore\".”\n",
      "Warning message:\n",
      "“UNRELIABLE VALUE: One of the ‘future.apply’ iterations (‘future_sapply-14’) unexpectedly generated random numbers without declaring so. There is a risk that those random numbers are not statistically sound and the overall results might be invalid. To fix this, specify 'future.seed=TRUE'. This ensures that proper, parallel-safe random numbers are produced via the L'Ecuyer-CMRG method. To disable this check, use 'future.seed = NULL', or set option 'future.rng.onMisuse' to \"ignore\".”\n",
      "Warning message:\n",
      "“UNRELIABLE VALUE: One of the ‘future.apply’ iterations (‘future_sapply-15’) unexpectedly generated random numbers without declaring so. There is a risk that those random numbers are not statistically sound and the overall results might be invalid. To fix this, specify 'future.seed=TRUE'. This ensures that proper, parallel-safe random numbers are produced via the L'Ecuyer-CMRG method. To disable this check, use 'future.seed = NULL', or set option 'future.rng.onMisuse' to \"ignore\".”\n",
      "Warning message:\n",
      "“UNRELIABLE VALUE: One of the ‘future.apply’ iterations (‘future_sapply-16’) unexpectedly generated random numbers without declaring so. There is a risk that those random numbers are not statistically sound and the overall results might be invalid. To fix this, specify 'future.seed=TRUE'. This ensures that proper, parallel-safe random numbers are produced via the L'Ecuyer-CMRG method. To disable this check, use 'future.seed = NULL', or set option 'future.rng.onMisuse' to \"ignore\".”\n",
      "Warning message in asMethod(object):\n",
      "“sparse->dense coercion: allocating vector of size 1.7 GiB”\n"
     ]
    },
    {
     "name": "stdout",
     "output_type": "stream",
     "text": [
      "[1] \"Create a CellChat object from a data matrix\"\n",
      "The cell barcodes in 'meta' is  AAACCCACACCACATA.12 AAACCCATCGTGTGAT.12 AAACGAATCTGGACCG.12 AAAGAACCAACTGCTA.12 AAAGAACTCCTTCTGG.12 AAAGAACTCGCAGTCG.12 \n"
     ]
    },
    {
     "name": "stderr",
     "output_type": "stream",
     "text": [
      "Warning message in createCellChat(object = data.input, meta = meta, group.by = \"labels\"):\n",
      "“The cell barcodes in 'meta' is different from those in the used data matrix.\n",
      "              We now simply assign the colnames in the data matrix to the rownames of 'mata'!”\n",
      "Warning message in createCellChat(object = data.input, meta = meta, group.by = \"labels\"):\n",
      "“The 'meta' data does not have a column named `samples`. We now add this column and all cells are assumed to belong to `sample1`!”\n"
     ]
    },
    {
     "name": "stdout",
     "output_type": "stream",
     "text": [
      "Set cell identities for the new CellChat object \n",
      "The cell groups used for CellChat analysis are  Ectoderm - Committed Neuronal Progenitors, Ectoderm - Conjunctival Epithelium, Ectoderm - Immature Neurons, Ectoderm - Mature Neurons, Ectoderm - Neuronal Progenitors, Ectoderm - Non-neuronal Progenitors, Ectoderm - Olfactory Pit Rim - Fgf17, Ectoderm - Olfactory Pit Rim - Shh, Ectoderm - Olfm5, Ectoderm - Oral Epithelium, Ectoderm - Palate Epithelium, Ectoderm - Periderm, Ectoderm - Respiratory Epithelium, Ectoderm - Surface Ectoderm - Dlx2, Ectoderm - Surface Ectoderm - Gjb6, Ectoderm - Surface Ectoderm - Gjb6/Rorb, Ectoderm - Ventral Olfactory Epithelium, Ectoderm - Vomeronasal Organ, Ectoderm - Whiskers - Ecto, Mesenchyme - Chondrocytes, Mesenchyme - Chondrocytes - Pax3, Mesenchyme - Chondrocytes - Tnc, Mesenchyme - Dermal Condensate - Differentiated, Mesenchyme - Dermal Condensate - En1, Mesenchyme - Dermal Condensate - Foxd1, Mesenchyme - FnP - Periocular, Mesenchyme - MxP - Aldh1a2, Mesenchyme - MxP - Periocular, Mesenchyme - MxP Lip - Dlx1, Mesenchyme - MxP Lip - Fgf18, Mesenchyme - MxP Lip - Irx1, Mesenchyme - MxP Lip - Tac1, Mesenchyme - Nasal Cavity - Anxa1, Mesenchyme - Nasal Cavity - Anxa7, Mesenchyme - Nasal Cavity - Arg1, Mesenchyme - Nasal Cavity - Calca, Mesenchyme - Nasal Cavity - Lox, Mesenchyme - Nasal Cavity - Nxph4, Mesenchyme - Nasal Cavity - Pou3f3, Mesenchyme - Nasal Cavity - Tmem37, Mesenchyme - Nasal Cavity? - Irx3, Mesenchyme - Nostril Fusion - Col13a1, Mesenchyme - Nostril Fusion - Mab21l2, Mesenchyme - Nostrils - Casz1, Mesenchyme - Nostrils - Cpne4, Mesenchyme - Nostrils - Dab1, Mesenchyme - Nostrils - Gata2, Mesenchyme - Nostrils - Pax7, Mesenchyme - Nostrils - Sim1, Mesenchyme - Osteoblast - Dlx5, Mesenchyme - Osteomesenchyme - En1, Mesenchyme - Osteomesenchyme - Gata2, Mesenchyme - Osteomesenchyme - MxP, Mesenchyme - Osteomesenchyme - Wnt16, Mesenchyme - Palate - Meox2, Mesenchyme - Palate - Shox2, Mesenchyme - Philtrum, Mesenchyme - Primary Palate - Car2, Mesenchyme - Primary Palate - Foxd1, Mesenchyme - Sim1+ - Roof, Mesenchyme - VNO - Chondro, Mesenchyme - VNO - Mesen, Mesenchyme - Whisker Pad - Ebf1, Mesenchyme - Whisker Pad - Nts high, Mesenchyme - Whisker Pad - Sox21 \n",
      "The number of highly variable ligand-receptor pairs used for signaling inference is 1474 \n",
      "[1] 113.5999\n",
      "triMean is used for calculating the average gene expression per cell group. \n",
      "[1] \">>> Run CellChat on sc/snRNA-seq data <<< [2024-12-05 09:31:22.563891]\"\n",
      "[1] \">>> CellChat inference is done. Parameter values are stored in `object@options$parameter` <<< [2024-12-05 13:57:50.684685]\"\n"
     ]
    },
    {
     "name": "stderr",
     "output_type": "stream",
     "text": [
      "Warning message:\n",
      "“UNRELIABLE VALUE: One of the ‘future.apply’ iterations (‘future_sapply-1’) unexpectedly generated random numbers without declaring so. There is a risk that those random numbers are not statistically sound and the overall results might be invalid. To fix this, specify 'future.seed=TRUE'. This ensures that proper, parallel-safe random numbers are produced via the L'Ecuyer-CMRG method. To disable this check, use 'future.seed = NULL', or set option 'future.rng.onMisuse' to \"ignore\".”\n",
      "Warning message:\n",
      "“UNRELIABLE VALUE: One of the ‘future.apply’ iterations (‘future_sapply-2’) unexpectedly generated random numbers without declaring so. There is a risk that those random numbers are not statistically sound and the overall results might be invalid. To fix this, specify 'future.seed=TRUE'. This ensures that proper, parallel-safe random numbers are produced via the L'Ecuyer-CMRG method. To disable this check, use 'future.seed = NULL', or set option 'future.rng.onMisuse' to \"ignore\".”\n",
      "Warning message:\n",
      "“UNRELIABLE VALUE: One of the ‘future.apply’ iterations (‘future_sapply-3’) unexpectedly generated random numbers without declaring so. There is a risk that those random numbers are not statistically sound and the overall results might be invalid. To fix this, specify 'future.seed=TRUE'. This ensures that proper, parallel-safe random numbers are produced via the L'Ecuyer-CMRG method. To disable this check, use 'future.seed = NULL', or set option 'future.rng.onMisuse' to \"ignore\".”\n",
      "Warning message:\n",
      "“UNRELIABLE VALUE: One of the ‘future.apply’ iterations (‘future_sapply-4’) unexpectedly generated random numbers without declaring so. There is a risk that those random numbers are not statistically sound and the overall results might be invalid. To fix this, specify 'future.seed=TRUE'. This ensures that proper, parallel-safe random numbers are produced via the L'Ecuyer-CMRG method. To disable this check, use 'future.seed = NULL', or set option 'future.rng.onMisuse' to \"ignore\".”\n",
      "Warning message:\n",
      "“UNRELIABLE VALUE: One of the ‘future.apply’ iterations (‘future_sapply-5’) unexpectedly generated random numbers without declaring so. There is a risk that those random numbers are not statistically sound and the overall results might be invalid. To fix this, specify 'future.seed=TRUE'. This ensures that proper, parallel-safe random numbers are produced via the L'Ecuyer-CMRG method. To disable this check, use 'future.seed = NULL', or set option 'future.rng.onMisuse' to \"ignore\".”\n",
      "Warning message:\n",
      "“UNRELIABLE VALUE: One of the ‘future.apply’ iterations (‘future_sapply-6’) unexpectedly generated random numbers without declaring so. There is a risk that those random numbers are not statistically sound and the overall results might be invalid. To fix this, specify 'future.seed=TRUE'. This ensures that proper, parallel-safe random numbers are produced via the L'Ecuyer-CMRG method. To disable this check, use 'future.seed = NULL', or set option 'future.rng.onMisuse' to \"ignore\".”\n",
      "Warning message:\n",
      "“UNRELIABLE VALUE: One of the ‘future.apply’ iterations (‘future_sapply-7’) unexpectedly generated random numbers without declaring so. There is a risk that those random numbers are not statistically sound and the overall results might be invalid. To fix this, specify 'future.seed=TRUE'. This ensures that proper, parallel-safe random numbers are produced via the L'Ecuyer-CMRG method. To disable this check, use 'future.seed = NULL', or set option 'future.rng.onMisuse' to \"ignore\".”\n",
      "Warning message:\n",
      "“UNRELIABLE VALUE: One of the ‘future.apply’ iterations (‘future_sapply-8’) unexpectedly generated random numbers without declaring so. There is a risk that those random numbers are not statistically sound and the overall results might be invalid. To fix this, specify 'future.seed=TRUE'. This ensures that proper, parallel-safe random numbers are produced via the L'Ecuyer-CMRG method. To disable this check, use 'future.seed = NULL', or set option 'future.rng.onMisuse' to \"ignore\".”\n",
      "Warning message:\n",
      "“UNRELIABLE VALUE: One of the ‘future.apply’ iterations (‘future_sapply-9’) unexpectedly generated random numbers without declaring so. There is a risk that those random numbers are not statistically sound and the overall results might be invalid. To fix this, specify 'future.seed=TRUE'. This ensures that proper, parallel-safe random numbers are produced via the L'Ecuyer-CMRG method. To disable this check, use 'future.seed = NULL', or set option 'future.rng.onMisuse' to \"ignore\".”\n",
      "Warning message:\n",
      "“UNRELIABLE VALUE: One of the ‘future.apply’ iterations (‘future_sapply-10’) unexpectedly generated random numbers without declaring so. There is a risk that those random numbers are not statistically sound and the overall results might be invalid. To fix this, specify 'future.seed=TRUE'. This ensures that proper, parallel-safe random numbers are produced via the L'Ecuyer-CMRG method. To disable this check, use 'future.seed = NULL', or set option 'future.rng.onMisuse' to \"ignore\".”\n",
      "Warning message:\n",
      "“UNRELIABLE VALUE: One of the ‘future.apply’ iterations (‘future_sapply-11’) unexpectedly generated random numbers without declaring so. There is a risk that those random numbers are not statistically sound and the overall results might be invalid. To fix this, specify 'future.seed=TRUE'. This ensures that proper, parallel-safe random numbers are produced via the L'Ecuyer-CMRG method. To disable this check, use 'future.seed = NULL', or set option 'future.rng.onMisuse' to \"ignore\".”\n",
      "Warning message:\n",
      "“UNRELIABLE VALUE: One of the ‘future.apply’ iterations (‘future_sapply-12’) unexpectedly generated random numbers without declaring so. There is a risk that those random numbers are not statistically sound and the overall results might be invalid. To fix this, specify 'future.seed=TRUE'. This ensures that proper, parallel-safe random numbers are produced via the L'Ecuyer-CMRG method. To disable this check, use 'future.seed = NULL', or set option 'future.rng.onMisuse' to \"ignore\".”\n",
      "Warning message:\n",
      "“UNRELIABLE VALUE: One of the ‘future.apply’ iterations (‘future_sapply-13’) unexpectedly generated random numbers without declaring so. There is a risk that those random numbers are not statistically sound and the overall results might be invalid. To fix this, specify 'future.seed=TRUE'. This ensures that proper, parallel-safe random numbers are produced via the L'Ecuyer-CMRG method. To disable this check, use 'future.seed = NULL', or set option 'future.rng.onMisuse' to \"ignore\".”\n",
      "Warning message:\n",
      "“UNRELIABLE VALUE: One of the ‘future.apply’ iterations (‘future_sapply-14’) unexpectedly generated random numbers without declaring so. There is a risk that those random numbers are not statistically sound and the overall results might be invalid. To fix this, specify 'future.seed=TRUE'. This ensures that proper, parallel-safe random numbers are produced via the L'Ecuyer-CMRG method. To disable this check, use 'future.seed = NULL', or set option 'future.rng.onMisuse' to \"ignore\".”\n",
      "Warning message:\n",
      "“UNRELIABLE VALUE: One of the ‘future.apply’ iterations (‘future_sapply-15’) unexpectedly generated random numbers without declaring so. There is a risk that those random numbers are not statistically sound and the overall results might be invalid. To fix this, specify 'future.seed=TRUE'. This ensures that proper, parallel-safe random numbers are produced via the L'Ecuyer-CMRG method. To disable this check, use 'future.seed = NULL', or set option 'future.rng.onMisuse' to \"ignore\".”\n",
      "Warning message:\n",
      "“UNRELIABLE VALUE: One of the ‘future.apply’ iterations (‘future_sapply-16’) unexpectedly generated random numbers without declaring so. There is a risk that those random numbers are not statistically sound and the overall results might be invalid. To fix this, specify 'future.seed=TRUE'. This ensures that proper, parallel-safe random numbers are produced via the L'Ecuyer-CMRG method. To disable this check, use 'future.seed = NULL', or set option 'future.rng.onMisuse' to \"ignore\".”\n",
      "Warning message in asMethod(object):\n",
      "“sparse->dense coercion: allocating vector of size 1.7 GiB”\n"
     ]
    },
    {
     "name": "stdout",
     "output_type": "stream",
     "text": [
      "[1] \"Create a CellChat object from a data matrix\"\n",
      "The cell barcodes in 'meta' is  AAACCCACACCACATA.12 AAACCCATCGTGTGAT.12 AAACGAATCTGGACCG.12 AAAGAACCAACTGCTA.12 AAAGAACTCCTTCTGG.12 AAAGAACTCGCAGTCG.12 \n"
     ]
    },
    {
     "name": "stderr",
     "output_type": "stream",
     "text": [
      "Warning message in createCellChat(object = data.input, meta = meta, group.by = \"labels\"):\n",
      "“The cell barcodes in 'meta' is different from those in the used data matrix.\n",
      "              We now simply assign the colnames in the data matrix to the rownames of 'mata'!”\n",
      "Warning message in createCellChat(object = data.input, meta = meta, group.by = \"labels\"):\n",
      "“The 'meta' data does not have a column named `samples`. We now add this column and all cells are assumed to belong to `sample1`!”\n"
     ]
    },
    {
     "name": "stdout",
     "output_type": "stream",
     "text": [
      "Set cell identities for the new CellChat object \n",
      "The cell groups used for CellChat analysis are  Ectoderm - Committed Neuronal Progenitors, Ectoderm - Conjunctival Epithelium, Ectoderm - Immature Neurons, Ectoderm - Mature Neurons, Ectoderm - Neuronal Progenitors, Ectoderm - Non-neuronal Progenitors, Ectoderm - Olfactory Pit Rim - Six1, Ectoderm - Olfactory Pit Rim - Wnt6, Ectoderm - Olfm5, Ectoderm - Oral Ectoderm, Ectoderm - Palate Epithelium, Ectoderm - Periderm, Ectoderm - Respiratory Epithelium, Ectoderm - Surface Ectoderm - Dlx2, Ectoderm - Surface Ectoderm - Gjb6, Ectoderm - Ventral Olfactory Epithelium, Ectoderm - Vomeronasal Organ, Ectoderm - Whiskers - Ecto, Mesenchyme - Chondrocytes, Mesenchyme - Maxillary Mesenchyme, Mesenchyme - Nasal Cavity Mesenchyme, Mesenchyme - Nostrils, Mesenchyme - Osteoblasts, Mesenchyme - Osteomesenchyme, Mesenchyme - Palatal Shelf, Mesenchyme - Periocular Mesenchyme, Mesenchyme - Philtrum, Mesenchyme - Primary Palate, Mesenchyme - Roof - Sim1, Mesenchyme - Upper Lip, Mesenchyme - VNO Mesenchyme, Mesenchyme - Whisker Pad \n",
      "The number of highly variable ligand-receptor pairs used for signaling inference is 1461 \n",
      "[1] 112.7877\n",
      "triMean is used for calculating the average gene expression per cell group. \n",
      "[1] \">>> Run CellChat on sc/snRNA-seq data <<< [2024-12-05 14:04:46.717348]\"\n",
      "[1] \">>> CellChat inference is done. Parameter values are stored in `object@options$parameter` <<< [2024-12-05 17:45:14.380771]\"\n"
     ]
    },
    {
     "name": "stderr",
     "output_type": "stream",
     "text": [
      "Warning message:\n",
      "“UNRELIABLE VALUE: One of the ‘future.apply’ iterations (‘future_sapply-1’) unexpectedly generated random numbers without declaring so. There is a risk that those random numbers are not statistically sound and the overall results might be invalid. To fix this, specify 'future.seed=TRUE'. This ensures that proper, parallel-safe random numbers are produced via the L'Ecuyer-CMRG method. To disable this check, use 'future.seed = NULL', or set option 'future.rng.onMisuse' to \"ignore\".”\n",
      "Warning message:\n",
      "“UNRELIABLE VALUE: One of the ‘future.apply’ iterations (‘future_sapply-2’) unexpectedly generated random numbers without declaring so. There is a risk that those random numbers are not statistically sound and the overall results might be invalid. To fix this, specify 'future.seed=TRUE'. This ensures that proper, parallel-safe random numbers are produced via the L'Ecuyer-CMRG method. To disable this check, use 'future.seed = NULL', or set option 'future.rng.onMisuse' to \"ignore\".”\n",
      "Warning message:\n",
      "“UNRELIABLE VALUE: One of the ‘future.apply’ iterations (‘future_sapply-3’) unexpectedly generated random numbers without declaring so. There is a risk that those random numbers are not statistically sound and the overall results might be invalid. To fix this, specify 'future.seed=TRUE'. This ensures that proper, parallel-safe random numbers are produced via the L'Ecuyer-CMRG method. To disable this check, use 'future.seed = NULL', or set option 'future.rng.onMisuse' to \"ignore\".”\n",
      "Warning message:\n",
      "“UNRELIABLE VALUE: One of the ‘future.apply’ iterations (‘future_sapply-4’) unexpectedly generated random numbers without declaring so. There is a risk that those random numbers are not statistically sound and the overall results might be invalid. To fix this, specify 'future.seed=TRUE'. This ensures that proper, parallel-safe random numbers are produced via the L'Ecuyer-CMRG method. To disable this check, use 'future.seed = NULL', or set option 'future.rng.onMisuse' to \"ignore\".”\n",
      "Warning message:\n",
      "“UNRELIABLE VALUE: One of the ‘future.apply’ iterations (‘future_sapply-5’) unexpectedly generated random numbers without declaring so. There is a risk that those random numbers are not statistically sound and the overall results might be invalid. To fix this, specify 'future.seed=TRUE'. This ensures that proper, parallel-safe random numbers are produced via the L'Ecuyer-CMRG method. To disable this check, use 'future.seed = NULL', or set option 'future.rng.onMisuse' to \"ignore\".”\n",
      "Warning message:\n",
      "“UNRELIABLE VALUE: One of the ‘future.apply’ iterations (‘future_sapply-6’) unexpectedly generated random numbers without declaring so. There is a risk that those random numbers are not statistically sound and the overall results might be invalid. To fix this, specify 'future.seed=TRUE'. This ensures that proper, parallel-safe random numbers are produced via the L'Ecuyer-CMRG method. To disable this check, use 'future.seed = NULL', or set option 'future.rng.onMisuse' to \"ignore\".”\n",
      "Warning message:\n",
      "“UNRELIABLE VALUE: One of the ‘future.apply’ iterations (‘future_sapply-7’) unexpectedly generated random numbers without declaring so. There is a risk that those random numbers are not statistically sound and the overall results might be invalid. To fix this, specify 'future.seed=TRUE'. This ensures that proper, parallel-safe random numbers are produced via the L'Ecuyer-CMRG method. To disable this check, use 'future.seed = NULL', or set option 'future.rng.onMisuse' to \"ignore\".”\n",
      "Warning message:\n",
      "“UNRELIABLE VALUE: One of the ‘future.apply’ iterations (‘future_sapply-8’) unexpectedly generated random numbers without declaring so. There is a risk that those random numbers are not statistically sound and the overall results might be invalid. To fix this, specify 'future.seed=TRUE'. This ensures that proper, parallel-safe random numbers are produced via the L'Ecuyer-CMRG method. To disable this check, use 'future.seed = NULL', or set option 'future.rng.onMisuse' to \"ignore\".”\n",
      "Warning message:\n",
      "“UNRELIABLE VALUE: One of the ‘future.apply’ iterations (‘future_sapply-9’) unexpectedly generated random numbers without declaring so. There is a risk that those random numbers are not statistically sound and the overall results might be invalid. To fix this, specify 'future.seed=TRUE'. This ensures that proper, parallel-safe random numbers are produced via the L'Ecuyer-CMRG method. To disable this check, use 'future.seed = NULL', or set option 'future.rng.onMisuse' to \"ignore\".”\n",
      "Warning message:\n",
      "“UNRELIABLE VALUE: One of the ‘future.apply’ iterations (‘future_sapply-10’) unexpectedly generated random numbers without declaring so. There is a risk that those random numbers are not statistically sound and the overall results might be invalid. To fix this, specify 'future.seed=TRUE'. This ensures that proper, parallel-safe random numbers are produced via the L'Ecuyer-CMRG method. To disable this check, use 'future.seed = NULL', or set option 'future.rng.onMisuse' to \"ignore\".”\n",
      "Warning message:\n",
      "“UNRELIABLE VALUE: One of the ‘future.apply’ iterations (‘future_sapply-11’) unexpectedly generated random numbers without declaring so. There is a risk that those random numbers are not statistically sound and the overall results might be invalid. To fix this, specify 'future.seed=TRUE'. This ensures that proper, parallel-safe random numbers are produced via the L'Ecuyer-CMRG method. To disable this check, use 'future.seed = NULL', or set option 'future.rng.onMisuse' to \"ignore\".”\n",
      "Warning message:\n",
      "“UNRELIABLE VALUE: One of the ‘future.apply’ iterations (‘future_sapply-12’) unexpectedly generated random numbers without declaring so. There is a risk that those random numbers are not statistically sound and the overall results might be invalid. To fix this, specify 'future.seed=TRUE'. This ensures that proper, parallel-safe random numbers are produced via the L'Ecuyer-CMRG method. To disable this check, use 'future.seed = NULL', or set option 'future.rng.onMisuse' to \"ignore\".”\n",
      "Warning message:\n",
      "“UNRELIABLE VALUE: One of the ‘future.apply’ iterations (‘future_sapply-13’) unexpectedly generated random numbers without declaring so. There is a risk that those random numbers are not statistically sound and the overall results might be invalid. To fix this, specify 'future.seed=TRUE'. This ensures that proper, parallel-safe random numbers are produced via the L'Ecuyer-CMRG method. To disable this check, use 'future.seed = NULL', or set option 'future.rng.onMisuse' to \"ignore\".”\n",
      "Warning message:\n",
      "“UNRELIABLE VALUE: One of the ‘future.apply’ iterations (‘future_sapply-14’) unexpectedly generated random numbers without declaring so. There is a risk that those random numbers are not statistically sound and the overall results might be invalid. To fix this, specify 'future.seed=TRUE'. This ensures that proper, parallel-safe random numbers are produced via the L'Ecuyer-CMRG method. To disable this check, use 'future.seed = NULL', or set option 'future.rng.onMisuse' to \"ignore\".”\n",
      "Warning message:\n",
      "“UNRELIABLE VALUE: One of the ‘future.apply’ iterations (‘future_sapply-15’) unexpectedly generated random numbers without declaring so. There is a risk that those random numbers are not statistically sound and the overall results might be invalid. To fix this, specify 'future.seed=TRUE'. This ensures that proper, parallel-safe random numbers are produced via the L'Ecuyer-CMRG method. To disable this check, use 'future.seed = NULL', or set option 'future.rng.onMisuse' to \"ignore\".”\n",
      "Warning message:\n",
      "“UNRELIABLE VALUE: One of the ‘future.apply’ iterations (‘future_sapply-16’) unexpectedly generated random numbers without declaring so. There is a risk that those random numbers are not statistically sound and the overall results might be invalid. To fix this, specify 'future.seed=TRUE'. This ensures that proper, parallel-safe random numbers are produced via the L'Ecuyer-CMRG method. To disable this check, use 'future.seed = NULL', or set option 'future.rng.onMisuse' to \"ignore\".”\n",
      "Warning message in asMethod(object):\n",
      "“sparse->dense coercion: allocating vector of size 1.8 GiB”\n"
     ]
    },
    {
     "name": "stdout",
     "output_type": "stream",
     "text": [
      "[1] \"Create a CellChat object from a data matrix\"\n",
      "The cell barcodes in 'meta' is  AAACCCATCCAACCAA.13 AAACGAACAATATCCG.13 AAACGAAGTGAACGGT.13 AAACGAAGTGCAGATG.13 AAAGGATAGCAGTAAT.13 AAAGGATCAAATGAGT.13 \n"
     ]
    },
    {
     "name": "stderr",
     "output_type": "stream",
     "text": [
      "Warning message in createCellChat(object = data.input, meta = meta, group.by = \"labels\"):\n",
      "“The cell barcodes in 'meta' is different from those in the used data matrix.\n",
      "              We now simply assign the colnames in the data matrix to the rownames of 'mata'!”\n",
      "Warning message in createCellChat(object = data.input, meta = meta, group.by = \"labels\"):\n",
      "“The 'meta' data does not have a column named `samples`. We now add this column and all cells are assumed to belong to `sample1`!”\n"
     ]
    },
    {
     "name": "stdout",
     "output_type": "stream",
     "text": [
      "Set cell identities for the new CellChat object \n",
      "The cell groups used for CellChat analysis are  Ectoderm - Committed Neuronal Progenitors, Ectoderm - Conjunctival Epithelium, Ectoderm - Fas+ Epithelium, Ectoderm - Immature Neurons, Ectoderm - Mature Neurons, Ectoderm - Neuronal Progenitors, Ectoderm - Non-neuronal Progenitors, Ectoderm - Olfactory Pit Rim - Six1, Ectoderm - Olfactory Pit Rim - Wnt6, Ectoderm - Olfm5, Ectoderm - Oral Ectoderm, Ectoderm - Palate Epithelium, Ectoderm - Periderm, Ectoderm - Respiratory Epithelium, Ectoderm - Surface Ectoderm - Dlx2, Ectoderm - Surface Ectoderm - Gjb6, Ectoderm - Ventral Olfactory Epithelium, Ectoderm - Vomeronasal Organ, Mesenchyme - Chondro - VNO, Mesenchyme - Chondrocytes - Anterior Capsule, Mesenchyme - Chondrocytes - Septum/Capsule, Mesenchyme - Dermal Condensate, Mesenchyme - Incisor, Mesenchyme - Lip - Dermal, Mesenchyme - Lip Fibro - Dlk1, Mesenchyme - Lip-Nostril Fusion, Mesenchyme - Molar, Mesenchyme - MxP - Shox2/Meox2, Mesenchyme - MxP Mesenchyme, Mesenchyme - Nasal Cavity Mesenchyme, Mesenchyme - Nasal Palate - Anterior, Mesenchyme - Nasal Palate - Posterior, Mesenchyme - Nostril leftovers, Mesenchyme - Osteoblast, Mesenchyme - Osteomesenchyme, Mesenchyme - Palatal Shelf - Anterior, Mesenchyme - Palatal Shelf - Posterior, Mesenchyme - Periocular Mesenchyme, Mesenchyme - Philtrum, Mesenchyme - Primary Palate, Mesenchyme - Roof - Sim1, Mesenchyme - VNO Mesenchyme, Mesenchyme - Whisker Pad \n",
      "The number of highly variable ligand-receptor pairs used for signaling inference is 1466 \n",
      "[1] 112.6764\n",
      "triMean is used for calculating the average gene expression per cell group. \n",
      "[1] \">>> Run CellChat on sc/snRNA-seq data <<< [2024-12-05 17:48:40.989163]\"\n",
      "[1] \">>> CellChat inference is done. Parameter values are stored in `object@options$parameter` <<< [2024-12-05 21:49:14.362934]\"\n"
     ]
    },
    {
     "name": "stderr",
     "output_type": "stream",
     "text": [
      "Warning message:\n",
      "“UNRELIABLE VALUE: One of the ‘future.apply’ iterations (‘future_sapply-1’) unexpectedly generated random numbers without declaring so. There is a risk that those random numbers are not statistically sound and the overall results might be invalid. To fix this, specify 'future.seed=TRUE'. This ensures that proper, parallel-safe random numbers are produced via the L'Ecuyer-CMRG method. To disable this check, use 'future.seed = NULL', or set option 'future.rng.onMisuse' to \"ignore\".”\n",
      "Warning message:\n",
      "“UNRELIABLE VALUE: One of the ‘future.apply’ iterations (‘future_sapply-2’) unexpectedly generated random numbers without declaring so. There is a risk that those random numbers are not statistically sound and the overall results might be invalid. To fix this, specify 'future.seed=TRUE'. This ensures that proper, parallel-safe random numbers are produced via the L'Ecuyer-CMRG method. To disable this check, use 'future.seed = NULL', or set option 'future.rng.onMisuse' to \"ignore\".”\n",
      "Warning message:\n",
      "“UNRELIABLE VALUE: One of the ‘future.apply’ iterations (‘future_sapply-3’) unexpectedly generated random numbers without declaring so. There is a risk that those random numbers are not statistically sound and the overall results might be invalid. To fix this, specify 'future.seed=TRUE'. This ensures that proper, parallel-safe random numbers are produced via the L'Ecuyer-CMRG method. To disable this check, use 'future.seed = NULL', or set option 'future.rng.onMisuse' to \"ignore\".”\n",
      "Warning message:\n",
      "“UNRELIABLE VALUE: One of the ‘future.apply’ iterations (‘future_sapply-4’) unexpectedly generated random numbers without declaring so. There is a risk that those random numbers are not statistically sound and the overall results might be invalid. To fix this, specify 'future.seed=TRUE'. This ensures that proper, parallel-safe random numbers are produced via the L'Ecuyer-CMRG method. To disable this check, use 'future.seed = NULL', or set option 'future.rng.onMisuse' to \"ignore\".”\n",
      "Warning message:\n",
      "“UNRELIABLE VALUE: One of the ‘future.apply’ iterations (‘future_sapply-5’) unexpectedly generated random numbers without declaring so. There is a risk that those random numbers are not statistically sound and the overall results might be invalid. To fix this, specify 'future.seed=TRUE'. This ensures that proper, parallel-safe random numbers are produced via the L'Ecuyer-CMRG method. To disable this check, use 'future.seed = NULL', or set option 'future.rng.onMisuse' to \"ignore\".”\n",
      "Warning message:\n",
      "“UNRELIABLE VALUE: One of the ‘future.apply’ iterations (‘future_sapply-6’) unexpectedly generated random numbers without declaring so. There is a risk that those random numbers are not statistically sound and the overall results might be invalid. To fix this, specify 'future.seed=TRUE'. This ensures that proper, parallel-safe random numbers are produced via the L'Ecuyer-CMRG method. To disable this check, use 'future.seed = NULL', or set option 'future.rng.onMisuse' to \"ignore\".”\n",
      "Warning message:\n",
      "“UNRELIABLE VALUE: One of the ‘future.apply’ iterations (‘future_sapply-7’) unexpectedly generated random numbers without declaring so. There is a risk that those random numbers are not statistically sound and the overall results might be invalid. To fix this, specify 'future.seed=TRUE'. This ensures that proper, parallel-safe random numbers are produced via the L'Ecuyer-CMRG method. To disable this check, use 'future.seed = NULL', or set option 'future.rng.onMisuse' to \"ignore\".”\n",
      "Warning message:\n",
      "“UNRELIABLE VALUE: One of the ‘future.apply’ iterations (‘future_sapply-8’) unexpectedly generated random numbers without declaring so. There is a risk that those random numbers are not statistically sound and the overall results might be invalid. To fix this, specify 'future.seed=TRUE'. This ensures that proper, parallel-safe random numbers are produced via the L'Ecuyer-CMRG method. To disable this check, use 'future.seed = NULL', or set option 'future.rng.onMisuse' to \"ignore\".”\n",
      "Warning message:\n",
      "“UNRELIABLE VALUE: One of the ‘future.apply’ iterations (‘future_sapply-9’) unexpectedly generated random numbers without declaring so. There is a risk that those random numbers are not statistically sound and the overall results might be invalid. To fix this, specify 'future.seed=TRUE'. This ensures that proper, parallel-safe random numbers are produced via the L'Ecuyer-CMRG method. To disable this check, use 'future.seed = NULL', or set option 'future.rng.onMisuse' to \"ignore\".”\n",
      "Warning message:\n",
      "“UNRELIABLE VALUE: One of the ‘future.apply’ iterations (‘future_sapply-10’) unexpectedly generated random numbers without declaring so. There is a risk that those random numbers are not statistically sound and the overall results might be invalid. To fix this, specify 'future.seed=TRUE'. This ensures that proper, parallel-safe random numbers are produced via the L'Ecuyer-CMRG method. To disable this check, use 'future.seed = NULL', or set option 'future.rng.onMisuse' to \"ignore\".”\n",
      "Warning message:\n",
      "“UNRELIABLE VALUE: One of the ‘future.apply’ iterations (‘future_sapply-11’) unexpectedly generated random numbers without declaring so. There is a risk that those random numbers are not statistically sound and the overall results might be invalid. To fix this, specify 'future.seed=TRUE'. This ensures that proper, parallel-safe random numbers are produced via the L'Ecuyer-CMRG method. To disable this check, use 'future.seed = NULL', or set option 'future.rng.onMisuse' to \"ignore\".”\n",
      "Warning message:\n",
      "“UNRELIABLE VALUE: One of the ‘future.apply’ iterations (‘future_sapply-12’) unexpectedly generated random numbers without declaring so. There is a risk that those random numbers are not statistically sound and the overall results might be invalid. To fix this, specify 'future.seed=TRUE'. This ensures that proper, parallel-safe random numbers are produced via the L'Ecuyer-CMRG method. To disable this check, use 'future.seed = NULL', or set option 'future.rng.onMisuse' to \"ignore\".”\n",
      "Warning message:\n",
      "“UNRELIABLE VALUE: One of the ‘future.apply’ iterations (‘future_sapply-13’) unexpectedly generated random numbers without declaring so. There is a risk that those random numbers are not statistically sound and the overall results might be invalid. To fix this, specify 'future.seed=TRUE'. This ensures that proper, parallel-safe random numbers are produced via the L'Ecuyer-CMRG method. To disable this check, use 'future.seed = NULL', or set option 'future.rng.onMisuse' to \"ignore\".”\n",
      "Warning message:\n",
      "“UNRELIABLE VALUE: One of the ‘future.apply’ iterations (‘future_sapply-14’) unexpectedly generated random numbers without declaring so. There is a risk that those random numbers are not statistically sound and the overall results might be invalid. To fix this, specify 'future.seed=TRUE'. This ensures that proper, parallel-safe random numbers are produced via the L'Ecuyer-CMRG method. To disable this check, use 'future.seed = NULL', or set option 'future.rng.onMisuse' to \"ignore\".”\n",
      "Warning message:\n",
      "“UNRELIABLE VALUE: One of the ‘future.apply’ iterations (‘future_sapply-15’) unexpectedly generated random numbers without declaring so. There is a risk that those random numbers are not statistically sound and the overall results might be invalid. To fix this, specify 'future.seed=TRUE'. This ensures that proper, parallel-safe random numbers are produced via the L'Ecuyer-CMRG method. To disable this check, use 'future.seed = NULL', or set option 'future.rng.onMisuse' to \"ignore\".”\n",
      "Warning message:\n",
      "“UNRELIABLE VALUE: One of the ‘future.apply’ iterations (‘future_sapply-16’) unexpectedly generated random numbers without declaring so. There is a risk that those random numbers are not statistically sound and the overall results might be invalid. To fix this, specify 'future.seed=TRUE'. This ensures that proper, parallel-safe random numbers are produced via the L'Ecuyer-CMRG method. To disable this check, use 'future.seed = NULL', or set option 'future.rng.onMisuse' to \"ignore\".”\n",
      "Warning message in asMethod(object):\n",
      "“sparse->dense coercion: allocating vector of size 1.8 GiB”\n"
     ]
    },
    {
     "name": "stdout",
     "output_type": "stream",
     "text": [
      "[1] \"Create a CellChat object from a data matrix\"\n",
      "The cell barcodes in 'meta' is  AAACCCATCCAACCAA.13 AAACGAACAATATCCG.13 AAACGAAGTGAACGGT.13 AAACGAAGTGCAGATG.13 AAAGGATAGCAGTAAT.13 AAAGGATCAAATGAGT.13 \n"
     ]
    },
    {
     "name": "stderr",
     "output_type": "stream",
     "text": [
      "Warning message in createCellChat(object = data.input, meta = meta, group.by = \"labels\"):\n",
      "“The cell barcodes in 'meta' is different from those in the used data matrix.\n",
      "              We now simply assign the colnames in the data matrix to the rownames of 'mata'!”\n",
      "Warning message in createCellChat(object = data.input, meta = meta, group.by = \"labels\"):\n",
      "“The 'meta' data does not have a column named `samples`. We now add this column and all cells are assumed to belong to `sample1`!”\n"
     ]
    },
    {
     "name": "stdout",
     "output_type": "stream",
     "text": [
      "Set cell identities for the new CellChat object \n",
      "The cell groups used for CellChat analysis are  Ectoderm - Committed Neuronal Progenitors, Ectoderm - Conjunctival Epithelium, Ectoderm - Fas+ Epithelium, Ectoderm - Immature Neurons, Ectoderm - Mature Neurons, Ectoderm - Neuronal Progenitors, Ectoderm - Non-neuronal Progenitors, Ectoderm - Non-neuronal Progenitors - Ctxn3, Ectoderm - Olfactory Pit Rim, Ectoderm - Olfm5, Ectoderm - Oral Epithelium, Ectoderm - Palate Epithelium, Ectoderm - Palate Epithelium? - Pax1, Ectoderm - Periderm, Ectoderm - Respiratory Epithelium, Ectoderm - Surface Ectoderm - Dlx2, Ectoderm - Surface Ectoderm - Gjb6, Ectoderm - Ventral Olfactory Epithelium, Ectoderm - Vomeronasal Organ, Mesenchyme - Chondro, Mesenchyme - Chondro - Aspn, Mesenchyme - Chondro - Foxd1, Mesenchyme - Chondro - Gsc, Mesenchyme - Chondro - Mafb, Mesenchyme - Chondro - Wnt5a, Mesenchyme - Dermal Condensate - Tbx18, Mesenchyme - Dermal Condensate - Tfap2b, Mesenchyme - Dermal Mesenchyme? - Irx1, Mesenchyme - Incisor - Sfrp4, Mesenchyme - Lip - Col25a1, Mesenchyme - Lip - Dlx5, Mesenchyme - Lip - Fgf18, Mesenchyme - Lip? - Car10, Mesenchyme - Lip? - Tnn, Mesenchyme - Molar - Rgs5, Mesenchyme - MxP Mesen - Aldh1a2, Mesenchyme - Nasal Cavity - Aldh1a3, Mesenchyme - Nasal Cavity - Col2a1, Mesenchyme - Nasal Cavity - Emcn, Mesenchyme - Nasal Cavity - Fgf7, Mesenchyme - Nasal Cavity - Foxd1, Mesenchyme - Nasal Cavity - Irx1, Mesenchyme - Nasal Cavity - Lrrtm1, Mesenchyme - Nasal Cavity - Mab21l2, Mesenchyme - Nasal Cavity - Mecom, Mesenchyme - Nasal Cavity - Pax7, Mesenchyme - Nasal Cavity - Pitx1, Mesenchyme - Nasal Cavity - Pou3f3, Mesenchyme - Nasal Cavity - Zfp536, Mesenchyme - Nasal Mesen - Epha3, Mesenchyme - Nasal Mesen - Gm9866, Mesenchyme - Nasal Mesen - Ibsp, Mesenchyme - Nasal Mesen - Tmem37, Mesenchyme - Nostril? - Casz1, Mesenchyme - Nostril? - Pax1, Mesenchyme - Nostril? - Pou3f3, Mesenchyme - Nostril? - Rspo2, Mesenchyme - Osteoblast, Mesenchyme - Osteoblast - Early, Mesenchyme - Osteogenic - Aldh1a3, Mesenchyme - Osteogenic - En1, Mesenchyme - Osteogenic - Gm43376?, Mesenchyme - Osteogenic - Otor, Mesenchyme - Osteogenic - Pax3, Mesenchyme - Osteogenic - Pax7, Mesenchyme - Osteogenic - Pitx2, Mesenchyme - Osteogenic - Rmst, Mesenchyme - Osteogenic - Slc40a1, Mesenchyme - Osteogenic - Tfap2b, Mesenchyme - Palate - Cntn6, Mesenchyme - Palate - Shox2, Mesenchyme - Palate? - Asb4, Mesenchyme - Palate? - Mecom, Mesenchyme - Periocular, Mesenchyme - Periocular - Aldh1a2, Mesenchyme - Periocular - Igfbp3, Mesenchyme - Periocular - Tbx22, Mesenchyme - Philtrum/Lip - Cntn5, Mesenchyme - Philtrum/Lip - Nts, Mesenchyme - Philtrum/lip - Gata2, Mesenchyme - Philtrum/lip - Lrriq1, Mesenchyme - Posterior Palate - Meox2, Mesenchyme - Posterior Palate - Phactr1, Mesenchyme - Primary Palate - Car2, Mesenchyme - Primary Palate - Lrriq1, Mesenchyme - Sim1 - Roof, Mesenchyme - Sim1 - nostril?, Mesenchyme - VNO - Alcam, Mesenchyme - VNO - C130073E24Rik, Mesenchyme - VNO - Dcn, Mesenchyme - VNO - Foxd1, Mesenchyme - VNO - Nr5a2, Mesenchyme - VNO - Nts, Mesenchyme - VNO - Nwd2, Mesenchyme - VNO - Sim2, Mesenchyme - VNO Chondro - Sema3e, Mesenchyme - VNO Mesen - Dkk1, Mesenchyme - Whisker Pad - Sox21 \n",
      "The number of highly variable ligand-receptor pairs used for signaling inference is 1474 \n",
      "[1] 112.5268\n",
      "triMean is used for calculating the average gene expression per cell group. \n",
      "[1] \">>> Run CellChat on sc/snRNA-seq data <<< [2024-12-05 21:52:35.131646]\"\n",
      "[1] \">>> CellChat inference is done. Parameter values are stored in `object@options$parameter` <<< [2024-12-06 03:02:00.569239]\"\n"
     ]
    },
    {
     "name": "stderr",
     "output_type": "stream",
     "text": [
      "Warning message:\n",
      "“UNRELIABLE VALUE: One of the ‘future.apply’ iterations (‘future_sapply-1’) unexpectedly generated random numbers without declaring so. There is a risk that those random numbers are not statistically sound and the overall results might be invalid. To fix this, specify 'future.seed=TRUE'. This ensures that proper, parallel-safe random numbers are produced via the L'Ecuyer-CMRG method. To disable this check, use 'future.seed = NULL', or set option 'future.rng.onMisuse' to \"ignore\".”\n",
      "Warning message:\n",
      "“UNRELIABLE VALUE: One of the ‘future.apply’ iterations (‘future_sapply-2’) unexpectedly generated random numbers without declaring so. There is a risk that those random numbers are not statistically sound and the overall results might be invalid. To fix this, specify 'future.seed=TRUE'. This ensures that proper, parallel-safe random numbers are produced via the L'Ecuyer-CMRG method. To disable this check, use 'future.seed = NULL', or set option 'future.rng.onMisuse' to \"ignore\".”\n",
      "Warning message:\n",
      "“UNRELIABLE VALUE: One of the ‘future.apply’ iterations (‘future_sapply-3’) unexpectedly generated random numbers without declaring so. There is a risk that those random numbers are not statistically sound and the overall results might be invalid. To fix this, specify 'future.seed=TRUE'. This ensures that proper, parallel-safe random numbers are produced via the L'Ecuyer-CMRG method. To disable this check, use 'future.seed = NULL', or set option 'future.rng.onMisuse' to \"ignore\".”\n",
      "Warning message:\n",
      "“UNRELIABLE VALUE: One of the ‘future.apply’ iterations (‘future_sapply-4’) unexpectedly generated random numbers without declaring so. There is a risk that those random numbers are not statistically sound and the overall results might be invalid. To fix this, specify 'future.seed=TRUE'. This ensures that proper, parallel-safe random numbers are produced via the L'Ecuyer-CMRG method. To disable this check, use 'future.seed = NULL', or set option 'future.rng.onMisuse' to \"ignore\".”\n",
      "Warning message:\n",
      "“UNRELIABLE VALUE: One of the ‘future.apply’ iterations (‘future_sapply-5’) unexpectedly generated random numbers without declaring so. There is a risk that those random numbers are not statistically sound and the overall results might be invalid. To fix this, specify 'future.seed=TRUE'. This ensures that proper, parallel-safe random numbers are produced via the L'Ecuyer-CMRG method. To disable this check, use 'future.seed = NULL', or set option 'future.rng.onMisuse' to \"ignore\".”\n",
      "Warning message:\n",
      "“UNRELIABLE VALUE: One of the ‘future.apply’ iterations (‘future_sapply-6’) unexpectedly generated random numbers without declaring so. There is a risk that those random numbers are not statistically sound and the overall results might be invalid. To fix this, specify 'future.seed=TRUE'. This ensures that proper, parallel-safe random numbers are produced via the L'Ecuyer-CMRG method. To disable this check, use 'future.seed = NULL', or set option 'future.rng.onMisuse' to \"ignore\".”\n",
      "Warning message:\n",
      "“UNRELIABLE VALUE: One of the ‘future.apply’ iterations (‘future_sapply-7’) unexpectedly generated random numbers without declaring so. There is a risk that those random numbers are not statistically sound and the overall results might be invalid. To fix this, specify 'future.seed=TRUE'. This ensures that proper, parallel-safe random numbers are produced via the L'Ecuyer-CMRG method. To disable this check, use 'future.seed = NULL', or set option 'future.rng.onMisuse' to \"ignore\".”\n",
      "Warning message:\n",
      "“UNRELIABLE VALUE: One of the ‘future.apply’ iterations (‘future_sapply-8’) unexpectedly generated random numbers without declaring so. There is a risk that those random numbers are not statistically sound and the overall results might be invalid. To fix this, specify 'future.seed=TRUE'. This ensures that proper, parallel-safe random numbers are produced via the L'Ecuyer-CMRG method. To disable this check, use 'future.seed = NULL', or set option 'future.rng.onMisuse' to \"ignore\".”\n",
      "Warning message:\n",
      "“UNRELIABLE VALUE: One of the ‘future.apply’ iterations (‘future_sapply-9’) unexpectedly generated random numbers without declaring so. There is a risk that those random numbers are not statistically sound and the overall results might be invalid. To fix this, specify 'future.seed=TRUE'. This ensures that proper, parallel-safe random numbers are produced via the L'Ecuyer-CMRG method. To disable this check, use 'future.seed = NULL', or set option 'future.rng.onMisuse' to \"ignore\".”\n",
      "Warning message:\n",
      "“UNRELIABLE VALUE: One of the ‘future.apply’ iterations (‘future_sapply-10’) unexpectedly generated random numbers without declaring so. There is a risk that those random numbers are not statistically sound and the overall results might be invalid. To fix this, specify 'future.seed=TRUE'. This ensures that proper, parallel-safe random numbers are produced via the L'Ecuyer-CMRG method. To disable this check, use 'future.seed = NULL', or set option 'future.rng.onMisuse' to \"ignore\".”\n",
      "Warning message:\n",
      "“UNRELIABLE VALUE: One of the ‘future.apply’ iterations (‘future_sapply-11’) unexpectedly generated random numbers without declaring so. There is a risk that those random numbers are not statistically sound and the overall results might be invalid. To fix this, specify 'future.seed=TRUE'. This ensures that proper, parallel-safe random numbers are produced via the L'Ecuyer-CMRG method. To disable this check, use 'future.seed = NULL', or set option 'future.rng.onMisuse' to \"ignore\".”\n",
      "Warning message:\n",
      "“UNRELIABLE VALUE: One of the ‘future.apply’ iterations (‘future_sapply-12’) unexpectedly generated random numbers without declaring so. There is a risk that those random numbers are not statistically sound and the overall results might be invalid. To fix this, specify 'future.seed=TRUE'. This ensures that proper, parallel-safe random numbers are produced via the L'Ecuyer-CMRG method. To disable this check, use 'future.seed = NULL', or set option 'future.rng.onMisuse' to \"ignore\".”\n",
      "Warning message:\n",
      "“UNRELIABLE VALUE: One of the ‘future.apply’ iterations (‘future_sapply-13’) unexpectedly generated random numbers without declaring so. There is a risk that those random numbers are not statistically sound and the overall results might be invalid. To fix this, specify 'future.seed=TRUE'. This ensures that proper, parallel-safe random numbers are produced via the L'Ecuyer-CMRG method. To disable this check, use 'future.seed = NULL', or set option 'future.rng.onMisuse' to \"ignore\".”\n",
      "Warning message:\n",
      "“UNRELIABLE VALUE: One of the ‘future.apply’ iterations (‘future_sapply-14’) unexpectedly generated random numbers without declaring so. There is a risk that those random numbers are not statistically sound and the overall results might be invalid. To fix this, specify 'future.seed=TRUE'. This ensures that proper, parallel-safe random numbers are produced via the L'Ecuyer-CMRG method. To disable this check, use 'future.seed = NULL', or set option 'future.rng.onMisuse' to \"ignore\".”\n",
      "Warning message:\n",
      "“UNRELIABLE VALUE: One of the ‘future.apply’ iterations (‘future_sapply-15’) unexpectedly generated random numbers without declaring so. There is a risk that those random numbers are not statistically sound and the overall results might be invalid. To fix this, specify 'future.seed=TRUE'. This ensures that proper, parallel-safe random numbers are produced via the L'Ecuyer-CMRG method. To disable this check, use 'future.seed = NULL', or set option 'future.rng.onMisuse' to \"ignore\".”\n",
      "Warning message:\n",
      "“UNRELIABLE VALUE: One of the ‘future.apply’ iterations (‘future_sapply-16’) unexpectedly generated random numbers without declaring so. There is a risk that those random numbers are not statistically sound and the overall results might be invalid. To fix this, specify 'future.seed=TRUE'. This ensures that proper, parallel-safe random numbers are produced via the L'Ecuyer-CMRG method. To disable this check, use 'future.seed = NULL', or set option 'future.rng.onMisuse' to \"ignore\".”\n",
      "Warning message in asMethod(object):\n",
      "“sparse->dense coercion: allocating vector of size 1.8 GiB”\n"
     ]
    },
    {
     "name": "stdout",
     "output_type": "stream",
     "text": [
      "[1] \"Create a CellChat object from a data matrix\"\n",
      "The cell barcodes in 'meta' is  AAACCCATCCAACCAA.13 AAACGAACAATATCCG.13 AAACGAAGTGAACGGT.13 AAACGAAGTGCAGATG.13 AAAGGATAGCAGTAAT.13 AAAGGATCAAATGAGT.13 \n"
     ]
    },
    {
     "name": "stderr",
     "output_type": "stream",
     "text": [
      "Warning message in createCellChat(object = data.input, meta = meta, group.by = \"labels\"):\n",
      "“The cell barcodes in 'meta' is different from those in the used data matrix.\n",
      "              We now simply assign the colnames in the data matrix to the rownames of 'mata'!”\n",
      "Warning message in createCellChat(object = data.input, meta = meta, group.by = \"labels\"):\n",
      "“The 'meta' data does not have a column named `samples`. We now add this column and all cells are assumed to belong to `sample1`!”\n"
     ]
    },
    {
     "name": "stdout",
     "output_type": "stream",
     "text": [
      "Set cell identities for the new CellChat object \n",
      "The cell groups used for CellChat analysis are  Ectoderm - Committed Neuronal Progenitors, Ectoderm - Conjunctival Epithelium, Ectoderm - Fas+ Epithelium, Ectoderm - Immature Neurons, Ectoderm - Mature Neurons, Ectoderm - Neuronal Progenitors, Ectoderm - Non-neuronal Progenitors, Ectoderm - Olfactory Pit Rim - Six1, Ectoderm - Olfactory Pit Rim - Wnt6, Ectoderm - Olfm5, Ectoderm - Oral Ectoderm, Ectoderm - Palate Epithelium, Ectoderm - Periderm, Ectoderm - Respiratory Epithelium, Ectoderm - Surface Ectoderm - Dlx2, Ectoderm - Surface Ectoderm - Gjb6, Ectoderm - Ventral Olfactory Epithelium, Ectoderm - Vomeronasal Organ, Mesenchyme - Chondrocytes, Mesenchyme - Maxillary Mesenchyme, Mesenchyme - Nasal Cavity Mesenchyme, Mesenchyme - Nostrils, Mesenchyme - Osteoblasts, Mesenchyme - Osteomesenchyme, Mesenchyme - Palatal Shelf, Mesenchyme - Periocular Mesenchyme, Mesenchyme - Philtrum, Mesenchyme - Primary Palate, Mesenchyme - Roof - Sim1, Mesenchyme - Upper Lip, Mesenchyme - VNO Mesenchyme, Mesenchyme - Whisker Pad \n",
      "The number of highly variable ligand-receptor pairs used for signaling inference is 1452 \n",
      "[1] 112.2148\n",
      "triMean is used for calculating the average gene expression per cell group. \n",
      "[1] \">>> Run CellChat on sc/snRNA-seq data <<< [2024-12-06 04:07:22.415167]\"\n",
      "[1] \">>> CellChat inference is done. Parameter values are stored in `object@options$parameter` <<< [2024-12-06 07:48:11.290965]\"\n"
     ]
    },
    {
     "name": "stderr",
     "output_type": "stream",
     "text": [
      "Warning message:\n",
      "“UNRELIABLE VALUE: One of the ‘future.apply’ iterations (‘future_sapply-1’) unexpectedly generated random numbers without declaring so. There is a risk that those random numbers are not statistically sound and the overall results might be invalid. To fix this, specify 'future.seed=TRUE'. This ensures that proper, parallel-safe random numbers are produced via the L'Ecuyer-CMRG method. To disable this check, use 'future.seed = NULL', or set option 'future.rng.onMisuse' to \"ignore\".”\n",
      "Warning message:\n",
      "“UNRELIABLE VALUE: One of the ‘future.apply’ iterations (‘future_sapply-2’) unexpectedly generated random numbers without declaring so. There is a risk that those random numbers are not statistically sound and the overall results might be invalid. To fix this, specify 'future.seed=TRUE'. This ensures that proper, parallel-safe random numbers are produced via the L'Ecuyer-CMRG method. To disable this check, use 'future.seed = NULL', or set option 'future.rng.onMisuse' to \"ignore\".”\n",
      "Warning message:\n",
      "“UNRELIABLE VALUE: One of the ‘future.apply’ iterations (‘future_sapply-3’) unexpectedly generated random numbers without declaring so. There is a risk that those random numbers are not statistically sound and the overall results might be invalid. To fix this, specify 'future.seed=TRUE'. This ensures that proper, parallel-safe random numbers are produced via the L'Ecuyer-CMRG method. To disable this check, use 'future.seed = NULL', or set option 'future.rng.onMisuse' to \"ignore\".”\n",
      "Warning message:\n",
      "“UNRELIABLE VALUE: One of the ‘future.apply’ iterations (‘future_sapply-4’) unexpectedly generated random numbers without declaring so. There is a risk that those random numbers are not statistically sound and the overall results might be invalid. To fix this, specify 'future.seed=TRUE'. This ensures that proper, parallel-safe random numbers are produced via the L'Ecuyer-CMRG method. To disable this check, use 'future.seed = NULL', or set option 'future.rng.onMisuse' to \"ignore\".”\n",
      "Warning message:\n",
      "“UNRELIABLE VALUE: One of the ‘future.apply’ iterations (‘future_sapply-5’) unexpectedly generated random numbers without declaring so. There is a risk that those random numbers are not statistically sound and the overall results might be invalid. To fix this, specify 'future.seed=TRUE'. This ensures that proper, parallel-safe random numbers are produced via the L'Ecuyer-CMRG method. To disable this check, use 'future.seed = NULL', or set option 'future.rng.onMisuse' to \"ignore\".”\n",
      "Warning message:\n",
      "“UNRELIABLE VALUE: One of the ‘future.apply’ iterations (‘future_sapply-6’) unexpectedly generated random numbers without declaring so. There is a risk that those random numbers are not statistically sound and the overall results might be invalid. To fix this, specify 'future.seed=TRUE'. This ensures that proper, parallel-safe random numbers are produced via the L'Ecuyer-CMRG method. To disable this check, use 'future.seed = NULL', or set option 'future.rng.onMisuse' to \"ignore\".”\n",
      "Warning message:\n",
      "“UNRELIABLE VALUE: One of the ‘future.apply’ iterations (‘future_sapply-7’) unexpectedly generated random numbers without declaring so. There is a risk that those random numbers are not statistically sound and the overall results might be invalid. To fix this, specify 'future.seed=TRUE'. This ensures that proper, parallel-safe random numbers are produced via the L'Ecuyer-CMRG method. To disable this check, use 'future.seed = NULL', or set option 'future.rng.onMisuse' to \"ignore\".”\n",
      "Warning message:\n",
      "“UNRELIABLE VALUE: One of the ‘future.apply’ iterations (‘future_sapply-8’) unexpectedly generated random numbers without declaring so. There is a risk that those random numbers are not statistically sound and the overall results might be invalid. To fix this, specify 'future.seed=TRUE'. This ensures that proper, parallel-safe random numbers are produced via the L'Ecuyer-CMRG method. To disable this check, use 'future.seed = NULL', or set option 'future.rng.onMisuse' to \"ignore\".”\n",
      "Warning message:\n",
      "“UNRELIABLE VALUE: One of the ‘future.apply’ iterations (‘future_sapply-9’) unexpectedly generated random numbers without declaring so. There is a risk that those random numbers are not statistically sound and the overall results might be invalid. To fix this, specify 'future.seed=TRUE'. This ensures that proper, parallel-safe random numbers are produced via the L'Ecuyer-CMRG method. To disable this check, use 'future.seed = NULL', or set option 'future.rng.onMisuse' to \"ignore\".”\n",
      "Warning message:\n",
      "“UNRELIABLE VALUE: One of the ‘future.apply’ iterations (‘future_sapply-10’) unexpectedly generated random numbers without declaring so. There is a risk that those random numbers are not statistically sound and the overall results might be invalid. To fix this, specify 'future.seed=TRUE'. This ensures that proper, parallel-safe random numbers are produced via the L'Ecuyer-CMRG method. To disable this check, use 'future.seed = NULL', or set option 'future.rng.onMisuse' to \"ignore\".”\n",
      "Warning message:\n",
      "“UNRELIABLE VALUE: One of the ‘future.apply’ iterations (‘future_sapply-11’) unexpectedly generated random numbers without declaring so. There is a risk that those random numbers are not statistically sound and the overall results might be invalid. To fix this, specify 'future.seed=TRUE'. This ensures that proper, parallel-safe random numbers are produced via the L'Ecuyer-CMRG method. To disable this check, use 'future.seed = NULL', or set option 'future.rng.onMisuse' to \"ignore\".”\n",
      "Warning message:\n",
      "“UNRELIABLE VALUE: One of the ‘future.apply’ iterations (‘future_sapply-12’) unexpectedly generated random numbers without declaring so. There is a risk that those random numbers are not statistically sound and the overall results might be invalid. To fix this, specify 'future.seed=TRUE'. This ensures that proper, parallel-safe random numbers are produced via the L'Ecuyer-CMRG method. To disable this check, use 'future.seed = NULL', or set option 'future.rng.onMisuse' to \"ignore\".”\n",
      "Warning message:\n",
      "“UNRELIABLE VALUE: One of the ‘future.apply’ iterations (‘future_sapply-13’) unexpectedly generated random numbers without declaring so. There is a risk that those random numbers are not statistically sound and the overall results might be invalid. To fix this, specify 'future.seed=TRUE'. This ensures that proper, parallel-safe random numbers are produced via the L'Ecuyer-CMRG method. To disable this check, use 'future.seed = NULL', or set option 'future.rng.onMisuse' to \"ignore\".”\n",
      "Warning message:\n",
      "“UNRELIABLE VALUE: One of the ‘future.apply’ iterations (‘future_sapply-14’) unexpectedly generated random numbers without declaring so. There is a risk that those random numbers are not statistically sound and the overall results might be invalid. To fix this, specify 'future.seed=TRUE'. This ensures that proper, parallel-safe random numbers are produced via the L'Ecuyer-CMRG method. To disable this check, use 'future.seed = NULL', or set option 'future.rng.onMisuse' to \"ignore\".”\n",
      "Warning message:\n",
      "“UNRELIABLE VALUE: One of the ‘future.apply’ iterations (‘future_sapply-15’) unexpectedly generated random numbers without declaring so. There is a risk that those random numbers are not statistically sound and the overall results might be invalid. To fix this, specify 'future.seed=TRUE'. This ensures that proper, parallel-safe random numbers are produced via the L'Ecuyer-CMRG method. To disable this check, use 'future.seed = NULL', or set option 'future.rng.onMisuse' to \"ignore\".”\n",
      "Warning message:\n",
      "“UNRELIABLE VALUE: One of the ‘future.apply’ iterations (‘future_sapply-16’) unexpectedly generated random numbers without declaring so. There is a risk that those random numbers are not statistically sound and the overall results might be invalid. To fix this, specify 'future.seed=TRUE'. This ensures that proper, parallel-safe random numbers are produced via the L'Ecuyer-CMRG method. To disable this check, use 'future.seed = NULL', or set option 'future.rng.onMisuse' to \"ignore\".”\n"
     ]
    },
    {
     "name": "stdout",
     "output_type": "stream",
     "text": [
      "[1] \"Create a CellChat object from a data matrix\"\n",
      "The cell barcodes in 'meta' is  AAAGGTATCCTCTCGA.14 AAAGTCCGTCAGTCTA.14 AAAGTGAGTAGATCCT.14 AACAAGATCCTGCTAC.14 AACCAACCACCCAATA.14 AACCATGAGACCTTTG.14 \n"
     ]
    },
    {
     "name": "stderr",
     "output_type": "stream",
     "text": [
      "Warning message in createCellChat(object = data.input, meta = meta, group.by = \"labels\"):\n",
      "“The cell barcodes in 'meta' is different from those in the used data matrix.\n",
      "              We now simply assign the colnames in the data matrix to the rownames of 'mata'!”\n",
      "Warning message in createCellChat(object = data.input, meta = meta, group.by = \"labels\"):\n",
      "“The 'meta' data does not have a column named `samples`. We now add this column and all cells are assumed to belong to `sample1`!”\n"
     ]
    },
    {
     "name": "stdout",
     "output_type": "stream",
     "text": [
      "Set cell identities for the new CellChat object \n",
      "The cell groups used for CellChat analysis are  Ectoderm - Committed Neuronal Progenitors, Ectoderm - Fas+ Epithelium, Ectoderm - Immature Neurons, Ectoderm - Mature Neurons, Ectoderm - Neuronal Progenitors, Ectoderm - Non-neuronal Progenitors, Ectoderm - Olfactory Pit Rim - Six1, Ectoderm - Olfactory Pit Rim - Wnt6, Ectoderm - Oral Ectoderm, Ectoderm - Palate Epithelium, Ectoderm - Periderm, Ectoderm - Respiratory Epithelium, Ectoderm - Surface Ectoderm - Dlx2, Ectoderm - Surface Ectoderm - Gjb6, Ectoderm - Vomeronasal Organ, Mesenchyme - Chondrocytes - Anterior Capsule, Mesenchyme - Chondrocytes - Septum/Capsule, Mesenchyme - Dermal Condensate, Mesenchyme - Incisor, Mesenchyme - Lip - Fibroblasts, Mesenchyme - Molar, Mesenchyme - MxP Mesenchyme, Mesenchyme - Nasal Cavity Mesenchyme, Mesenchyme - Nostril leftovers, Mesenchyme - Osteoblast, Mesenchyme - Osteomesenchyme, Mesenchyme - Palatal Shelf - Anterior, Mesenchyme - Palatal Shelf - Posterior, Mesenchyme - Perichondrium, Mesenchyme - Periocular Mesenchyme, Mesenchyme - Philtrum, Mesenchyme - Primary Palate, Mesenchyme - Roof - Sim1, Mesenchyme - VNO Mesenchyme, Mesenchyme - Whisker Pad \n",
      "The number of highly variable ligand-receptor pairs used for signaling inference is 1467 \n",
      "[1] 82.24477\n",
      "triMean is used for calculating the average gene expression per cell group. \n",
      "[1] \">>> Run CellChat on sc/snRNA-seq data <<< [2024-12-06 07:50:41.028943]\"\n",
      "[1] \">>> CellChat inference is done. Parameter values are stored in `object@options$parameter` <<< [2024-12-06 14:15:56.347556]\"\n"
     ]
    },
    {
     "name": "stderr",
     "output_type": "stream",
     "text": [
      "Warning message:\n",
      "“UNRELIABLE VALUE: One of the ‘future.apply’ iterations (‘future_sapply-1’) unexpectedly generated random numbers without declaring so. There is a risk that those random numbers are not statistically sound and the overall results might be invalid. To fix this, specify 'future.seed=TRUE'. This ensures that proper, parallel-safe random numbers are produced via the L'Ecuyer-CMRG method. To disable this check, use 'future.seed = NULL', or set option 'future.rng.onMisuse' to \"ignore\".”\n",
      "Warning message:\n",
      "“UNRELIABLE VALUE: One of the ‘future.apply’ iterations (‘future_sapply-2’) unexpectedly generated random numbers without declaring so. There is a risk that those random numbers are not statistically sound and the overall results might be invalid. To fix this, specify 'future.seed=TRUE'. This ensures that proper, parallel-safe random numbers are produced via the L'Ecuyer-CMRG method. To disable this check, use 'future.seed = NULL', or set option 'future.rng.onMisuse' to \"ignore\".”\n",
      "Warning message:\n",
      "“UNRELIABLE VALUE: One of the ‘future.apply’ iterations (‘future_sapply-3’) unexpectedly generated random numbers without declaring so. There is a risk that those random numbers are not statistically sound and the overall results might be invalid. To fix this, specify 'future.seed=TRUE'. This ensures that proper, parallel-safe random numbers are produced via the L'Ecuyer-CMRG method. To disable this check, use 'future.seed = NULL', or set option 'future.rng.onMisuse' to \"ignore\".”\n",
      "Warning message:\n",
      "“UNRELIABLE VALUE: One of the ‘future.apply’ iterations (‘future_sapply-4’) unexpectedly generated random numbers without declaring so. There is a risk that those random numbers are not statistically sound and the overall results might be invalid. To fix this, specify 'future.seed=TRUE'. This ensures that proper, parallel-safe random numbers are produced via the L'Ecuyer-CMRG method. To disable this check, use 'future.seed = NULL', or set option 'future.rng.onMisuse' to \"ignore\".”\n",
      "Warning message:\n",
      "“UNRELIABLE VALUE: One of the ‘future.apply’ iterations (‘future_sapply-5’) unexpectedly generated random numbers without declaring so. There is a risk that those random numbers are not statistically sound and the overall results might be invalid. To fix this, specify 'future.seed=TRUE'. This ensures that proper, parallel-safe random numbers are produced via the L'Ecuyer-CMRG method. To disable this check, use 'future.seed = NULL', or set option 'future.rng.onMisuse' to \"ignore\".”\n",
      "Warning message:\n",
      "“UNRELIABLE VALUE: One of the ‘future.apply’ iterations (‘future_sapply-6’) unexpectedly generated random numbers without declaring so. There is a risk that those random numbers are not statistically sound and the overall results might be invalid. To fix this, specify 'future.seed=TRUE'. This ensures that proper, parallel-safe random numbers are produced via the L'Ecuyer-CMRG method. To disable this check, use 'future.seed = NULL', or set option 'future.rng.onMisuse' to \"ignore\".”\n",
      "Warning message:\n",
      "“UNRELIABLE VALUE: One of the ‘future.apply’ iterations (‘future_sapply-7’) unexpectedly generated random numbers without declaring so. There is a risk that those random numbers are not statistically sound and the overall results might be invalid. To fix this, specify 'future.seed=TRUE'. This ensures that proper, parallel-safe random numbers are produced via the L'Ecuyer-CMRG method. To disable this check, use 'future.seed = NULL', or set option 'future.rng.onMisuse' to \"ignore\".”\n",
      "Warning message:\n",
      "“UNRELIABLE VALUE: One of the ‘future.apply’ iterations (‘future_sapply-8’) unexpectedly generated random numbers without declaring so. There is a risk that those random numbers are not statistically sound and the overall results might be invalid. To fix this, specify 'future.seed=TRUE'. This ensures that proper, parallel-safe random numbers are produced via the L'Ecuyer-CMRG method. To disable this check, use 'future.seed = NULL', or set option 'future.rng.onMisuse' to \"ignore\".”\n",
      "Warning message:\n",
      "“UNRELIABLE VALUE: One of the ‘future.apply’ iterations (‘future_sapply-9’) unexpectedly generated random numbers without declaring so. There is a risk that those random numbers are not statistically sound and the overall results might be invalid. To fix this, specify 'future.seed=TRUE'. This ensures that proper, parallel-safe random numbers are produced via the L'Ecuyer-CMRG method. To disable this check, use 'future.seed = NULL', or set option 'future.rng.onMisuse' to \"ignore\".”\n",
      "Warning message:\n",
      "“UNRELIABLE VALUE: One of the ‘future.apply’ iterations (‘future_sapply-10’) unexpectedly generated random numbers without declaring so. There is a risk that those random numbers are not statistically sound and the overall results might be invalid. To fix this, specify 'future.seed=TRUE'. This ensures that proper, parallel-safe random numbers are produced via the L'Ecuyer-CMRG method. To disable this check, use 'future.seed = NULL', or set option 'future.rng.onMisuse' to \"ignore\".”\n",
      "Warning message:\n",
      "“UNRELIABLE VALUE: One of the ‘future.apply’ iterations (‘future_sapply-11’) unexpectedly generated random numbers without declaring so. There is a risk that those random numbers are not statistically sound and the overall results might be invalid. To fix this, specify 'future.seed=TRUE'. This ensures that proper, parallel-safe random numbers are produced via the L'Ecuyer-CMRG method. To disable this check, use 'future.seed = NULL', or set option 'future.rng.onMisuse' to \"ignore\".”\n",
      "Warning message:\n",
      "“UNRELIABLE VALUE: One of the ‘future.apply’ iterations (‘future_sapply-12’) unexpectedly generated random numbers without declaring so. There is a risk that those random numbers are not statistically sound and the overall results might be invalid. To fix this, specify 'future.seed=TRUE'. This ensures that proper, parallel-safe random numbers are produced via the L'Ecuyer-CMRG method. To disable this check, use 'future.seed = NULL', or set option 'future.rng.onMisuse' to \"ignore\".”\n",
      "Warning message:\n",
      "“UNRELIABLE VALUE: One of the ‘future.apply’ iterations (‘future_sapply-13’) unexpectedly generated random numbers without declaring so. There is a risk that those random numbers are not statistically sound and the overall results might be invalid. To fix this, specify 'future.seed=TRUE'. This ensures that proper, parallel-safe random numbers are produced via the L'Ecuyer-CMRG method. To disable this check, use 'future.seed = NULL', or set option 'future.rng.onMisuse' to \"ignore\".”\n",
      "Warning message:\n",
      "“UNRELIABLE VALUE: One of the ‘future.apply’ iterations (‘future_sapply-14’) unexpectedly generated random numbers without declaring so. There is a risk that those random numbers are not statistically sound and the overall results might be invalid. To fix this, specify 'future.seed=TRUE'. This ensures that proper, parallel-safe random numbers are produced via the L'Ecuyer-CMRG method. To disable this check, use 'future.seed = NULL', or set option 'future.rng.onMisuse' to \"ignore\".”\n",
      "Warning message:\n",
      "“UNRELIABLE VALUE: One of the ‘future.apply’ iterations (‘future_sapply-15’) unexpectedly generated random numbers without declaring so. There is a risk that those random numbers are not statistically sound and the overall results might be invalid. To fix this, specify 'future.seed=TRUE'. This ensures that proper, parallel-safe random numbers are produced via the L'Ecuyer-CMRG method. To disable this check, use 'future.seed = NULL', or set option 'future.rng.onMisuse' to \"ignore\".”\n",
      "Warning message:\n",
      "“UNRELIABLE VALUE: One of the ‘future.apply’ iterations (‘future_sapply-16’) unexpectedly generated random numbers without declaring so. There is a risk that those random numbers are not statistically sound and the overall results might be invalid. To fix this, specify 'future.seed=TRUE'. This ensures that proper, parallel-safe random numbers are produced via the L'Ecuyer-CMRG method. To disable this check, use 'future.seed = NULL', or set option 'future.rng.onMisuse' to \"ignore\".”\n"
     ]
    },
    {
     "name": "stdout",
     "output_type": "stream",
     "text": [
      "[1] \"Create a CellChat object from a data matrix\"\n",
      "The cell barcodes in 'meta' is  AAAGGTATCCTCTCGA.14 AAAGTCCGTCAGTCTA.14 AAAGTGAGTAGATCCT.14 AACAAGATCCTGCTAC.14 AACCAACCACCCAATA.14 AACCATGAGACCTTTG.14 \n"
     ]
    },
    {
     "name": "stderr",
     "output_type": "stream",
     "text": [
      "Warning message in createCellChat(object = data.input, meta = meta, group.by = \"labels\"):\n",
      "“The cell barcodes in 'meta' is different from those in the used data matrix.\n",
      "              We now simply assign the colnames in the data matrix to the rownames of 'mata'!”\n",
      "Warning message in createCellChat(object = data.input, meta = meta, group.by = \"labels\"):\n",
      "“The 'meta' data does not have a column named `samples`. We now add this column and all cells are assumed to belong to `sample1`!”\n"
     ]
    },
    {
     "name": "stdout",
     "output_type": "stream",
     "text": [
      "Set cell identities for the new CellChat object \n",
      "The cell groups used for CellChat analysis are  Ectoderm - Committed Neuronal Progenitors, Ectoderm - Fas+ Epithelium, Ectoderm - Immature Neurons, Ectoderm - Mature Neurons, Ectoderm - Neuronal Progenitors, Ectoderm - Non-neuronal Progenitors, Ectoderm - Non-neuronal Progenitors - Ctxn3, Ectoderm - Olfactory Pit Rim, Ectoderm - Oral Epithelium, Ectoderm - Palate Epithelium, Ectoderm - Periderm, Ectoderm - Respiratory Epithelium, Ectoderm - Surface Ectoderm - Dlx2, Ectoderm - Surface Ectoderm - Gjb6, Ectoderm - Vomeronasal Organ, Mesenchyme - Chondro, Mesenchyme - Chondro - Anterior capsule, Mesenchyme - Chondro - Comp, Mesenchyme - Chondro - Foxf1, Mesenchyme - Chondro - Peri?, Mesenchyme - Dermal Condensate - Sox18, Mesenchyme - Incisor - Sfrp4, Mesenchyme - Lip? Col14a1, Mesenchyme - Lip? Epha3, Mesenchyme - Molar - Rgs5, Mesenchyme - MxP Mesen - Dlx1, Mesenchyme - MxP Mesen - Pla2g7, Mesenchyme - Nasal Cavity - Nrg1, Mesenchyme - Nasal Cavity - Pax3, Mesenchyme - Nasal Cavity - Satb2, Mesenchyme - Nasal Cavity - Shox2, Mesenchyme - Nasal Cavity - Tfap2b, Mesenchyme - Osteoblast, Mesenchyme - Osteoblst - Early, Mesenchyme - Osteogenic - Chondro?, Mesenchyme - Osteogenic - Cpne4, Mesenchyme - Osteogenic - En1, Mesenchyme - Osteogenic - Lrriq1, Mesenchyme - Palate - Mecom, Mesenchyme - Palate - Meox2, Mesenchyme - Palate - Osteogenic, Mesenchyme - Palate - Shox2, Mesenchyme - Periocular - Foxl2, Mesenchyme - Periocular - Slc9a3r1, Mesenchyme - Philtrum, Mesenchyme - Primary Palate - Car2, Mesenchyme - Sim1 - Roof, Mesenchyme - VNO Mesen, Mesenchyme - Whisker Pad - Irx1 \n",
      "The number of highly variable ligand-receptor pairs used for signaling inference is 1469 \n",
      "[1] 82.68809\n",
      "triMean is used for calculating the average gene expression per cell group. \n",
      "[1] \">>> Run CellChat on sc/snRNA-seq data <<< [2024-12-06 14:17:53.195732]\"\n",
      "[1] \">>> CellChat inference is done. Parameter values are stored in `object@options$parameter` <<< [2024-12-06 20:44:24.593359]\"\n"
     ]
    },
    {
     "name": "stderr",
     "output_type": "stream",
     "text": [
      "Warning message:\n",
      "“UNRELIABLE VALUE: One of the ‘future.apply’ iterations (‘future_sapply-1’) unexpectedly generated random numbers without declaring so. There is a risk that those random numbers are not statistically sound and the overall results might be invalid. To fix this, specify 'future.seed=TRUE'. This ensures that proper, parallel-safe random numbers are produced via the L'Ecuyer-CMRG method. To disable this check, use 'future.seed = NULL', or set option 'future.rng.onMisuse' to \"ignore\".”\n",
      "Warning message:\n",
      "“UNRELIABLE VALUE: One of the ‘future.apply’ iterations (‘future_sapply-2’) unexpectedly generated random numbers without declaring so. There is a risk that those random numbers are not statistically sound and the overall results might be invalid. To fix this, specify 'future.seed=TRUE'. This ensures that proper, parallel-safe random numbers are produced via the L'Ecuyer-CMRG method. To disable this check, use 'future.seed = NULL', or set option 'future.rng.onMisuse' to \"ignore\".”\n",
      "Warning message:\n",
      "“UNRELIABLE VALUE: One of the ‘future.apply’ iterations (‘future_sapply-3’) unexpectedly generated random numbers without declaring so. There is a risk that those random numbers are not statistically sound and the overall results might be invalid. To fix this, specify 'future.seed=TRUE'. This ensures that proper, parallel-safe random numbers are produced via the L'Ecuyer-CMRG method. To disable this check, use 'future.seed = NULL', or set option 'future.rng.onMisuse' to \"ignore\".”\n",
      "Warning message:\n",
      "“UNRELIABLE VALUE: One of the ‘future.apply’ iterations (‘future_sapply-4’) unexpectedly generated random numbers without declaring so. There is a risk that those random numbers are not statistically sound and the overall results might be invalid. To fix this, specify 'future.seed=TRUE'. This ensures that proper, parallel-safe random numbers are produced via the L'Ecuyer-CMRG method. To disable this check, use 'future.seed = NULL', or set option 'future.rng.onMisuse' to \"ignore\".”\n",
      "Warning message:\n",
      "“UNRELIABLE VALUE: One of the ‘future.apply’ iterations (‘future_sapply-5’) unexpectedly generated random numbers without declaring so. There is a risk that those random numbers are not statistically sound and the overall results might be invalid. To fix this, specify 'future.seed=TRUE'. This ensures that proper, parallel-safe random numbers are produced via the L'Ecuyer-CMRG method. To disable this check, use 'future.seed = NULL', or set option 'future.rng.onMisuse' to \"ignore\".”\n",
      "Warning message:\n",
      "“UNRELIABLE VALUE: One of the ‘future.apply’ iterations (‘future_sapply-6’) unexpectedly generated random numbers without declaring so. There is a risk that those random numbers are not statistically sound and the overall results might be invalid. To fix this, specify 'future.seed=TRUE'. This ensures that proper, parallel-safe random numbers are produced via the L'Ecuyer-CMRG method. To disable this check, use 'future.seed = NULL', or set option 'future.rng.onMisuse' to \"ignore\".”\n",
      "Warning message:\n",
      "“UNRELIABLE VALUE: One of the ‘future.apply’ iterations (‘future_sapply-7’) unexpectedly generated random numbers without declaring so. There is a risk that those random numbers are not statistically sound and the overall results might be invalid. To fix this, specify 'future.seed=TRUE'. This ensures that proper, parallel-safe random numbers are produced via the L'Ecuyer-CMRG method. To disable this check, use 'future.seed = NULL', or set option 'future.rng.onMisuse' to \"ignore\".”\n",
      "Warning message:\n",
      "“UNRELIABLE VALUE: One of the ‘future.apply’ iterations (‘future_sapply-8’) unexpectedly generated random numbers without declaring so. There is a risk that those random numbers are not statistically sound and the overall results might be invalid. To fix this, specify 'future.seed=TRUE'. This ensures that proper, parallel-safe random numbers are produced via the L'Ecuyer-CMRG method. To disable this check, use 'future.seed = NULL', or set option 'future.rng.onMisuse' to \"ignore\".”\n",
      "Warning message:\n",
      "“UNRELIABLE VALUE: One of the ‘future.apply’ iterations (‘future_sapply-9’) unexpectedly generated random numbers without declaring so. There is a risk that those random numbers are not statistically sound and the overall results might be invalid. To fix this, specify 'future.seed=TRUE'. This ensures that proper, parallel-safe random numbers are produced via the L'Ecuyer-CMRG method. To disable this check, use 'future.seed = NULL', or set option 'future.rng.onMisuse' to \"ignore\".”\n",
      "Warning message:\n",
      "“UNRELIABLE VALUE: One of the ‘future.apply’ iterations (‘future_sapply-10’) unexpectedly generated random numbers without declaring so. There is a risk that those random numbers are not statistically sound and the overall results might be invalid. To fix this, specify 'future.seed=TRUE'. This ensures that proper, parallel-safe random numbers are produced via the L'Ecuyer-CMRG method. To disable this check, use 'future.seed = NULL', or set option 'future.rng.onMisuse' to \"ignore\".”\n",
      "Warning message:\n",
      "“UNRELIABLE VALUE: One of the ‘future.apply’ iterations (‘future_sapply-11’) unexpectedly generated random numbers without declaring so. There is a risk that those random numbers are not statistically sound and the overall results might be invalid. To fix this, specify 'future.seed=TRUE'. This ensures that proper, parallel-safe random numbers are produced via the L'Ecuyer-CMRG method. To disable this check, use 'future.seed = NULL', or set option 'future.rng.onMisuse' to \"ignore\".”\n",
      "Warning message:\n",
      "“UNRELIABLE VALUE: One of the ‘future.apply’ iterations (‘future_sapply-12’) unexpectedly generated random numbers without declaring so. There is a risk that those random numbers are not statistically sound and the overall results might be invalid. To fix this, specify 'future.seed=TRUE'. This ensures that proper, parallel-safe random numbers are produced via the L'Ecuyer-CMRG method. To disable this check, use 'future.seed = NULL', or set option 'future.rng.onMisuse' to \"ignore\".”\n",
      "Warning message:\n",
      "“UNRELIABLE VALUE: One of the ‘future.apply’ iterations (‘future_sapply-13’) unexpectedly generated random numbers without declaring so. There is a risk that those random numbers are not statistically sound and the overall results might be invalid. To fix this, specify 'future.seed=TRUE'. This ensures that proper, parallel-safe random numbers are produced via the L'Ecuyer-CMRG method. To disable this check, use 'future.seed = NULL', or set option 'future.rng.onMisuse' to \"ignore\".”\n",
      "Warning message:\n",
      "“UNRELIABLE VALUE: One of the ‘future.apply’ iterations (‘future_sapply-14’) unexpectedly generated random numbers without declaring so. There is a risk that those random numbers are not statistically sound and the overall results might be invalid. To fix this, specify 'future.seed=TRUE'. This ensures that proper, parallel-safe random numbers are produced via the L'Ecuyer-CMRG method. To disable this check, use 'future.seed = NULL', or set option 'future.rng.onMisuse' to \"ignore\".”\n",
      "Warning message:\n",
      "“UNRELIABLE VALUE: One of the ‘future.apply’ iterations (‘future_sapply-15’) unexpectedly generated random numbers without declaring so. There is a risk that those random numbers are not statistically sound and the overall results might be invalid. To fix this, specify 'future.seed=TRUE'. This ensures that proper, parallel-safe random numbers are produced via the L'Ecuyer-CMRG method. To disable this check, use 'future.seed = NULL', or set option 'future.rng.onMisuse' to \"ignore\".”\n",
      "Warning message:\n",
      "“UNRELIABLE VALUE: One of the ‘future.apply’ iterations (‘future_sapply-16’) unexpectedly generated random numbers without declaring so. There is a risk that those random numbers are not statistically sound and the overall results might be invalid. To fix this, specify 'future.seed=TRUE'. This ensures that proper, parallel-safe random numbers are produced via the L'Ecuyer-CMRG method. To disable this check, use 'future.seed = NULL', or set option 'future.rng.onMisuse' to \"ignore\".”\n"
     ]
    },
    {
     "name": "stdout",
     "output_type": "stream",
     "text": [
      "[1] \"Create a CellChat object from a data matrix\"\n",
      "The cell barcodes in 'meta' is  AAAGGTATCCTCTCGA.14 AAAGTCCGTCAGTCTA.14 AAAGTGAGTAGATCCT.14 AACAAGATCCTGCTAC.14 AACCAACCACCCAATA.14 AACCATGAGACCTTTG.14 \n"
     ]
    },
    {
     "name": "stderr",
     "output_type": "stream",
     "text": [
      "Warning message in createCellChat(object = data.input, meta = meta, group.by = \"labels\"):\n",
      "“The cell barcodes in 'meta' is different from those in the used data matrix.\n",
      "              We now simply assign the colnames in the data matrix to the rownames of 'mata'!”\n",
      "Warning message in createCellChat(object = data.input, meta = meta, group.by = \"labels\"):\n",
      "“The 'meta' data does not have a column named `samples`. We now add this column and all cells are assumed to belong to `sample1`!”\n"
     ]
    },
    {
     "name": "stdout",
     "output_type": "stream",
     "text": [
      "Set cell identities for the new CellChat object \n",
      "The cell groups used for CellChat analysis are  Ectoderm - Committed Neuronal Progenitors, Ectoderm - Fas+ Epithelium, Ectoderm - Immature Neurons, Ectoderm - Mature Neurons, Ectoderm - Neuronal Progenitors, Ectoderm - Non-neuronal Progenitors, Ectoderm - Olfactory Pit Rim - Six1, Ectoderm - Olfactory Pit Rim - Wnt6, Ectoderm - Oral Ectoderm, Ectoderm - Palate Epithelium, Ectoderm - Periderm, Ectoderm - Respiratory Epithelium, Ectoderm - Surface Ectoderm - Dlx2, Ectoderm - Surface Ectoderm - Gjb6, Ectoderm - Vomeronasal Organ, Mesenchyme - Chondrocytes, Mesenchyme - Maxillary Mesenchyme, Mesenchyme - Nasal Cavity Mesenchyme, Mesenchyme - Nostrils, Mesenchyme - Osteoblasts, Mesenchyme - Osteomesenchyme, Mesenchyme - Palatal Shelf, Mesenchyme - Periocular Mesenchyme, Mesenchyme - Philtrum, Mesenchyme - Primary Palate, Mesenchyme - Roof - Sim1, Mesenchyme - Upper Lip, Mesenchyme - VNO Mesenchyme, Mesenchyme - Whisker Pad \n",
      "The number of highly variable ligand-receptor pairs used for signaling inference is 1463 \n",
      "[1] 81.57424\n",
      "triMean is used for calculating the average gene expression per cell group. \n",
      "[1] \">>> Run CellChat on sc/snRNA-seq data <<< [2024-12-06 20:47:05.741383]\"\n",
      "[1] \">>> CellChat inference is done. Parameter values are stored in `object@options$parameter` <<< [2024-12-07 02:34:02.618175]\"\n"
     ]
    },
    {
     "name": "stderr",
     "output_type": "stream",
     "text": [
      "Warning message:\n",
      "“UNRELIABLE VALUE: One of the ‘future.apply’ iterations (‘future_sapply-1’) unexpectedly generated random numbers without declaring so. There is a risk that those random numbers are not statistically sound and the overall results might be invalid. To fix this, specify 'future.seed=TRUE'. This ensures that proper, parallel-safe random numbers are produced via the L'Ecuyer-CMRG method. To disable this check, use 'future.seed = NULL', or set option 'future.rng.onMisuse' to \"ignore\".”\n",
      "Warning message:\n",
      "“UNRELIABLE VALUE: One of the ‘future.apply’ iterations (‘future_sapply-2’) unexpectedly generated random numbers without declaring so. There is a risk that those random numbers are not statistically sound and the overall results might be invalid. To fix this, specify 'future.seed=TRUE'. This ensures that proper, parallel-safe random numbers are produced via the L'Ecuyer-CMRG method. To disable this check, use 'future.seed = NULL', or set option 'future.rng.onMisuse' to \"ignore\".”\n",
      "Warning message:\n",
      "“UNRELIABLE VALUE: One of the ‘future.apply’ iterations (‘future_sapply-3’) unexpectedly generated random numbers without declaring so. There is a risk that those random numbers are not statistically sound and the overall results might be invalid. To fix this, specify 'future.seed=TRUE'. This ensures that proper, parallel-safe random numbers are produced via the L'Ecuyer-CMRG method. To disable this check, use 'future.seed = NULL', or set option 'future.rng.onMisuse' to \"ignore\".”\n",
      "Warning message:\n",
      "“UNRELIABLE VALUE: One of the ‘future.apply’ iterations (‘future_sapply-4’) unexpectedly generated random numbers without declaring so. There is a risk that those random numbers are not statistically sound and the overall results might be invalid. To fix this, specify 'future.seed=TRUE'. This ensures that proper, parallel-safe random numbers are produced via the L'Ecuyer-CMRG method. To disable this check, use 'future.seed = NULL', or set option 'future.rng.onMisuse' to \"ignore\".”\n",
      "Warning message:\n",
      "“UNRELIABLE VALUE: One of the ‘future.apply’ iterations (‘future_sapply-5’) unexpectedly generated random numbers without declaring so. There is a risk that those random numbers are not statistically sound and the overall results might be invalid. To fix this, specify 'future.seed=TRUE'. This ensures that proper, parallel-safe random numbers are produced via the L'Ecuyer-CMRG method. To disable this check, use 'future.seed = NULL', or set option 'future.rng.onMisuse' to \"ignore\".”\n",
      "Warning message:\n",
      "“UNRELIABLE VALUE: One of the ‘future.apply’ iterations (‘future_sapply-6’) unexpectedly generated random numbers without declaring so. There is a risk that those random numbers are not statistically sound and the overall results might be invalid. To fix this, specify 'future.seed=TRUE'. This ensures that proper, parallel-safe random numbers are produced via the L'Ecuyer-CMRG method. To disable this check, use 'future.seed = NULL', or set option 'future.rng.onMisuse' to \"ignore\".”\n",
      "Warning message:\n",
      "“UNRELIABLE VALUE: One of the ‘future.apply’ iterations (‘future_sapply-7’) unexpectedly generated random numbers without declaring so. There is a risk that those random numbers are not statistically sound and the overall results might be invalid. To fix this, specify 'future.seed=TRUE'. This ensures that proper, parallel-safe random numbers are produced via the L'Ecuyer-CMRG method. To disable this check, use 'future.seed = NULL', or set option 'future.rng.onMisuse' to \"ignore\".”\n",
      "Warning message:\n",
      "“UNRELIABLE VALUE: One of the ‘future.apply’ iterations (‘future_sapply-8’) unexpectedly generated random numbers without declaring so. There is a risk that those random numbers are not statistically sound and the overall results might be invalid. To fix this, specify 'future.seed=TRUE'. This ensures that proper, parallel-safe random numbers are produced via the L'Ecuyer-CMRG method. To disable this check, use 'future.seed = NULL', or set option 'future.rng.onMisuse' to \"ignore\".”\n",
      "Warning message:\n",
      "“UNRELIABLE VALUE: One of the ‘future.apply’ iterations (‘future_sapply-9’) unexpectedly generated random numbers without declaring so. There is a risk that those random numbers are not statistically sound and the overall results might be invalid. To fix this, specify 'future.seed=TRUE'. This ensures that proper, parallel-safe random numbers are produced via the L'Ecuyer-CMRG method. To disable this check, use 'future.seed = NULL', or set option 'future.rng.onMisuse' to \"ignore\".”\n",
      "Warning message:\n",
      "“UNRELIABLE VALUE: One of the ‘future.apply’ iterations (‘future_sapply-10’) unexpectedly generated random numbers without declaring so. There is a risk that those random numbers are not statistically sound and the overall results might be invalid. To fix this, specify 'future.seed=TRUE'. This ensures that proper, parallel-safe random numbers are produced via the L'Ecuyer-CMRG method. To disable this check, use 'future.seed = NULL', or set option 'future.rng.onMisuse' to \"ignore\".”\n",
      "Warning message:\n",
      "“UNRELIABLE VALUE: One of the ‘future.apply’ iterations (‘future_sapply-11’) unexpectedly generated random numbers without declaring so. There is a risk that those random numbers are not statistically sound and the overall results might be invalid. To fix this, specify 'future.seed=TRUE'. This ensures that proper, parallel-safe random numbers are produced via the L'Ecuyer-CMRG method. To disable this check, use 'future.seed = NULL', or set option 'future.rng.onMisuse' to \"ignore\".”\n",
      "Warning message:\n",
      "“UNRELIABLE VALUE: One of the ‘future.apply’ iterations (‘future_sapply-12’) unexpectedly generated random numbers without declaring so. There is a risk that those random numbers are not statistically sound and the overall results might be invalid. To fix this, specify 'future.seed=TRUE'. This ensures that proper, parallel-safe random numbers are produced via the L'Ecuyer-CMRG method. To disable this check, use 'future.seed = NULL', or set option 'future.rng.onMisuse' to \"ignore\".”\n",
      "Warning message:\n",
      "“UNRELIABLE VALUE: One of the ‘future.apply’ iterations (‘future_sapply-13’) unexpectedly generated random numbers without declaring so. There is a risk that those random numbers are not statistically sound and the overall results might be invalid. To fix this, specify 'future.seed=TRUE'. This ensures that proper, parallel-safe random numbers are produced via the L'Ecuyer-CMRG method. To disable this check, use 'future.seed = NULL', or set option 'future.rng.onMisuse' to \"ignore\".”\n",
      "Warning message:\n",
      "“UNRELIABLE VALUE: One of the ‘future.apply’ iterations (‘future_sapply-14’) unexpectedly generated random numbers without declaring so. There is a risk that those random numbers are not statistically sound and the overall results might be invalid. To fix this, specify 'future.seed=TRUE'. This ensures that proper, parallel-safe random numbers are produced via the L'Ecuyer-CMRG method. To disable this check, use 'future.seed = NULL', or set option 'future.rng.onMisuse' to \"ignore\".”\n",
      "Warning message:\n",
      "“UNRELIABLE VALUE: One of the ‘future.apply’ iterations (‘future_sapply-15’) unexpectedly generated random numbers without declaring so. There is a risk that those random numbers are not statistically sound and the overall results might be invalid. To fix this, specify 'future.seed=TRUE'. This ensures that proper, parallel-safe random numbers are produced via the L'Ecuyer-CMRG method. To disable this check, use 'future.seed = NULL', or set option 'future.rng.onMisuse' to \"ignore\".”\n",
      "Warning message:\n",
      "“UNRELIABLE VALUE: One of the ‘future.apply’ iterations (‘future_sapply-16’) unexpectedly generated random numbers without declaring so. There is a risk that those random numbers are not statistically sound and the overall results might be invalid. To fix this, specify 'future.seed=TRUE'. This ensures that proper, parallel-safe random numbers are produced via the L'Ecuyer-CMRG method. To disable this check, use 'future.seed = NULL', or set option 'future.rng.onMisuse' to \"ignore\".”\n"
     ]
    }
   ],
   "source": [
    "##########testing cellchat\n",
    "library(reticulate)\n",
    "use_python('/home/jupyter-seton/micromamba/envs/cellchat/bin')\n",
    "\n",
    "library(anndata)\n",
    "setwd('/mnt/mpistaff/Cranio_Lab/Louk_Seton/mesenchyme_project_2023/')\n",
    "\n",
    "anndata_list = c('E8','E9','E10','E11','E12','E13','E14')\n",
    "annotation_list = c('annotation_combined', 'annotation_combined_fine','annotation_combined_coarse')\n",
    "\n",
    "for (stage in anndata_list){\n",
    "    adata_loc = paste0(\"anndata_objects/adata_\",stage,\"_combined_annotated.h5ad\")\n",
    "    ad <- read_h5ad(adata_loc)\n",
    "    for (annotation in annotation_list){\n",
    "        if(annotation %in% colnames(ad$obs)) { #bit of a nasty if else, but I want to make sure it doesn't hang if the annotation is missing\n",
    "            counts <- t(as.matrix(ad$layers['original_counts']))\n",
    "            library.size <- Matrix::colSums(counts)\n",
    "            data.input <- as(log1p(Matrix::t(Matrix::t(counts)/library.size) * 10000), \"dgCMatrix\")\n",
    "            meta <- ad$obs \n",
    "            meta$labels <- meta[[annotation]]\n",
    "            library(CellChat)\n",
    "            library(patchwork)\n",
    "            options(stringsAsFactors = FALSE)\n",
    "            ptm = Sys.time()\n",
    "            \n",
    "            cellchat <- createCellChat(object = data.input, meta = meta, group.by = \"labels\")\n",
    "            \n",
    "            CellChatDB <- CellChatDB.mouse #if running on mouse data\n",
    "            CellChatDB.use <- subsetDB(CellChatDB)\n",
    "            cellchat@DB <- CellChatDB.use\n",
    "            \n",
    "            # subset the expression data of signaling genes for saving computation cost\n",
    "            cellchat <- subsetData(cellchat) # This step is necessary even if using the whole database\n",
    "            future::plan(\"multisession\", workers = 16) # do parallel\n",
    "            cellchat <- identifyOverExpressedGenes(cellchat)\n",
    "            cellchat <- identifyOverExpressedInteractions(cellchat)\n",
    "            #> The number of highly variable ligand-receptor pairs used for signaling inference is 692\n",
    "\n",
    "            execution.time = Sys.time() - ptm\n",
    "            print(as.numeric(execution.time, units = \"secs\"))\n",
    "            #> [1] 13.20763\n",
    "            # project gene expression data onto PPI (Optional: when running it, USER should set `raw.use = FALSE` in the function `computeCommunProb()` in order to use the projected data)\n",
    "            # cellchat <- projectData(cellchat, PPI.human)\n",
    "            \n",
    "            ptm = Sys.time()\n",
    "            cellchat <- computeCommunProb(cellchat, type = \"triMean\")\n",
    "            \n",
    "            cellchat <- filterCommunication(cellchat, min.cells = 10)\n",
    "            \n",
    "            cellchat <- computeCommunProbPathway(cellchat)\n",
    "            \n",
    "            cellchat <- aggregateNet(cellchat)\n",
    "            \n",
    "            cellchat <- netAnalysis_computeCentrality(cellchat, slot.name = \"netP\") # the slot 'netP' means the inferred intercellular communication network of signaling pathways\n",
    "            \n",
    "            CellChatDB <- CellChatDB.mouse #if running on mouse data\n",
    "            CellChatDB.use <- subsetDB(CellChatDB)\n",
    "            df <- CellChatDB.use$interaction\n",
    "            df = within(df, { #add pathway annotation\n",
    "                f <- pathway_name == 'MK' | pathway_name == 'PTN'\n",
    "                annotation[f] <- 'MK_PTN family'\n",
    "            }) \n",
    "\n",
    "            CellChatDB.use$interaction <- df\n",
    "            cellchat@DB = CellChatDB.use\n",
    "            \n",
    "            saveRDS(cellchat, file = paste0('RDS_objects/cellchat_',stage,'_',annotation,'.rds'))\n",
    "\n",
    "        } else {\n",
    "            print(paste0(annotation, ' missing from ', stage))\n",
    "            }\n",
    "        }\n",
    "    }"
   ]
  },
  {
   "cell_type": "code",
   "execution_count": null,
   "id": "8a29c068-aca4-4f99-94c6-dc96d016d7ed",
   "metadata": {},
   "outputs": [],
   "source": []
  }
 ],
 "metadata": {
  "kernelspec": {
   "display_name": "cellchat",
   "language": "R",
   "name": "cellchat"
  },
  "language_info": {
   "codemirror_mode": "r",
   "file_extension": ".r",
   "mimetype": "text/x-r-source",
   "name": "R",
   "pygments_lexer": "r",
   "version": "4.3.3"
  }
 },
 "nbformat": 4,
 "nbformat_minor": 5
}
