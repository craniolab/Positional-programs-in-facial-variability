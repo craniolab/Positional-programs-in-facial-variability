{
 "cells": [
  {
   "cell_type": "code",
   "execution_count": 1,
   "id": "21d4742b-315a-4386-adc5-72e1679b02f9",
   "metadata": {
    "tags": []
   },
   "outputs": [
    {
     "name": "stderr",
     "output_type": "stream",
     "text": [
      "Global seed set to 1995\n"
     ]
    }
   ],
   "source": [
    "import logging\n",
    "logging.getLogger('matplotlib.font_manager').setLevel(logging.ERROR)\n",
    "import palantir\n",
    "import scanpy as sc\n",
    "import scvelo as scv\n",
    "import cellrank as cr\n",
    "import scvi\n",
    "import phate\n",
    "import plotly.express as px\n",
    "import numpy as np\n",
    "from dash import Dash, dcc, html, Input, Output\n",
    "scvi.settings.seed = 1995\n",
    "from anndata import AnnData\n",
    "import time\n",
    "\n",
    "import pandas as pd\n",
    "\n",
    "import os\n",
    "import sys\n",
    "os.environ['R_HOME'] = sys.exec_prefix+\"/lib/R/\"\n",
    "\n",
    "# Plotting\n",
    "import matplotlib\n",
    "import matplotlib.pyplot as plt\n",
    "import matplotlib as mpl\n",
    "\n",
    "from copy import copy\n",
    "reds = copy(mpl.cm.Reds)\n",
    "reds.set_under(\"lightgray\")\n",
    "\n",
    "def matplotlib_to_plotly(cmap, pl_entries):\n",
    "    h = 1.0/(pl_entries-1)\n",
    "    pl_colorscale = []\n",
    "\n",
    "    for k in range(pl_entries):\n",
    "        C = list(map(np.uint8, np.array(cmap(k * h)[:3]) * 255))\n",
    "        pl_colorscale.append([k*h, 'rgb'+str((C[0], C[1], C[2]))])\n",
    "\n",
    "    return pl_colorscale\n",
    "\n",
    "plotly_reds = matplotlib_to_plotly(reds, 255)\n",
    "plotly_reds[0] = [0.0, 'rgb(211, 211, 211)']\n",
    "\n",
    "# Inline plotting\n",
    "%matplotlib inline\n",
    "\n",
    "project_directory = '/Cranio_Lab/Louk_Seton/mesenchyme_project_2023'\n",
    "os.chdir(os.path.expanduser(\"~\")+project_directory)"
   ]
  },
  {
   "cell_type": "code",
   "execution_count": 2,
   "id": "4ffc35bc-7ff0-4480-a09e-5d90dc222eb5",
   "metadata": {
    "tags": []
   },
   "outputs": [],
   "source": [
    "adata =  sc.read('anndata_objects/mesenchyme_interactive.h5ad')"
   ]
  },
  {
   "cell_type": "code",
   "execution_count": 20,
   "id": "042e8a63-ebc0-4b89-8c5f-9b7e8676f08d",
   "metadata": {
    "tags": []
   },
   "outputs": [
    {
     "data": {
      "text/plain": [
       "['Chondrocytes',\n",
       " 'FNP Early Mesenchyme',\n",
       " 'LNP Mesenchyme',\n",
       " 'MNP Mesenchyme',\n",
       " 'MXP Early Mesenchyme',\n",
       " 'Maxillary Mesenchyme',\n",
       " 'Nasal Cavity Mesenchyme',\n",
       " 'Neural Crest',\n",
       " 'Nostrils',\n",
       " 'Osteoblasts',\n",
       " 'Osteomesenchyme',\n",
       " 'Palatal Shelf',\n",
       " 'Periocular Mesenchyme',\n",
       " 'Philtrum',\n",
       " 'Primary Palate',\n",
       " 'Roof - Sim1',\n",
       " 'Upper Lip',\n",
       " 'VNO Mesenchyme',\n",
       " 'Whisker Pad']"
      ]
     },
     "execution_count": 20,
     "metadata": {},
     "output_type": "execute_result"
    }
   ],
   "source": [
    "list(adata.obs['annotation_paper_coarse'].dtype.categories)"
   ]
  },
  {
   "cell_type": "code",
   "execution_count": 21,
   "id": "72013e33-a3e1-408c-9503-072feec0a987",
   "metadata": {
    "tags": []
   },
   "outputs": [
    {
     "data": {
      "text/plain": [
       "View of AnnData object with n_obs × n_vars = 815 × 19928\n",
       "    obs: 'Clusters', '_X', '_Y', 'initial_size_unspliced', 'initial_size_spliced', 'initial_size', 'sample', 'barcode', 'batch', 'doublet_score', 'predicted_doublets', 'predicted_doublets_based_on_10x_chromium_spec', 'n_genes_by_counts', 'total_counts', 'total_counts_mt', 'pct_counts_mt', 'total_counts_rb', 'pct_counts_rb', 'pct_counts_unspliced', 'pred_doubl_cat', 'stage', 'S_score', 'G2M_score', 'phase', '_scvi_batch', '_scvi_labels', 'E8_mesen_annotation_coarse', 'E8_mesen_annotation_fine', 'integration_label', 'E9_mesen_annotation_coarse', 'E9_mesen_annotation_fine', 'E10_mesen_annotation_fine', 'E10_mesen_annotation_coarse', 'E11_mesen_annotation_coarse', 'E11_mesen_annotation_fine', 'E12_mesen_annotation_coarse', 'E13_mesen_annotation_coarse', 'E14_mesen_annotation_coarse', 'topic_0', 'topic_1', 'topic_2', 'topic_3', 'topic_4', 'topic_5', 'topic_6', 'topic_7', 'topic_8', 'topic_9', 'topic_10', 'topic_11', 'topic_12', 'topic_13', 'topic_14', 'topic_15', 'topic_16', 'topic_17', 'topic_18', 'topic_19', 'topic_20', 'topic_21', 'topic_22', 'topic_23', 'topic_24', 'mira_clustering', 'mira_clustering_codes', 'palantir_pseudotime', 'palantir_entropy', 'macrostates_fwd', 'term_states_fwd', 'term_states_fwd_probs', 'annotation_2024', 'annotation_coarse_2024', 'annotation_paper_coarse', 'leiden0.5', 'leiden0.6', 'leiden0.7', 'leiden0.8', 'leiden0.9', 'leiden1', 'leiden1.2', 'leiden1.4', 'leiden1.6', 'leiden1.8', 'leiden2', 'leiden2.2', 'leiden2.4', 'leiden2.6', 'leiden2.8', 'leiden3'\n",
       "    var: 'n_cells', 'highly_variable', 'means', 'dispersions', 'dispersions_norm', 'mean', 'std', 'highly_variable_list', 'highly_variable_nbatches', 'highly_variable_intersection', 'gene_symbol'\n",
       "    uns: 'DM_EigenValues', 'T_fwd_params', 'annotation_coarse_2024_sizes', 'annotation_paper_coarse_colors', 'batch_colors', 'coarse_fwd', 'dendrogram_annotation_2024', 'dendrogram_annotation_coarse_2024', 'dendrogram_annotation_paper_coarse', 'eigendecomposition_fwd', 'hvg', 'leiden', 'macrostates_fwd_colors', 'mira_clustering_codes_colors', 'mira_clustering_colors', 'neighbors', 'paga', 'palantir_waypoints', 'pca', 'phase_colors', 'schur_matrix_fwd', 'stage_colors', 'term_states_fwd_colors', 'topic_dendogram', 'umap', 'wilcoxon_annotation_2024', 'wilcoxon_annotation_paper_coarse', 'wilcoxon_leiden0.5', 'wilcoxon_leiden0.6', 'wilcoxon_leiden0.7', 'wilcoxon_leiden0.8', 'wilcoxon_leiden0.9', 'wilcoxon_leiden1', 'wilcoxon_leiden1.2', 'wilcoxon_leiden1.4', 'wilcoxon_leiden1.6', 'wilcoxon_leiden1.8', 'wilcoxon_leiden2', 'wilcoxon_leiden2.2', 'wilcoxon_leiden2.4', 'wilcoxon_leiden2.6', 'wilcoxon_leiden2.8', 'wilcoxon_leiden3'\n",
       "    obsm: 'DM_EigenVectors', 'DM_EigenVectors_multiscaled', 'T_fwd_umap_tuned_3d', 'X_MDE', 'X_harmony_MDE', 'X_pca', 'X_pca_harmony', 'X_scvi', 'X_scvi_MDE', 'X_topic_compositions', 'X_umap', 'X_umap_20_topics_100_epochs', 'X_umap_20_topics_100_epochs_3d', 'X_umap_20_topics_50_epochs', 'X_umap_20_topics_50_epochs_3d', 'X_umap_20_topics_70_epochs', 'X_umap_20_topics_70_epochs_3d', 'X_umap_20_topics_75_epochs', 'X_umap_20_topics_75_epochs_3d', 'X_umap_20_topics_80_epochs', 'X_umap_20_topics_80_epochs_3d', 'X_umap_20_topics_85_epochs', 'X_umap_20_topics_85_epochs_3d', 'X_umap_22_topics_100_epochs', 'X_umap_22_topics_100_epochs_3d', 'X_umap_22_topics_50_epochs', 'X_umap_22_topics_50_epochs_3d', 'X_umap_22_topics_70_epochs', 'X_umap_22_topics_70_epochs_3d', 'X_umap_22_topics_75_epochs', 'X_umap_22_topics_75_epochs_3d', 'X_umap_22_topics_80_epochs', 'X_umap_22_topics_80_epochs_3d', 'X_umap_22_topics_85_epochs', 'X_umap_22_topics_85_epochs_3d', 'X_umap_23_topics_100_epochs', 'X_umap_23_topics_100_epochs_3d', 'X_umap_23_topics_50_epochs', 'X_umap_23_topics_50_epochs_3d', 'X_umap_23_topics_70_epochs', 'X_umap_23_topics_70_epochs_3d', 'X_umap_23_topics_75_epochs', 'X_umap_23_topics_75_epochs_3d', 'X_umap_23_topics_80_epochs', 'X_umap_23_topics_80_epochs_3d', 'X_umap_23_topics_85_epochs', 'X_umap_23_topics_85_epochs_3d', 'X_umap_24_topics_100_epochs', 'X_umap_24_topics_100_epochs_3d', 'X_umap_24_topics_50_epochs', 'X_umap_24_topics_50_epochs_3d', 'X_umap_24_topics_70_epochs', 'X_umap_24_topics_70_epochs_3d', 'X_umap_24_topics_75_epochs', 'X_umap_24_topics_75_epochs_3d', 'X_umap_24_topics_80_epochs', 'X_umap_24_topics_80_epochs_3d', 'X_umap_24_topics_85_epochs', 'X_umap_24_topics_85_epochs_3d', 'X_umap_25_topics_100_epochs', 'X_umap_25_topics_100_epochs_3d', 'X_umap_25_topics_50_epochs', 'X_umap_25_topics_50_epochs_3d', 'X_umap_25_topics_70_epochs', 'X_umap_25_topics_70_epochs_3d', 'X_umap_25_topics_75_epochs', 'X_umap_25_topics_75_epochs_3d', 'X_umap_25_topics_80_epochs', 'X_umap_25_topics_80_epochs_3d', 'X_umap_25_topics_85_epochs', 'X_umap_25_topics_85_epochs_3d', 'X_umap_features', 'X_umap_tuned_3d', 'X_umap_tuned_3d_2d', 'X_umap_tuned_3d_new', '_scvi_extra_continuous_covs', 'branch_masks', 'lineages_fwd', 'macrostates_fwd_memberships', 'palantir_fate_probabilities', 'schur_vectors_fwd', 'term_states_fwd_memberships'\n",
       "    varm: 'PCs', 'terminal_lineage_drivers', 'topic_feature_activations', 'topic_feature_compositions'\n",
       "    layers: 'ambiguous', 'matrix', 'original_counts', 'spliced', 'unspliced'\n",
       "    obsp: 'DM_Kernel', 'DM_Similarity', 'connectivities', 'distances'"
      ]
     },
     "execution_count": 21,
     "metadata": {},
     "output_type": "execute_result"
    }
   ],
   "source": [
    "adata[adata.obs['stage']=='8']"
   ]
  },
  {
   "cell_type": "code",
   "execution_count": 22,
   "id": "4399eae5-42f4-4a8e-bab4-3b32fe2ee6cb",
   "metadata": {
    "tags": []
   },
   "outputs": [],
   "source": [
    "##E8\n",
    "ecto = sc.read('anndata_objects/adata_ecto_E8_no_hesx1_pitx2.h5ad')\n",
    "# mesen = sc.read('anndata_objects/adata_E8_mesen_annotated.h5ad')\n",
    "mesen = adata[adata.obs['stage']=='8'].copy()"
   ]
  },
  {
   "cell_type": "code",
   "execution_count": 23,
   "id": "8479674b-5810-4d7e-a5b6-624cd7b31209",
   "metadata": {
    "tags": []
   },
   "outputs": [
    {
     "data": {
      "text/plain": [
       "AnnData object with n_obs × n_vars = 815 × 19928\n",
       "    obs: 'Clusters', '_X', '_Y', 'initial_size_unspliced', 'initial_size_spliced', 'initial_size', 'sample', 'barcode', 'batch', 'doublet_score', 'predicted_doublets', 'predicted_doublets_based_on_10x_chromium_spec', 'n_genes_by_counts', 'total_counts', 'total_counts_mt', 'pct_counts_mt', 'total_counts_rb', 'pct_counts_rb', 'pct_counts_unspliced', 'pred_doubl_cat', 'stage', 'S_score', 'G2M_score', 'phase', '_scvi_batch', '_scvi_labels', 'E8_mesen_annotation_coarse', 'E8_mesen_annotation_fine', 'integration_label', 'E9_mesen_annotation_coarse', 'E9_mesen_annotation_fine', 'E10_mesen_annotation_fine', 'E10_mesen_annotation_coarse', 'E11_mesen_annotation_coarse', 'E11_mesen_annotation_fine', 'E12_mesen_annotation_coarse', 'E13_mesen_annotation_coarse', 'E14_mesen_annotation_coarse', 'topic_0', 'topic_1', 'topic_2', 'topic_3', 'topic_4', 'topic_5', 'topic_6', 'topic_7', 'topic_8', 'topic_9', 'topic_10', 'topic_11', 'topic_12', 'topic_13', 'topic_14', 'topic_15', 'topic_16', 'topic_17', 'topic_18', 'topic_19', 'topic_20', 'topic_21', 'topic_22', 'topic_23', 'topic_24', 'mira_clustering', 'mira_clustering_codes', 'palantir_pseudotime', 'palantir_entropy', 'macrostates_fwd', 'term_states_fwd', 'term_states_fwd_probs', 'annotation_2024', 'annotation_coarse_2024', 'annotation_paper_coarse', 'leiden0.5', 'leiden0.6', 'leiden0.7', 'leiden0.8', 'leiden0.9', 'leiden1', 'leiden1.2', 'leiden1.4', 'leiden1.6', 'leiden1.8', 'leiden2', 'leiden2.2', 'leiden2.4', 'leiden2.6', 'leiden2.8', 'leiden3'\n",
       "    var: 'n_cells', 'highly_variable', 'means', 'dispersions', 'dispersions_norm', 'mean', 'std', 'highly_variable_list', 'highly_variable_nbatches', 'highly_variable_intersection', 'gene_symbol'\n",
       "    uns: 'DM_EigenValues', 'T_fwd_params', 'annotation_coarse_2024_sizes', 'annotation_paper_coarse_colors', 'batch_colors', 'coarse_fwd', 'dendrogram_annotation_2024', 'dendrogram_annotation_coarse_2024', 'dendrogram_annotation_paper_coarse', 'eigendecomposition_fwd', 'hvg', 'leiden', 'macrostates_fwd_colors', 'mira_clustering_codes_colors', 'mira_clustering_colors', 'neighbors', 'paga', 'palantir_waypoints', 'pca', 'phase_colors', 'schur_matrix_fwd', 'stage_colors', 'term_states_fwd_colors', 'topic_dendogram', 'umap', 'wilcoxon_annotation_2024', 'wilcoxon_annotation_paper_coarse', 'wilcoxon_leiden0.5', 'wilcoxon_leiden0.6', 'wilcoxon_leiden0.7', 'wilcoxon_leiden0.8', 'wilcoxon_leiden0.9', 'wilcoxon_leiden1', 'wilcoxon_leiden1.2', 'wilcoxon_leiden1.4', 'wilcoxon_leiden1.6', 'wilcoxon_leiden1.8', 'wilcoxon_leiden2', 'wilcoxon_leiden2.2', 'wilcoxon_leiden2.4', 'wilcoxon_leiden2.6', 'wilcoxon_leiden2.8', 'wilcoxon_leiden3'\n",
       "    obsm: 'DM_EigenVectors', 'DM_EigenVectors_multiscaled', 'T_fwd_umap_tuned_3d', 'X_MDE', 'X_harmony_MDE', 'X_pca', 'X_pca_harmony', 'X_scvi', 'X_scvi_MDE', 'X_topic_compositions', 'X_umap', 'X_umap_20_topics_100_epochs', 'X_umap_20_topics_100_epochs_3d', 'X_umap_20_topics_50_epochs', 'X_umap_20_topics_50_epochs_3d', 'X_umap_20_topics_70_epochs', 'X_umap_20_topics_70_epochs_3d', 'X_umap_20_topics_75_epochs', 'X_umap_20_topics_75_epochs_3d', 'X_umap_20_topics_80_epochs', 'X_umap_20_topics_80_epochs_3d', 'X_umap_20_topics_85_epochs', 'X_umap_20_topics_85_epochs_3d', 'X_umap_22_topics_100_epochs', 'X_umap_22_topics_100_epochs_3d', 'X_umap_22_topics_50_epochs', 'X_umap_22_topics_50_epochs_3d', 'X_umap_22_topics_70_epochs', 'X_umap_22_topics_70_epochs_3d', 'X_umap_22_topics_75_epochs', 'X_umap_22_topics_75_epochs_3d', 'X_umap_22_topics_80_epochs', 'X_umap_22_topics_80_epochs_3d', 'X_umap_22_topics_85_epochs', 'X_umap_22_topics_85_epochs_3d', 'X_umap_23_topics_100_epochs', 'X_umap_23_topics_100_epochs_3d', 'X_umap_23_topics_50_epochs', 'X_umap_23_topics_50_epochs_3d', 'X_umap_23_topics_70_epochs', 'X_umap_23_topics_70_epochs_3d', 'X_umap_23_topics_75_epochs', 'X_umap_23_topics_75_epochs_3d', 'X_umap_23_topics_80_epochs', 'X_umap_23_topics_80_epochs_3d', 'X_umap_23_topics_85_epochs', 'X_umap_23_topics_85_epochs_3d', 'X_umap_24_topics_100_epochs', 'X_umap_24_topics_100_epochs_3d', 'X_umap_24_topics_50_epochs', 'X_umap_24_topics_50_epochs_3d', 'X_umap_24_topics_70_epochs', 'X_umap_24_topics_70_epochs_3d', 'X_umap_24_topics_75_epochs', 'X_umap_24_topics_75_epochs_3d', 'X_umap_24_topics_80_epochs', 'X_umap_24_topics_80_epochs_3d', 'X_umap_24_topics_85_epochs', 'X_umap_24_topics_85_epochs_3d', 'X_umap_25_topics_100_epochs', 'X_umap_25_topics_100_epochs_3d', 'X_umap_25_topics_50_epochs', 'X_umap_25_topics_50_epochs_3d', 'X_umap_25_topics_70_epochs', 'X_umap_25_topics_70_epochs_3d', 'X_umap_25_topics_75_epochs', 'X_umap_25_topics_75_epochs_3d', 'X_umap_25_topics_80_epochs', 'X_umap_25_topics_80_epochs_3d', 'X_umap_25_topics_85_epochs', 'X_umap_25_topics_85_epochs_3d', 'X_umap_features', 'X_umap_tuned_3d', 'X_umap_tuned_3d_2d', 'X_umap_tuned_3d_new', '_scvi_extra_continuous_covs', 'branch_masks', 'lineages_fwd', 'macrostates_fwd_memberships', 'palantir_fate_probabilities', 'schur_vectors_fwd', 'term_states_fwd_memberships'\n",
       "    varm: 'PCs', 'terminal_lineage_drivers', 'topic_feature_activations', 'topic_feature_compositions'\n",
       "    layers: 'ambiguous', 'matrix', 'original_counts', 'spliced', 'unspliced'\n",
       "    obsp: 'DM_Kernel', 'DM_Similarity', 'connectivities', 'distances'"
      ]
     },
     "execution_count": 23,
     "metadata": {},
     "output_type": "execute_result"
    }
   ],
   "source": [
    "mesen"
   ]
  },
  {
   "cell_type": "code",
   "execution_count": 24,
   "id": "f4fbec92-8e87-4fe9-92b5-aa58b8a163f4",
   "metadata": {
    "tags": []
   },
   "outputs": [],
   "source": [
    "###Ecto\n",
    "ecto.obs['annotation_combined'] = ecto.obs['E8_ecto_annotation_coarse']\n",
    "ecto.obs['annotation_combined_fine'] = ecto.obs['E8_ecto_annotation_coarse']\n",
    "\n",
    "\n",
    "##add prefix\n",
    "ecto.obs['annotation_combined'] = 'Ectoderm - ' + ecto.obs['annotation_combined'].astype(str)\n",
    "ecto.obs['annotation_combined'] = ecto.obs['annotation_combined'].astype('category')\n",
    "\n",
    "ecto.obs['annotation_combined_fine'] = 'Ectoderm - ' + ecto.obs['annotation_combined_fine'].astype(str)\n",
    "ecto.obs['annotation_combined_fine'] = ecto.obs['annotation_combined_fine'].astype('category')\n",
    "\n",
    "ecto.obs['annotation_combined_coarse'] = ecto.obs['annotation_combined']\n",
    "\n",
    "###Mesen\n",
    "mesen.obs['annotation_combined'] = mesen.obs['annotation_2024']\n",
    "mesen.obs['annotation_combined_fine'] = mesen.obs['E8_mesen_annotation_fine']\n",
    "mesen.obs['annotation_combined_coarse'] = mesen.obs['annotation_paper_coarse']\n",
    "\n",
    "\n",
    "##add prefix\n",
    "mesen.obs['annotation_combined'] = 'Mesenchyme - ' + mesen.obs['annotation_combined'].astype(str)\n",
    "mesen.obs['annotation_combined'] = mesen.obs['annotation_combined'].astype('category')\n",
    "\n",
    "mesen.obs['annotation_combined_fine'] = 'Mesenchyme - ' + mesen.obs['annotation_combined_fine'].astype(str)\n",
    "mesen.obs['annotation_combined_fine'] = mesen.obs['annotation_combined_fine'].astype('category')\n",
    "\n",
    "mesen.obs['annotation_combined_coarse'] = 'Mesenchyme - ' + mesen.obs['annotation_combined_coarse'].astype(str)\n",
    "mesen.obs['annotation_combined_coarse'] = mesen.obs['annotation_combined_coarse'].astype('category')"
   ]
  },
  {
   "cell_type": "code",
   "execution_count": 25,
   "id": "f33ff573-4394-4b34-a9d7-7c2e50dba9b8",
   "metadata": {
    "tags": []
   },
   "outputs": [],
   "source": [
    "ecto.obs['source']='ecto'\n",
    "mesen.obs['source']='mesen'"
   ]
  },
  {
   "cell_type": "code",
   "execution_count": 26,
   "id": "f377933a-c06b-4816-af5d-c2941c94dfe7",
   "metadata": {
    "tags": []
   },
   "outputs": [],
   "source": [
    "import anndata as ad\n",
    "adata_combined = ad.concat([ecto, mesen])"
   ]
  },
  {
   "cell_type": "code",
   "execution_count": 27,
   "id": "c5112e4e-8743-4e3b-88c1-4a08392a17ec",
   "metadata": {
    "tags": []
   },
   "outputs": [
    {
     "data": {
      "text/plain": [
       "annotation_combined_coarse\n",
       "Mesenchyme - Neural Crest            414\n",
       "Mesenchyme - MXP Early Mesenchyme    251\n",
       "Mesenchyme - FNP Early Mesenchyme    150\n",
       "Ectoderm - Surface Ectoderm           77\n",
       "Ectoderm - Ectodermal Placode         39\n",
       "Name: count, dtype: int64"
      ]
     },
     "execution_count": 27,
     "metadata": {},
     "output_type": "execute_result"
    }
   ],
   "source": [
    "adata_combined.obs['annotation_combined_coarse'].value_counts()"
   ]
  },
  {
   "cell_type": "code",
   "execution_count": 28,
   "id": "08c9cbef-8efe-42a9-9b43-fcca79a81e77",
   "metadata": {
    "tags": []
   },
   "outputs": [],
   "source": [
    "adata_combined.write('anndata_objects/adata_E8_combined_annotated.h5ad')"
   ]
  },
  {
   "cell_type": "code",
   "execution_count": null,
   "id": "739f8269-a150-4f83-80e8-9856a05b69c1",
   "metadata": {},
   "outputs": [],
   "source": []
  },
  {
   "cell_type": "code",
   "execution_count": 29,
   "id": "99b3232e-0c9c-48d5-808b-f40692d989c3",
   "metadata": {
    "tags": []
   },
   "outputs": [],
   "source": [
    "#E9\n",
    "ecto = sc.read('anndata_objects/adata_ecto_E9_no_hesx1.h5ad')\n",
    "#mesen = sc.read('anndata_objects/adata_E9_mesen_annotated.h5ad')\n",
    "mesen = adata[adata.obs['stage']=='9'].copy()"
   ]
  },
  {
   "cell_type": "code",
   "execution_count": 31,
   "id": "242cd8eb-44a2-4b27-b0c2-4da38dd9baae",
   "metadata": {
    "tags": []
   },
   "outputs": [
    {
     "data": {
      "text/plain": [
       "AnnData object with n_obs × n_vars = 126 × 17204\n",
       "    obs: 'Clusters', '_X', '_Y', 'initial_size_unspliced', 'initial_size_spliced', 'initial_size', 'sample', 'barcode', 'batch', 'doublet_score', 'predicted_doublets', 'predicted_doublets_based_on_10x_chromium_spec', 'n_genes_by_counts', 'total_counts', 'total_counts_mt', 'pct_counts_mt', 'total_counts_rb', 'pct_counts_rb', 'pct_counts_unspliced', 'pred_doubl_cat', 'stage', 'S_score', 'G2M_score', 'phase', '_scvi_batch', '_scvi_labels', 'leiden', 'leiden_ecto', 'E8_ecto_annotation_coarse', 'leiden_default', 'E9_ecto_annotation_coarse', 'reso_for_ecto', 'leiden_ecto_tmp', 'E10_ecto_annotation_coarse', 'leiden_ecto_fine', 'leiden_ecto_extra_fine', 'leiden_ecto1', 'E11_ecto_annotation_coarse', 'E11_ecto_annotation_fine', 'leiden_neuron', 'E12_ecto_annotation_coarse', 'E12_ecto_annotation_fine', 'leiden_coarse', 'E13_ecto_annotation_coarse', 'E13_ecto_annotation_fine', 'E14_ecto_annotation_coarse', 'E14_ecto_annotation_fine', 'annotation_test', 'topic_0', 'topic_1', 'topic_2', 'topic_3', 'topic_4', 'topic_5', 'topic_6', 'topic_7', 'topic_8', 'topic_9', 'topic_10'\n",
       "    var: 'n_cells', 'highly_variable', 'means', 'dispersions', 'dispersions_norm', 'mean', 'std', 'highly_variable_rank', 'variances', 'variances_norm'\n",
       "    uns: 'E8_ecto_annotation_coarse_colors', 'E9_ecto_annotation_coarse_colors', 'annotation_test_colors', 'batch_colors', 'dendrogram_annotation_test', 'dendrogram_leiden_default', 'hvg', 'leiden', 'leiden_default_colors', 'log1p', 'neighbors', 'pca', 'phase_colors', 'rank_genes_groups', 'stage_colors', 'topic_dendogram', 'umap'\n",
       "    obsm: 'X_MDE', 'X_pca', 'X_scvi', 'X_scvi_MDE', 'X_topic_compositions', 'X_umap', 'X_umap_features', '_scvi_extra_continuous_covs'\n",
       "    varm: 'PCs', 'topic_feature_activations', 'topic_feature_compositions'\n",
       "    layers: 'ambiguous', 'matrix', 'original_counts', 'spliced', 'unspliced'\n",
       "    obsp: 'connectivities', 'distances'"
      ]
     },
     "execution_count": 31,
     "metadata": {},
     "output_type": "execute_result"
    }
   ],
   "source": [
    "ecto"
   ]
  },
  {
   "cell_type": "code",
   "execution_count": 32,
   "id": "25c90dd8-184b-4e7c-9328-ccd85d46654b",
   "metadata": {
    "tags": []
   },
   "outputs": [],
   "source": [
    "###Ecto\n",
    "ecto.obs['annotation_combined'] = ecto.obs['E9_ecto_annotation_coarse']\n",
    "ecto.obs['annotation_combined_fine'] = ecto.obs['E9_ecto_annotation_coarse']\n",
    "\n",
    "##add prefix\n",
    "ecto.obs['annotation_combined'] = 'Ectoderm - ' + ecto.obs['annotation_combined'].astype(str)\n",
    "ecto.obs['annotation_combined'] = ecto.obs['annotation_combined'].astype('category')\n",
    "\n",
    "ecto.obs['annotation_combined_fine'] = 'Ectoderm - ' + ecto.obs['annotation_combined_fine'].astype(str)\n",
    "ecto.obs['annotation_combined_fine'] = ecto.obs['annotation_combined_fine'].astype('category')\n",
    "ecto.obs['annotation_combined_coarse'] = ecto.obs['annotation_combined']\n",
    "\n",
    "\n",
    "###Mesen\n",
    "mesen.obs['annotation_combined'] = mesen.obs['annotation_2024']\n",
    "mesen.obs['annotation_combined_fine'] = mesen.obs['E9_mesen_annotation_fine']\n",
    "mesen.obs['annotation_combined_coarse'] = mesen.obs['annotation_paper_coarse']\n",
    "\n",
    "##add prefix\n",
    "mesen.obs['annotation_combined'] = 'Mesenchyme - ' + mesen.obs['annotation_combined'].astype(str)\n",
    "mesen.obs['annotation_combined'] = mesen.obs['annotation_combined'].astype('category')\n",
    "\n",
    "mesen.obs['annotation_combined_fine'] = 'Mesenchyme - ' + mesen.obs['annotation_combined_fine'].astype(str)\n",
    "mesen.obs['annotation_combined_fine'] = mesen.obs['annotation_combined_fine'].astype('category')\n",
    "\n",
    "mesen.obs['annotation_combined_coarse'] = 'Mesenchyme - ' + mesen.obs['annotation_combined_coarse'].astype(str)\n",
    "mesen.obs['annotation_combined_coarse'] = mesen.obs['annotation_combined_coarse'].astype('category')"
   ]
  },
  {
   "cell_type": "code",
   "execution_count": 33,
   "id": "e31591ff-4289-4d96-88c2-c4093d3f1906",
   "metadata": {
    "tags": []
   },
   "outputs": [],
   "source": [
    "import anndata as ad\n",
    "adata_combined = ad.concat([ecto, mesen])"
   ]
  },
  {
   "cell_type": "code",
   "execution_count": 34,
   "id": "d9f66e16-ef53-4a46-82d9-7962d9f0a656",
   "metadata": {
    "tags": []
   },
   "outputs": [
    {
     "data": {
      "text/plain": [
       "annotation_combined_coarse\n",
       "Mesenchyme - FNP Early Mesenchyme    366\n",
       "Mesenchyme - MXP Early Mesenchyme     68\n",
       "Ectoderm - Surface Ectoderm           56\n",
       "Ectoderm - Ectodermal Placode         47\n",
       "Ectoderm - Midfacial Ectoderm         23\n",
       "Name: count, dtype: int64"
      ]
     },
     "execution_count": 34,
     "metadata": {},
     "output_type": "execute_result"
    }
   ],
   "source": [
    "adata_combined.obs['annotation_combined_coarse'].value_counts()"
   ]
  },
  {
   "cell_type": "code",
   "execution_count": 35,
   "id": "3e7ebfbd-786b-43c9-9f9a-0e4de0317f71",
   "metadata": {
    "tags": []
   },
   "outputs": [
    {
     "data": {
      "text/plain": [
       "annotation_combined_fine\n",
       "Mesenchyme - Frontonasal Mesenchyme    227\n",
       "Mesenchyme - Prrx2+ Gata3+ ?           139\n",
       "Mesenchyme - Maxillary Mesenchyme       68\n",
       "Ectoderm - Surface Ectoderm             56\n",
       "Ectoderm - Ectodermal Placode           47\n",
       "Ectoderm - Midfacial Ectoderm           23\n",
       "Name: count, dtype: int64"
      ]
     },
     "execution_count": 35,
     "metadata": {},
     "output_type": "execute_result"
    }
   ],
   "source": [
    "adata_combined.obs['annotation_combined_fine'].value_counts()"
   ]
  },
  {
   "cell_type": "code",
   "execution_count": 36,
   "id": "2ce0c63f-5271-479f-a0bd-ae9204c1ed32",
   "metadata": {
    "tags": []
   },
   "outputs": [],
   "source": [
    "adata_combined.write('anndata_objects/adata_E9_combined_annotated.h5ad')"
   ]
  },
  {
   "cell_type": "code",
   "execution_count": null,
   "id": "81adf20b-0160-4938-968c-822f59621a33",
   "metadata": {},
   "outputs": [],
   "source": []
  },
  {
   "cell_type": "code",
   "execution_count": 37,
   "id": "b7fb231d-b850-46d7-95f5-503bfe1538ef",
   "metadata": {
    "tags": []
   },
   "outputs": [],
   "source": [
    "#E10\n",
    "ecto = sc.read('anndata_objects/adata_ecto_E10_nohesx1.h5ad')\n",
    "#mesen = sc.read('anndata_objects/adata_E10_mesen_annotated.h5ad')\n",
    "mesen = adata[adata.obs['stage']=='10'].copy()"
   ]
  },
  {
   "cell_type": "code",
   "execution_count": 38,
   "id": "da380ce4-3189-4e51-9a9e-fb651bc49795",
   "metadata": {
    "tags": []
   },
   "outputs": [
    {
     "data": {
      "text/plain": [
       "AnnData object with n_obs × n_vars = 1527 × 19928\n",
       "    obs: 'Clusters', '_X', '_Y', 'initial_size_unspliced', 'initial_size_spliced', 'initial_size', 'sample', 'barcode', 'batch', 'doublet_score', 'predicted_doublets', 'predicted_doublets_based_on_10x_chromium_spec', 'n_genes_by_counts', 'total_counts', 'total_counts_mt', 'pct_counts_mt', 'total_counts_rb', 'pct_counts_rb', 'pct_counts_unspliced', 'pred_doubl_cat', 'stage', 'S_score', 'G2M_score', 'phase', '_scvi_batch', '_scvi_labels', 'E8_mesen_annotation_coarse', 'E8_mesen_annotation_fine', 'integration_label', 'E9_mesen_annotation_coarse', 'E9_mesen_annotation_fine', 'E10_mesen_annotation_fine', 'E10_mesen_annotation_coarse', 'E11_mesen_annotation_coarse', 'E11_mesen_annotation_fine', 'E12_mesen_annotation_coarse', 'E13_mesen_annotation_coarse', 'E14_mesen_annotation_coarse', 'topic_0', 'topic_1', 'topic_2', 'topic_3', 'topic_4', 'topic_5', 'topic_6', 'topic_7', 'topic_8', 'topic_9', 'topic_10', 'topic_11', 'topic_12', 'topic_13', 'topic_14', 'topic_15', 'topic_16', 'topic_17', 'topic_18', 'topic_19', 'topic_20', 'topic_21', 'topic_22', 'topic_23', 'topic_24', 'mira_clustering', 'mira_clustering_codes', 'palantir_pseudotime', 'palantir_entropy', 'macrostates_fwd', 'term_states_fwd', 'term_states_fwd_probs', 'annotation_2024', 'annotation_coarse_2024', 'annotation_paper_coarse', 'leiden0.5', 'leiden0.6', 'leiden0.7', 'leiden0.8', 'leiden0.9', 'leiden1', 'leiden1.2', 'leiden1.4', 'leiden1.6', 'leiden1.8', 'leiden2', 'leiden2.2', 'leiden2.4', 'leiden2.6', 'leiden2.8', 'leiden3'\n",
       "    var: 'n_cells', 'highly_variable', 'means', 'dispersions', 'dispersions_norm', 'mean', 'std', 'highly_variable_list', 'highly_variable_nbatches', 'highly_variable_intersection', 'gene_symbol'\n",
       "    uns: 'DM_EigenValues', 'T_fwd_params', 'annotation_coarse_2024_sizes', 'annotation_paper_coarse_colors', 'batch_colors', 'coarse_fwd', 'dendrogram_annotation_2024', 'dendrogram_annotation_coarse_2024', 'dendrogram_annotation_paper_coarse', 'eigendecomposition_fwd', 'hvg', 'leiden', 'macrostates_fwd_colors', 'mira_clustering_codes_colors', 'mira_clustering_colors', 'neighbors', 'paga', 'palantir_waypoints', 'pca', 'phase_colors', 'schur_matrix_fwd', 'stage_colors', 'term_states_fwd_colors', 'topic_dendogram', 'umap', 'wilcoxon_annotation_2024', 'wilcoxon_annotation_paper_coarse', 'wilcoxon_leiden0.5', 'wilcoxon_leiden0.6', 'wilcoxon_leiden0.7', 'wilcoxon_leiden0.8', 'wilcoxon_leiden0.9', 'wilcoxon_leiden1', 'wilcoxon_leiden1.2', 'wilcoxon_leiden1.4', 'wilcoxon_leiden1.6', 'wilcoxon_leiden1.8', 'wilcoxon_leiden2', 'wilcoxon_leiden2.2', 'wilcoxon_leiden2.4', 'wilcoxon_leiden2.6', 'wilcoxon_leiden2.8', 'wilcoxon_leiden3'\n",
       "    obsm: 'DM_EigenVectors', 'DM_EigenVectors_multiscaled', 'T_fwd_umap_tuned_3d', 'X_MDE', 'X_harmony_MDE', 'X_pca', 'X_pca_harmony', 'X_scvi', 'X_scvi_MDE', 'X_topic_compositions', 'X_umap', 'X_umap_20_topics_100_epochs', 'X_umap_20_topics_100_epochs_3d', 'X_umap_20_topics_50_epochs', 'X_umap_20_topics_50_epochs_3d', 'X_umap_20_topics_70_epochs', 'X_umap_20_topics_70_epochs_3d', 'X_umap_20_topics_75_epochs', 'X_umap_20_topics_75_epochs_3d', 'X_umap_20_topics_80_epochs', 'X_umap_20_topics_80_epochs_3d', 'X_umap_20_topics_85_epochs', 'X_umap_20_topics_85_epochs_3d', 'X_umap_22_topics_100_epochs', 'X_umap_22_topics_100_epochs_3d', 'X_umap_22_topics_50_epochs', 'X_umap_22_topics_50_epochs_3d', 'X_umap_22_topics_70_epochs', 'X_umap_22_topics_70_epochs_3d', 'X_umap_22_topics_75_epochs', 'X_umap_22_topics_75_epochs_3d', 'X_umap_22_topics_80_epochs', 'X_umap_22_topics_80_epochs_3d', 'X_umap_22_topics_85_epochs', 'X_umap_22_topics_85_epochs_3d', 'X_umap_23_topics_100_epochs', 'X_umap_23_topics_100_epochs_3d', 'X_umap_23_topics_50_epochs', 'X_umap_23_topics_50_epochs_3d', 'X_umap_23_topics_70_epochs', 'X_umap_23_topics_70_epochs_3d', 'X_umap_23_topics_75_epochs', 'X_umap_23_topics_75_epochs_3d', 'X_umap_23_topics_80_epochs', 'X_umap_23_topics_80_epochs_3d', 'X_umap_23_topics_85_epochs', 'X_umap_23_topics_85_epochs_3d', 'X_umap_24_topics_100_epochs', 'X_umap_24_topics_100_epochs_3d', 'X_umap_24_topics_50_epochs', 'X_umap_24_topics_50_epochs_3d', 'X_umap_24_topics_70_epochs', 'X_umap_24_topics_70_epochs_3d', 'X_umap_24_topics_75_epochs', 'X_umap_24_topics_75_epochs_3d', 'X_umap_24_topics_80_epochs', 'X_umap_24_topics_80_epochs_3d', 'X_umap_24_topics_85_epochs', 'X_umap_24_topics_85_epochs_3d', 'X_umap_25_topics_100_epochs', 'X_umap_25_topics_100_epochs_3d', 'X_umap_25_topics_50_epochs', 'X_umap_25_topics_50_epochs_3d', 'X_umap_25_topics_70_epochs', 'X_umap_25_topics_70_epochs_3d', 'X_umap_25_topics_75_epochs', 'X_umap_25_topics_75_epochs_3d', 'X_umap_25_topics_80_epochs', 'X_umap_25_topics_80_epochs_3d', 'X_umap_25_topics_85_epochs', 'X_umap_25_topics_85_epochs_3d', 'X_umap_features', 'X_umap_tuned_3d', 'X_umap_tuned_3d_2d', 'X_umap_tuned_3d_new', '_scvi_extra_continuous_covs', 'branch_masks', 'lineages_fwd', 'macrostates_fwd_memberships', 'palantir_fate_probabilities', 'schur_vectors_fwd', 'term_states_fwd_memberships'\n",
       "    varm: 'PCs', 'terminal_lineage_drivers', 'topic_feature_activations', 'topic_feature_compositions'\n",
       "    layers: 'ambiguous', 'matrix', 'original_counts', 'spliced', 'unspliced'\n",
       "    obsp: 'DM_Kernel', 'DM_Similarity', 'connectivities', 'distances'"
      ]
     },
     "execution_count": 38,
     "metadata": {},
     "output_type": "execute_result"
    }
   ],
   "source": [
    "mesen"
   ]
  },
  {
   "cell_type": "code",
   "execution_count": 39,
   "id": "c0df5359-e88e-44d2-938c-d6b777ccab00",
   "metadata": {
    "tags": []
   },
   "outputs": [],
   "source": [
    "###Ecto\n",
    "ecto.obs['annotation_combined'] = ecto.obs['E10_ecto_annotation_coarse']\n",
    "\n",
    "##add prefix\n",
    "ecto.obs['annotation_combined'] = 'Ectoderm - ' + ecto.obs['annotation_combined'].astype(str)\n",
    "ecto.obs['annotation_combined'] = ecto.obs['annotation_combined'].astype('category')\n",
    "ecto.obs['annotation_combined_coarse'] = ecto.obs['annotation_combined']\n",
    "\n",
    "\n",
    "###Mesen\n",
    "mesen.obs['annotation_combined'] = mesen.obs['annotation_2024']\n",
    "mesen.obs['annotation_combined_coarse'] = mesen.obs['annotation_paper_coarse']\n",
    "\n",
    "\n",
    "##add prefix\n",
    "mesen.obs['annotation_combined'] = 'Mesenchyme - ' + mesen.obs['annotation_combined'].astype(str)\n",
    "mesen.obs['annotation_combined'] = mesen.obs['annotation_combined'].astype('category')\n",
    "\n",
    "mesen.obs['annotation_combined_coarse'] = 'Mesenchyme - ' + mesen.obs['annotation_combined_coarse'].astype(str)\n",
    "mesen.obs['annotation_combined_coarse'] = mesen.obs['annotation_combined_coarse'].astype('category')"
   ]
  },
  {
   "cell_type": "code",
   "execution_count": 40,
   "id": "1c73236a-6863-4e21-9f73-463188e61492",
   "metadata": {
    "tags": []
   },
   "outputs": [],
   "source": [
    "import anndata as ad\n",
    "adata_combined = ad.concat([ecto, mesen])"
   ]
  },
  {
   "cell_type": "code",
   "execution_count": 41,
   "id": "f6c08d3a-d1c2-48a0-b7d4-59af494a3622",
   "metadata": {
    "tags": []
   },
   "outputs": [
    {
     "data": {
      "text/plain": [
       "AnnData object with n_obs × n_vars = 2200 × 16923\n",
       "    obs: 'Clusters', '_X', '_Y', 'initial_size_unspliced', 'initial_size_spliced', 'initial_size', 'sample', 'barcode', 'batch', 'doublet_score', 'predicted_doublets', 'predicted_doublets_based_on_10x_chromium_spec', 'n_genes_by_counts', 'total_counts', 'total_counts_mt', 'pct_counts_mt', 'total_counts_rb', 'pct_counts_rb', 'pct_counts_unspliced', 'pred_doubl_cat', 'stage', 'S_score', 'G2M_score', 'phase', '_scvi_batch', '_scvi_labels', 'topic_0', 'topic_1', 'topic_2', 'topic_3', 'topic_4', 'topic_5', 'topic_6', 'topic_7', 'topic_8', 'topic_9', 'topic_10', 'annotation_combined', 'annotation_combined_coarse'\n",
       "    obsm: 'X_MDE', 'X_pca', 'X_scvi', 'X_scvi_MDE', 'X_topic_compositions', 'X_umap', 'X_umap_features', '_scvi_extra_continuous_covs'\n",
       "    layers: 'ambiguous', 'matrix', 'original_counts', 'spliced', 'unspliced'"
      ]
     },
     "execution_count": 41,
     "metadata": {},
     "output_type": "execute_result"
    }
   ],
   "source": [
    "adata_combined"
   ]
  },
  {
   "cell_type": "code",
   "execution_count": 42,
   "id": "632ec2ba-912a-471e-ab59-852bfb90b858",
   "metadata": {
    "tags": []
   },
   "outputs": [
    {
     "data": {
      "text/plain": [
       "annotation_combined_coarse\n",
       "Mesenchyme - MNP Mesenchyme                    738\n",
       "Mesenchyme - MXP Early Mesenchyme              487\n",
       "Mesenchyme - LNP Mesenchyme                    302\n",
       "Ectoderm - Surface Ectoderm                    161\n",
       "Ectoderm - Dorsomedial Olfactory Epithelium    159\n",
       "Ectoderm - Ventral Olfactory Epithelium         75\n",
       "Ectoderm - Olfactory Pit Rim - Six1             72\n",
       "Ectoderm - Olfactory Pit Rim - Wnt6             66\n",
       "Ectoderm - Dental Epithelium                    63\n",
       "Ectoderm - Palate Epithelium                    52\n",
       "Ectoderm - Committed Neuronal Progenitors       25\n",
       "Name: count, dtype: int64"
      ]
     },
     "execution_count": 42,
     "metadata": {},
     "output_type": "execute_result"
    }
   ],
   "source": [
    "adata_combined.obs['annotation_combined_coarse'].value_counts()"
   ]
  },
  {
   "cell_type": "code",
   "execution_count": 43,
   "id": "0e98ea69-c4f1-4b12-b5a4-661ef547b41b",
   "metadata": {
    "tags": []
   },
   "outputs": [
    {
     "data": {
      "text/plain": [
       "annotation_combined\n",
       "Mesenchyme - Dorsal NP                         388\n",
       "Mesenchyme - Posterior MxP                     387\n",
       "Mesenchyme - Medial NP                         350\n",
       "Mesenchyme - Lateral NP                        302\n",
       "Ectoderm - Surface Ectoderm                    161\n",
       "Ectoderm - Dorsomedial Olfactory Epithelium    159\n",
       "Mesenchyme - Anterior MxP                      100\n",
       "Ectoderm - Ventral Olfactory Epithelium         75\n",
       "Ectoderm - Olfactory Pit Rim - Six1             72\n",
       "Ectoderm - Olfactory Pit Rim - Wnt6             66\n",
       "Ectoderm - Dental Epithelium                    63\n",
       "Ectoderm - Palate Epithelium                    52\n",
       "Ectoderm - Committed Neuronal Progenitors       25\n",
       "Name: count, dtype: int64"
      ]
     },
     "execution_count": 43,
     "metadata": {},
     "output_type": "execute_result"
    }
   ],
   "source": [
    "adata_combined.obs['annotation_combined'].value_counts()"
   ]
  },
  {
   "cell_type": "code",
   "execution_count": 44,
   "id": "14f00680-89f6-4b47-aac9-ddf11ff44663",
   "metadata": {
    "tags": []
   },
   "outputs": [],
   "source": [
    "adata_combined.write('anndata_objects/adata_E10_combined_annotated.h5ad')"
   ]
  },
  {
   "cell_type": "code",
   "execution_count": 21,
   "id": "85b0c175-2ad3-43d2-a272-54b1b9738c8a",
   "metadata": {
    "tags": []
   },
   "outputs": [],
   "source": [
    "# adata_combined = adata_combined[adata_combined.obs['batch']=='adata10'].copy()\n",
    "# adata_combined.write('anndata_objects/adata_E10_kaucka_combined_annotated.h5ad')"
   ]
  },
  {
   "cell_type": "code",
   "execution_count": null,
   "id": "c005000a-115a-4279-b428-f72b1df52ce5",
   "metadata": {},
   "outputs": [],
   "source": []
  },
  {
   "cell_type": "code",
   "execution_count": null,
   "id": "dc0f6bf2-8cbd-4eb5-9ebe-35a758a9c4b1",
   "metadata": {},
   "outputs": [],
   "source": []
  },
  {
   "cell_type": "code",
   "execution_count": null,
   "id": "4ca7497c-160e-4cca-be8e-b726572c5f0e",
   "metadata": {},
   "outputs": [],
   "source": []
  },
  {
   "cell_type": "code",
   "execution_count": null,
   "id": "7bda6537-6a26-4af3-9736-453660be1c48",
   "metadata": {},
   "outputs": [],
   "source": []
  },
  {
   "cell_type": "code",
   "execution_count": null,
   "id": "5d0d3942-13cd-4ea9-b4e1-c0b2e4620ea7",
   "metadata": {},
   "outputs": [],
   "source": []
  },
  {
   "cell_type": "code",
   "execution_count": 6,
   "id": "b477dba7-e00a-413a-a282-e3f3a1f6a6c9",
   "metadata": {
    "tags": []
   },
   "outputs": [],
   "source": [
    "#E11\n",
    "ecto = sc.read('anndata_objects/adata_ecto_E11_ofpr.h5ad')\n",
    "mesen_old = sc.read('anndata_objects/adata_E11_mesen_annotation_2024.h5ad')\n",
    "\n",
    "mesen = adata[adata.obs['stage']=='11'].copy()"
   ]
  },
  {
   "cell_type": "code",
   "execution_count": 5,
   "id": "5f82bf7c-f926-40e9-a0c1-723f74ffeef8",
   "metadata": {
    "tags": []
   },
   "outputs": [
    {
     "data": {
      "text/plain": [
       "AnnData object with n_obs × n_vars = 898 × 17204\n",
       "    obs: 'Clusters', '_X', '_Y', 'initial_size_unspliced', 'initial_size_spliced', 'initial_size', 'sample', 'barcode', 'batch', 'doublet_score', 'predicted_doublets', 'predicted_doublets_based_on_10x_chromium_spec', 'n_genes_by_counts', 'total_counts', 'total_counts_mt', 'pct_counts_mt', 'total_counts_rb', 'pct_counts_rb', 'pct_counts_unspliced', 'pred_doubl_cat', 'stage', 'S_score', 'G2M_score', 'phase', '_scvi_batch', '_scvi_labels', 'leiden', 'leiden_ecto', 'E8_ecto_annotation_coarse', 'leiden_default', 'E9_ecto_annotation_coarse', 'reso_for_ecto', 'leiden_ecto_tmp', 'E10_ecto_annotation_coarse', 'leiden_ecto_fine', 'leiden_ecto_extra_fine', 'leiden_ecto1', 'E11_ecto_annotation_coarse', 'E11_ecto_annotation_fine', 'leiden_neuron', 'E12_ecto_annotation_coarse', 'E12_ecto_annotation_fine', 'leiden_coarse', 'E13_ecto_annotation_coarse', 'E13_ecto_annotation_fine', 'E14_ecto_annotation_coarse', 'E14_ecto_annotation_fine', 'annotation_test', 'topic_0', 'topic_1', 'topic_2', 'topic_3', 'topic_4', 'topic_5', 'topic_6', 'topic_7', 'topic_8', 'topic_9', 'topic_10', 'leiden_fine', 'leiden_fine2'\n",
       "    var: 'n_cells', 'highly_variable', 'means', 'dispersions', 'dispersions_norm', 'mean', 'std', 'highly_variable_rank', 'variances', 'variances_norm'\n",
       "    uns: 'E10_ecto_annotation_coarse_colors', 'E11_ecto_annotation_coarse_colors', 'annotation_test_colors', 'batch_colors', 'hvg', 'leiden', 'leiden_default_colors', 'log1p', 'neighbors', 'pca', 'phase_colors', 'stage_colors', 'topic_dendogram', 'umap'\n",
       "    obsm: 'X_MDE', 'X_pca', 'X_scvi', 'X_scvi_MDE', 'X_topic_compositions', 'X_umap', 'X_umap_features', '_scvi_extra_continuous_covs'\n",
       "    varm: 'PCs', 'topic_feature_activations', 'topic_feature_compositions'\n",
       "    layers: 'ambiguous', 'matrix', 'original_counts', 'spliced', 'unspliced'\n",
       "    obsp: 'connectivities', 'distances'"
      ]
     },
     "execution_count": 5,
     "metadata": {},
     "output_type": "execute_result"
    }
   ],
   "source": [
    "ecto"
   ]
  },
  {
   "cell_type": "code",
   "execution_count": 7,
   "id": "2a40f0bd-57cd-4f91-8fd0-eff75eb8e865",
   "metadata": {
    "tags": []
   },
   "outputs": [],
   "source": [
    "# mesen.obs['E11_mesen_annotation_main'] = mesen_old.obs['E11_mesen_annotation_main']\n",
    "mesen.obs['E11_mesen_annotation_finest'] = mesen_old.obs['E11_mesen_annotation_finest']\n"
   ]
  },
  {
   "cell_type": "code",
   "execution_count": 8,
   "id": "4621c666-ca67-4e6f-823f-3f2cdaa38129",
   "metadata": {
    "tags": []
   },
   "outputs": [],
   "source": [
    "###Ecto\n",
    "ecto.obs['annotation_combined'] = ecto.obs['annotation_test']\n",
    "ecto.obs['annotation_combined_fine'] = ecto.obs['E11_ecto_annotation_fine']\n",
    "\n",
    "##add prefix\n",
    "ecto.obs['annotation_combined'] = 'Ectoderm - ' + ecto.obs['annotation_combined'].astype(str)\n",
    "ecto.obs['annotation_combined'] = ecto.obs['annotation_combined'].astype('category')\n",
    "\n",
    "ecto.obs['annotation_combined_fine'] = 'Ectoderm - ' + ecto.obs['annotation_combined_fine'].astype(str)\n",
    "ecto.obs['annotation_combined_fine'] = ecto.obs['annotation_combined_fine'].astype('category')\n",
    "ecto.obs['annotation_combined_coarse'] = ecto.obs['annotation_combined']\n",
    "\n",
    "###Mesen\n",
    "mesen.obs['annotation_combined'] = mesen.obs['annotation_2024']\n",
    "mesen.obs['annotation_combined_fine'] = mesen.obs['E11_mesen_annotation_finest']\n",
    "mesen.obs['annotation_combined_coarse'] = mesen.obs['annotation_paper_coarse']\n",
    "\n",
    "\n",
    "##add prefix\n",
    "mesen.obs['annotation_combined'] = 'Mesenchyme - ' + mesen.obs['annotation_combined'].astype(str)\n",
    "mesen.obs['annotation_combined'] = mesen.obs['annotation_combined'].astype('category')\n",
    "\n",
    "mesen.obs['annotation_combined_fine'] = 'Mesenchyme - ' + mesen.obs['annotation_combined_fine'].astype(str)\n",
    "mesen.obs['annotation_combined_fine'] = mesen.obs['annotation_combined_fine'].astype('category')\n",
    "\n",
    "mesen.obs['annotation_combined_coarse'] = 'Mesenchyme - ' + mesen.obs['annotation_combined_coarse'].astype(str)\n",
    "mesen.obs['annotation_combined_coarse'] = mesen.obs['annotation_combined_coarse'].astype('category')"
   ]
  },
  {
   "cell_type": "code",
   "execution_count": 9,
   "id": "025a4e42-01e2-44e7-b368-b268cca50f4b",
   "metadata": {
    "tags": []
   },
   "outputs": [],
   "source": [
    "ecto.obs['source']='ecto'\n",
    "mesen.obs['source']='mesen'"
   ]
  },
  {
   "cell_type": "code",
   "execution_count": 10,
   "id": "72c444ba-db0d-46cd-ba69-c46a98da18b8",
   "metadata": {
    "tags": []
   },
   "outputs": [],
   "source": [
    "import anndata as ad\n",
    "adata_combined = ad.concat([ecto, mesen])"
   ]
  },
  {
   "cell_type": "code",
   "execution_count": 11,
   "id": "74e8fe46-2a48-4403-81bd-e70716bade85",
   "metadata": {
    "tags": []
   },
   "outputs": [
    {
     "data": {
      "text/plain": [
       "annotation_combined\n",
       "Mesenchyme - Dorsal Nasal Cavity             624\n",
       "Mesenchyme - LnP - Gata2                     550\n",
       "Mesenchyme - lMxP                            540\n",
       "Mesenchyme - pvMnP                           467\n",
       "Mesenchyme - mMxP                            446\n",
       "Mesenchyme - MxP - Lhx8                      407\n",
       "Mesenchyme - mMnP                            337\n",
       "Mesenchyme - Ventral Nasal Cavity            279\n",
       "Mesenchyme - dMxP                            263\n",
       "Mesenchyme - aMnP                            232\n",
       "Mesenchyme - avMnP                           220\n",
       "Ectoderm - Surface Ectoderm - Gjb6           158\n",
       "Mesenchyme - LnP - Irx5                      144\n",
       "Ectoderm - Ventral Olfactory Epithelium      129\n",
       "Mesenchyme - LnP - Casz1                     112\n",
       "Ectoderm - Vomeronasal Organ                  86\n",
       "Ectoderm - Respiratory Epithelium             84\n",
       "Ectoderm - Non-neuronal Progenitors           83\n",
       "Ectoderm - Palate Epithelium                  68\n",
       "Ectoderm - Surface Ectoderm - Dlx2            64\n",
       "Ectoderm - Oral Ectoderm                      58\n",
       "Ectoderm - Periderm                           42\n",
       "Ectoderm - Olfactory Pit Rim - Wnt6           39\n",
       "Ectoderm - Committed Neuronal Progenitors     38\n",
       "Ectoderm - Olfactory Pit Rim - Six1           35\n",
       "Ectoderm - Neuronal Progenitors               14\n",
       "Name: count, dtype: int64"
      ]
     },
     "execution_count": 11,
     "metadata": {},
     "output_type": "execute_result"
    }
   ],
   "source": [
    "adata_combined.obs['annotation_combined'].value_counts()"
   ]
  },
  {
   "cell_type": "code",
   "execution_count": 12,
   "id": "c2ee83cd-8598-4dc0-ae67-f2a2980261eb",
   "metadata": {
    "tags": []
   },
   "outputs": [],
   "source": [
    "adata_combined.write('anndata_objects/adata_E11_combined_annotated.h5ad')"
   ]
  },
  {
   "cell_type": "code",
   "execution_count": null,
   "id": "6a70e2ab-f4ba-4ad2-9666-448f26b6186d",
   "metadata": {},
   "outputs": [],
   "source": []
  },
  {
   "cell_type": "code",
   "execution_count": 14,
   "id": "455b1b9d-3885-45ab-96fa-4bd8d28c81fb",
   "metadata": {
    "tags": []
   },
   "outputs": [],
   "source": [
    "#E12\n",
    "ecto = sc.read('anndata_objects/adata_ecto_E12_ofpr.h5ad')\n",
    "mesen_old = sc.read('anndata_objects/mesen_E12_fine_annotation.h5ad')\n",
    "mesen = adata[adata.obs['stage']=='12'].copy()"
   ]
  },
  {
   "cell_type": "code",
   "execution_count": 15,
   "id": "d7c543c3-15e7-4e50-8d2e-7af790054ebb",
   "metadata": {
    "tags": []
   },
   "outputs": [],
   "source": [
    "mesen.obs['E12_mesen_annotation_main'] = mesen_old.obs['E12_mesen_annotation_main']\n",
    "mesen.obs['E12_mesen_annotation_finest'] = mesen_old.obs['E12_mesen_annotation_finest']\n"
   ]
  },
  {
   "cell_type": "code",
   "execution_count": 16,
   "id": "dd3f7757-2625-462f-82cc-f56e21c98236",
   "metadata": {
    "tags": []
   },
   "outputs": [
    {
     "data": {
      "text/plain": [
       "Index(['Committed Neuronal Progenitors', 'Conjunctival Epithelium',\n",
       "       'Immature Neurons', 'Mature Neurons', 'Neuronal Progenitors',\n",
       "       'Non-neuronal Progenitors', 'Olfactory Pit Rim - Fgf17',\n",
       "       'Olfactory Pit Rim - Shh', 'Olfm5', 'Oral Epithelium',\n",
       "       'Palate Epithelium', 'Periderm', 'Respiratory Epithelium',\n",
       "       'Surface Ectoderm - Dlx2', 'Surface Ectoderm - Gjb6',\n",
       "       'Surface Ectoderm - Gjb6/Rorb', 'Ventral Olfactory Epithelium',\n",
       "       'Vomeronasal Organ', 'Whiskers - Ecto'],\n",
       "      dtype='object')"
      ]
     },
     "execution_count": 16,
     "metadata": {},
     "output_type": "execute_result"
    }
   ],
   "source": [
    "ecto.obs['E12_ecto_annotation_fine'].cat.categories"
   ]
  },
  {
   "cell_type": "code",
   "execution_count": null,
   "id": "356a799c-28cc-4989-9574-899c0c7210a2",
   "metadata": {},
   "outputs": [],
   "source": []
  },
  {
   "cell_type": "code",
   "execution_count": 17,
   "id": "a468043a-f5fa-4100-89b3-dd655cf27484",
   "metadata": {
    "tags": []
   },
   "outputs": [
    {
     "data": {
      "text/plain": [
       "Index(['Chondrocytes', 'Chondrocytes - Pax3', 'Chondrocytes - Tnc',\n",
       "       'Dermal Condensate - Differentiated', 'Dermal Condensate - En1',\n",
       "       'Dermal Condensate - Foxd1', 'FnP - Periocular', 'MxP - Aldh1a2',\n",
       "       'MxP - Periocular', 'MxP Lip - Dlx1', 'MxP Lip - Fgf18',\n",
       "       'MxP Lip - Irx1', 'MxP Lip - Tac1', 'Nasal Cavity - Anxa1',\n",
       "       'Nasal Cavity - Anxa7', 'Nasal Cavity - Arg1', 'Nasal Cavity - Calca',\n",
       "       'Nasal Cavity - Lox', 'Nasal Cavity - Nxph4', 'Nasal Cavity - Pou3f3',\n",
       "       'Nasal Cavity - Tmem37', 'Nasal Cavity? - Irx3',\n",
       "       'Nostril Fusion - Col13a1', 'Nostril Fusion - Mab21l2',\n",
       "       'Nostrils - Casz1', 'Nostrils - Cpne4', 'Nostrils - Dab1',\n",
       "       'Nostrils - Gata2', 'Nostrils - Pax7', 'Nostrils - Sim1',\n",
       "       'Osteoblast - Dlx5', 'Osteomesenchyme - En1', 'Osteomesenchyme - Gata2',\n",
       "       'Osteomesenchyme - MxP', 'Osteomesenchyme - Wnt16', 'Palate - Meox2',\n",
       "       'Palate - Shox2', 'Philtrum', 'Primary Palate - Car2',\n",
       "       'Primary Palate - Foxd1', 'Sim1+ - Roof', 'VNO - Chondro',\n",
       "       'VNO - Mesen', 'Whisker Pad - Ebf1', 'Whisker Pad - Nts high',\n",
       "       'Whisker Pad - Sox21'],\n",
       "      dtype='object')"
      ]
     },
     "execution_count": 17,
     "metadata": {},
     "output_type": "execute_result"
    }
   ],
   "source": [
    "mesen.obs['E12_mesen_annotation_finest'].cat.categories"
   ]
  },
  {
   "cell_type": "code",
   "execution_count": null,
   "id": "a953a5b6-039c-47e9-84dd-ee35b9013c31",
   "metadata": {},
   "outputs": [],
   "source": []
  },
  {
   "cell_type": "code",
   "execution_count": 18,
   "id": "6e3a693d-96a1-4312-a135-628591e1dd88",
   "metadata": {
    "tags": []
   },
   "outputs": [],
   "source": [
    "###Ecto\n",
    "ecto.obs['annotation_combined'] = ecto.obs['annotation_test']\n",
    "ecto.obs['annotation_combined_fine'] = ecto.obs['E12_ecto_annotation_fine']\n",
    "\n",
    "##add prefix\n",
    "ecto.obs['annotation_combined'] = 'Ectoderm - ' + ecto.obs['annotation_combined'].astype(str)\n",
    "ecto.obs['annotation_combined'] = ecto.obs['annotation_combined'].astype('category')\n",
    "\n",
    "ecto.obs['annotation_combined_fine'] = 'Ectoderm - ' + ecto.obs['annotation_combined_fine'].astype(str)\n",
    "ecto.obs['annotation_combined_fine'] = ecto.obs['annotation_combined_fine'].astype('category')\n",
    "ecto.obs['annotation_combined_coarse'] = ecto.obs['annotation_combined']\n",
    "\n",
    "###Mesen\n",
    "mesen.obs['annotation_combined'] = mesen.obs['annotation_2024']\n",
    "mesen.obs['annotation_combined_fine'] = mesen.obs['E12_mesen_annotation_finest']\n",
    "mesen.obs['annotation_combined_coarse'] = mesen.obs['annotation_paper_coarse']\n",
    "\n",
    "##add prefix\n",
    "mesen.obs['annotation_combined'] = 'Mesenchyme - ' + mesen.obs['annotation_combined'].astype(str)\n",
    "mesen.obs['annotation_combined'] = mesen.obs['annotation_combined'].astype('category')\n",
    "\n",
    "mesen.obs['annotation_combined_fine'] = 'Mesenchyme - ' + mesen.obs['annotation_combined_fine'].astype(str)\n",
    "mesen.obs['annotation_combined_fine'] = mesen.obs['annotation_combined_fine'].astype('category')\n",
    "\n",
    "mesen.obs['annotation_combined_coarse'] = 'Mesenchyme - ' + mesen.obs['annotation_combined_coarse'].astype(str)\n",
    "mesen.obs['annotation_combined_coarse'] = mesen.obs['annotation_combined_coarse'].astype('category')"
   ]
  },
  {
   "cell_type": "code",
   "execution_count": 19,
   "id": "d1c7e238-31cd-41cd-a290-613616e9679d",
   "metadata": {
    "tags": []
   },
   "outputs": [],
   "source": [
    "ecto.obs['source']='ecto'\n",
    "mesen.obs['source']='mesen'"
   ]
  },
  {
   "cell_type": "code",
   "execution_count": 20,
   "id": "c28a0e59-99bf-4d14-bcef-2d8545e2dc07",
   "metadata": {
    "tags": []
   },
   "outputs": [],
   "source": [
    "import anndata as ad\n",
    "adata_combined = ad.concat([ecto, mesen])"
   ]
  },
  {
   "cell_type": "code",
   "execution_count": 21,
   "id": "1a756323-1a7e-4b54-acfa-3073b82f9384",
   "metadata": {
    "tags": []
   },
   "outputs": [
    {
     "data": {
      "text/plain": [
       "annotation_combined_coarse\n",
       "Mesenchyme - Whisker Pad                     1910\n",
       "Mesenchyme - Nostrils                        1635\n",
       "Mesenchyme - Nasal Cavity Mesenchyme         1556\n",
       "Mesenchyme - Upper Lip                       1203\n",
       "Mesenchyme - Palatal Shelf                    978\n",
       "Mesenchyme - Osteomesenchyme                  922\n",
       "Mesenchyme - Chondrocytes                     893\n",
       "Mesenchyme - Maxillary Mesenchyme             550\n",
       "Mesenchyme - Periocular Mesenchyme            536\n",
       "Mesenchyme - VNO Mesenchyme                   401\n",
       "Mesenchyme - Primary Palate                   308\n",
       "Mesenchyme - Philtrum                         292\n",
       "Mesenchyme - Osteoblasts                      267\n",
       "Mesenchyme - Roof - Sim1                      243\n",
       "Ectoderm - Surface Ectoderm - Dlx2            237\n",
       "Ectoderm - Surface Ectoderm - Gjb6            194\n",
       "Ectoderm - Ventral Olfactory Epithelium       143\n",
       "Ectoderm - Olfactory Pit Rim - Six1           141\n",
       "Ectoderm - Palate Epithelium                  112\n",
       "Ectoderm - Non-neuronal Progenitors           109\n",
       "Ectoderm - Olfm5                              102\n",
       "Ectoderm - Whiskers - Ecto                     99\n",
       "Ectoderm - Periderm                            93\n",
       "Ectoderm - Respiratory Epithelium              93\n",
       "Ectoderm - Neuronal Progenitors                59\n",
       "Ectoderm - Vomeronasal Organ                   58\n",
       "Ectoderm - Oral Ectoderm                       53\n",
       "Ectoderm - Immature Neurons                    44\n",
       "Ectoderm - Olfactory Pit Rim - Wnt6            42\n",
       "Ectoderm - Committed Neuronal Progenitors      18\n",
       "Ectoderm - Mature Neurons                      17\n",
       "Ectoderm - Conjunctival Epithelium             15\n",
       "Name: count, dtype: int64"
      ]
     },
     "execution_count": 21,
     "metadata": {},
     "output_type": "execute_result"
    }
   ],
   "source": [
    "adata_combined.obs['annotation_combined_coarse'].value_counts()"
   ]
  },
  {
   "cell_type": "code",
   "execution_count": 22,
   "id": "91358734-39d0-4ae7-a335-050282f35c8c",
   "metadata": {
    "tags": []
   },
   "outputs": [],
   "source": [
    "adata_combined.write('anndata_objects/adata_E12_combined_annotated.h5ad')"
   ]
  },
  {
   "cell_type": "code",
   "execution_count": 36,
   "id": "f3d4ce0b-f350-4d57-a33b-339e9ab7637f",
   "metadata": {
    "tags": []
   },
   "outputs": [],
   "source": [
    "nasal_ecto = ['Committed Neuronal Progenitors','Immature Neurons', 'Mature Neurons', 'Neuronal Progenitors','Non-neuronal Progenitors',\n",
    " 'Olfactory Pit Rim - Fgf17','Olfactory Pit Rim - Shh', 'Olfm5','Respiratory Epithelium','Ventral Olfactory Epithelium','Vomeronasal Organ',]\n",
    "nasal_mesen = ['Nasal Cavity - Anxa1','Nasal Cavity - Anxa7', 'Nasal Cavity - Arg1', 'Nasal Cavity - Calca',\n",
    " 'Nasal Cavity - Lox', 'Nasal Cavity - Nxph4', 'Nasal Cavity - Pou3f3','Nasal Cavity - Tmem37',\n",
    " 'Nasal Cavity? - Irx3','VNO - Mesen',]\n",
    "\n",
    "nasal_combined = ['Ectoderm - ' + s for s in nasal_ecto]+['Mesenchyme - ' + s for s in nasal_mesen]"
   ]
  },
  {
   "cell_type": "code",
   "execution_count": 37,
   "id": "c39006ed-be28-4f85-a4e8-faf92819c12a",
   "metadata": {
    "tags": []
   },
   "outputs": [],
   "source": [
    "adata_combined_nasal = adata_combined[adata_combined.obs['annotation_combined_fine'].isin(nasal_combined)].copy()"
   ]
  },
  {
   "cell_type": "code",
   "execution_count": 41,
   "id": "f20ac892-e040-48b6-b632-0477f0758106",
   "metadata": {
    "tags": []
   },
   "outputs": [],
   "source": [
    "adata_combined_nasal.write('anndata_objects/adata_E12_combined_nasal.h5ad')"
   ]
  },
  {
   "cell_type": "code",
   "execution_count": null,
   "id": "aefc1e11-ee45-4cf7-a9a6-975ae5f708ad",
   "metadata": {},
   "outputs": [],
   "source": []
  },
  {
   "cell_type": "code",
   "execution_count": 23,
   "id": "7ac97a03-73b7-41d4-aa41-59c9ecd83306",
   "metadata": {
    "tags": []
   },
   "outputs": [],
   "source": [
    "#E13\n",
    "ecto = sc.read('anndata_objects/adata_ecto_E13_ofpr.h5ad')\n",
    "mesen_old = sc.read('anndata_objects/adata_E13_mesen_filt_annotated.h5ad')\n",
    "mesen = adata[adata.obs['stage']=='13'].copy()"
   ]
  },
  {
   "cell_type": "code",
   "execution_count": 24,
   "id": "90376894-b84a-4aac-9ac4-18e1377987c8",
   "metadata": {
    "tags": []
   },
   "outputs": [],
   "source": [
    "mesen.obs['E13_mesen_fine_14_2024_annotation'] = mesen_old.obs['E13_mesen_fine_14_2024_annotation']\n",
    "mesen.obs['E13_mesen_fine_14_2024'] = mesen_old.obs['E13_mesen_fine_14_2024']\n"
   ]
  },
  {
   "cell_type": "code",
   "execution_count": 25,
   "id": "4d7ccb75-2d32-4bde-a025-98d20ed80f88",
   "metadata": {
    "tags": []
   },
   "outputs": [],
   "source": [
    "###Ecto\n",
    "ecto.obs['annotation_combined'] = ecto.obs['annotation_test']\n",
    "ecto.obs['annotation_combined_fine'] = ecto.obs['E13_ecto_annotation_fine']\n",
    "\n",
    "##add prefix\n",
    "ecto.obs['annotation_combined'] = 'Ectoderm - ' + ecto.obs['annotation_combined'].astype(str)\n",
    "ecto.obs['annotation_combined'] = ecto.obs['annotation_combined'].astype('category')\n",
    "\n",
    "ecto.obs['annotation_combined_fine'] = 'Ectoderm - ' + ecto.obs['annotation_combined_fine'].astype(str)\n",
    "ecto.obs['annotation_combined_fine'] = ecto.obs['annotation_combined_fine'].astype('category')\n",
    "ecto.obs['annotation_combined_coarse'] = ecto.obs['annotation_combined']\n",
    "\n",
    "###Mesen\n",
    "mesen.obs['annotation_combined'] = mesen.obs['annotation_2024']\n",
    "mesen.obs['annotation_combined_fine'] = mesen.obs['E13_mesen_fine_14_2024']\n",
    "mesen.obs['annotation_combined_coarse'] = mesen.obs['annotation_paper_coarse']\n",
    "\n",
    "##add prefix\n",
    "mesen.obs['annotation_combined'] = 'Mesenchyme - ' + mesen.obs['annotation_combined'].astype(str)\n",
    "mesen.obs['annotation_combined'] = mesen.obs['annotation_combined'].astype('category')\n",
    "\n",
    "mesen.obs['annotation_combined_fine'] = 'Mesenchyme - ' + mesen.obs['annotation_combined_fine'].astype(str)\n",
    "mesen.obs['annotation_combined_fine'] = mesen.obs['annotation_combined_fine'].astype('category')\n",
    "\n",
    "mesen.obs['annotation_combined_coarse'] = 'Mesenchyme - ' + mesen.obs['annotation_combined_coarse'].astype(str)\n",
    "mesen.obs['annotation_combined_coarse'] = mesen.obs['annotation_combined_coarse'].astype('category')"
   ]
  },
  {
   "cell_type": "code",
   "execution_count": 26,
   "id": "c0e3c46d-e8a5-4430-b0fc-c0b4b520402e",
   "metadata": {
    "tags": []
   },
   "outputs": [],
   "source": [
    "ecto.obs['source']='ecto'\n",
    "mesen.obs['source']='mesen'"
   ]
  },
  {
   "cell_type": "code",
   "execution_count": 27,
   "id": "5ce69749-e1b1-4f9f-a2b4-e1012f9f4d14",
   "metadata": {
    "tags": []
   },
   "outputs": [],
   "source": [
    "import anndata as ad\n",
    "adata_combined = ad.concat([ecto, mesen])"
   ]
  },
  {
   "cell_type": "code",
   "execution_count": 28,
   "id": "3d57a7d3-e517-4ad8-955d-89fb84ecb91f",
   "metadata": {
    "tags": []
   },
   "outputs": [
    {
     "data": {
      "text/plain": [
       "annotation_combined\n",
       "Mesenchyme - Chondrocytes - Septum/Capsule      1951\n",
       "Mesenchyme - Nasal Cavity Mesenchyme            1753\n",
       "Mesenchyme - Osteomesenchyme                    1546\n",
       "Mesenchyme - Chondrocytes - Anterior Capsule     657\n",
       "Mesenchyme - Lip - Dermal                        553\n",
       "Mesenchyme - Roof - Sim1                         552\n",
       "Mesenchyme - Palatal Shelf - Anterior            511\n",
       "Mesenchyme - Lip Fibro - Dlk1                    503\n",
       "Mesenchyme - Nostril leftovers                   410\n",
       "Mesenchyme - Whisker Pad                         377\n",
       "Mesenchyme - Primary Palate                      339\n",
       "Mesenchyme - Palatal Shelf - Posterior           332\n",
       "Mesenchyme - Philtrum                            323\n",
       "Mesenchyme - MxP Mesenchyme                      319\n",
       "Mesenchyme - VNO Mesenchyme                      314\n",
       "Mesenchyme - Osteoblast                          296\n",
       "Ectoderm - Non-neuronal Progenitors              222\n",
       "Mesenchyme - Incisor                             206\n",
       "Mesenchyme - Nasal Palate - Anterior             199\n",
       "Mesenchyme - Periocular Mesenchyme               189\n",
       "Mesenchyme - MxP - Shox2/Meox2                   186\n",
       "Mesenchyme - Lip-Nostril Fusion                  179\n",
       "Ectoderm - Palate Epithelium                     171\n",
       "Ectoderm - Ventral Olfactory Epithelium          162\n",
       "Ectoderm - Olfm5                                 152\n",
       "Mesenchyme - Nasal Palate - Posterior            152\n",
       "Ectoderm - Surface Ectoderm - Gjb6               128\n",
       "Mesenchyme - Chondro - VNO                       122\n",
       "Ectoderm - Fas+ Epithelium                       121\n",
       "Ectoderm - Periderm                              117\n",
       "Mesenchyme - Dermal Condensate                   102\n",
       "Ectoderm - Respiratory Epithelium                 97\n",
       "Ectoderm - Surface Ectoderm - Dlx2                87\n",
       "Mesenchyme - Molar                                84\n",
       "Ectoderm - Olfactory Pit Rim - Wnt6               81\n",
       "Ectoderm - Neuronal Progenitors                   81\n",
       "Ectoderm - Oral Ectoderm                          71\n",
       "Ectoderm - Mature Neurons                         64\n",
       "Ectoderm - Vomeronasal Organ                      56\n",
       "Ectoderm - Olfactory Pit Rim - Six1               54\n",
       "Ectoderm - Committed Neuronal Progenitors         51\n",
       "Ectoderm - Conjunctival Epithelium                35\n",
       "Ectoderm - Immature Neurons                       25\n",
       "Name: count, dtype: int64"
      ]
     },
     "execution_count": 28,
     "metadata": {},
     "output_type": "execute_result"
    }
   ],
   "source": [
    "adata_combined.obs['annotation_combined'].value_counts()"
   ]
  },
  {
   "cell_type": "code",
   "execution_count": 29,
   "id": "d790692a-68b2-4451-af6c-c2b732ebd36a",
   "metadata": {
    "tags": []
   },
   "outputs": [],
   "source": [
    "adata_combined.write('anndata_objects/adata_E13_combined_annotated.h5ad')"
   ]
  },
  {
   "cell_type": "code",
   "execution_count": null,
   "id": "e39ab9c1-9a7d-492d-91d8-f9a8eb97a6d2",
   "metadata": {},
   "outputs": [],
   "source": []
  },
  {
   "cell_type": "code",
   "execution_count": 31,
   "id": "ac8ad33a-8bc0-452c-b7b9-013864dc7f06",
   "metadata": {},
   "outputs": [],
   "source": [
    "#E14\n",
    "ecto = sc.read('anndata_objects/adata_ecto_E14_ofpr.h5ad')\n",
    "mesen_old = sc.read('anndata_objects/adata_E14_mesen_annotation.h5ad')\n",
    "mesen = adata[adata.obs['stage']=='14'].copy()"
   ]
  },
  {
   "cell_type": "code",
   "execution_count": 32,
   "id": "a7e40792-552f-4adf-abea-dc18412458e8",
   "metadata": {
    "tags": []
   },
   "outputs": [],
   "source": [
    "mesen.obs['E14_mesen_fine_14_2024'] = mesen_old.obs['E14_mesen_fine_14_2024']\n",
    "mesen.obs['E14_mesen_annotation_14_2024'] = mesen_old.obs['E14_mesen_annotation_14_2024']\n"
   ]
  },
  {
   "cell_type": "code",
   "execution_count": 33,
   "id": "9669d653-e03a-4480-a50a-e1fd6cd8449f",
   "metadata": {
    "tags": []
   },
   "outputs": [],
   "source": [
    "###Ecto\n",
    "ecto.obs['annotation_combined'] = ecto.obs['annotation_test']\n",
    "ecto.obs['annotation_combined_fine'] = ecto.obs['E14_ecto_annotation_fine']\n",
    "\n",
    "##add prefix\n",
    "ecto.obs['annotation_combined'] = 'Ectoderm - ' + ecto.obs['annotation_combined'].astype(str)\n",
    "ecto.obs['annotation_combined'] = ecto.obs['annotation_combined'].astype('category')\n",
    "\n",
    "ecto.obs['annotation_combined_fine'] = 'Ectoderm - ' + ecto.obs['annotation_combined_fine'].astype(str)\n",
    "ecto.obs['annotation_combined_fine'] = ecto.obs['annotation_combined_fine'].astype('category')\n",
    "ecto.obs['annotation_combined_coarse'] = ecto.obs['annotation_combined']\n",
    "\n",
    "###Mesen\n",
    "mesen.obs['annotation_combined'] = mesen.obs['annotation_2024']\n",
    "mesen.obs['annotation_combined_fine'] = mesen.obs['E14_mesen_fine_14_2024']\n",
    "mesen.obs['annotation_combined_coarse'] = mesen.obs['annotation_paper_coarse']\n",
    "\n",
    "##add prefix\n",
    "mesen.obs['annotation_combined'] = 'Mesenchyme - ' + mesen.obs['annotation_combined'].astype(str)\n",
    "mesen.obs['annotation_combined'] = mesen.obs['annotation_combined'].astype('category')\n",
    "\n",
    "mesen.obs['annotation_combined_fine'] = 'Mesenchyme - ' + mesen.obs['annotation_combined_fine'].astype(str)\n",
    "mesen.obs['annotation_combined_fine'] = mesen.obs['annotation_combined_fine'].astype('category')\n",
    "mesen.obs['annotation_combined_coarse'] = 'Mesenchyme - ' + mesen.obs['annotation_combined_coarse'].astype(str)\n",
    "mesen.obs['annotation_combined_coarse'] = mesen.obs['annotation_combined_coarse'].astype('category')"
   ]
  },
  {
   "cell_type": "code",
   "execution_count": 34,
   "id": "1811878b-6fd4-4406-899c-a1d2afeababf",
   "metadata": {
    "tags": []
   },
   "outputs": [],
   "source": [
    "ecto.obs['source']='ecto'\n",
    "mesen.obs['source']='mesen'"
   ]
  },
  {
   "cell_type": "code",
   "execution_count": 35,
   "id": "e5126fba-04e0-466b-8110-13f63e81e8cf",
   "metadata": {
    "tags": []
   },
   "outputs": [],
   "source": [
    "import anndata as ad\n",
    "adata_combined = ad.concat([ecto, mesen])"
   ]
  },
  {
   "cell_type": "code",
   "execution_count": 36,
   "id": "2185b156-17a2-4c15-9c07-f1567f333515",
   "metadata": {
    "tags": []
   },
   "outputs": [
    {
     "data": {
      "text/plain": [
       "annotation_combined\n",
       "Mesenchyme - Nasal Cavity Mesenchyme            422\n",
       "Mesenchyme - Osteomesenchyme                    309\n",
       "Mesenchyme - Chondrocytes - Septum/Capsule      181\n",
       "Mesenchyme - Perichondrium                      159\n",
       "Mesenchyme - Osteoblast                         147\n",
       "Mesenchyme - Chondrocytes - Anterior Capsule    123\n",
       "Mesenchyme - Periocular Mesenchyme              123\n",
       "Mesenchyme - Philtrum                            84\n",
       "Mesenchyme - Palatal Shelf - Posterior           77\n",
       "Mesenchyme - MxP Mesenchyme                      74\n",
       "Mesenchyme - Lip - Fibroblasts                   66\n",
       "Mesenchyme - Nostril leftovers                   65\n",
       "Ectoderm - Non-neuronal Progenitors              63\n",
       "Mesenchyme - Roof - Sim1                         47\n",
       "Mesenchyme - Dermal Condensate                   47\n",
       "Mesenchyme - Palatal Shelf - Anterior            46\n",
       "Ectoderm - Respiratory Epithelium                39\n",
       "Mesenchyme - VNO Mesenchyme                      39\n",
       "Mesenchyme - Primary Palate                      37\n",
       "Mesenchyme - Whisker Pad                         32\n",
       "Ectoderm - Neuronal Progenitors                  29\n",
       "Ectoderm - Committed Neuronal Progenitors        29\n",
       "Mesenchyme - Molar                               26\n",
       "Ectoderm - Periderm                              25\n",
       "Ectoderm - Mature Neurons                        24\n",
       "Mesenchyme - Incisor                             21\n",
       "Ectoderm - Palate Epithelium                     20\n",
       "Ectoderm - Fas+ Epithelium                       19\n",
       "Ectoderm - Surface Ectoderm - Gjb6               17\n",
       "Ectoderm - Oral Ectoderm                         17\n",
       "Ectoderm - Olfactory Pit Rim - Wnt6              16\n",
       "Ectoderm - Surface Ectoderm - Dlx2               14\n",
       "Ectoderm - Vomeronasal Organ                     13\n",
       "Ectoderm - Olfactory Pit Rim - Six1              12\n",
       "Ectoderm - Immature Neurons                      11\n",
       "Name: count, dtype: int64"
      ]
     },
     "execution_count": 36,
     "metadata": {},
     "output_type": "execute_result"
    }
   ],
   "source": [
    "adata_combined.obs['annotation_combined'].value_counts()"
   ]
  },
  {
   "cell_type": "code",
   "execution_count": 37,
   "id": "22a4af70-7e48-436a-b451-a4b14bf444ee",
   "metadata": {
    "tags": []
   },
   "outputs": [],
   "source": [
    "adata_combined.write('anndata_objects/adata_E14_combined_annotated.h5ad')"
   ]
  },
  {
   "cell_type": "code",
   "execution_count": null,
   "id": "7eba71e3-29fc-4e81-a48e-ecdbd47c0548",
   "metadata": {},
   "outputs": [],
   "source": []
  },
  {
   "cell_type": "code",
   "execution_count": null,
   "id": "ae39589b-4131-4d2f-a67c-0cc52ebd2d83",
   "metadata": {},
   "outputs": [],
   "source": []
  },
  {
   "cell_type": "code",
   "execution_count": 9,
   "id": "b84f732b-9fad-41cf-9ccb-153e41605aae",
   "metadata": {
    "tags": []
   },
   "outputs": [],
   "source": [
    "#whisker cellchat attempts\n",
    "#\n",
    "#E11\n",
    "ecto = sc.read('anndata_objects/adata_E11_surface.h5ad')\n",
    "mesen = sc.read('anndata_objects/adata_E11_dermal.h5ad')"
   ]
  },
  {
   "cell_type": "code",
   "execution_count": 10,
   "id": "d9996ae0-7a42-4672-bfa6-f0879c0baa4e",
   "metadata": {
    "tags": []
   },
   "outputs": [
    {
     "data": {
      "text/plain": [
       "AnnData object with n_obs × n_vars = 333 × 22912\n",
       "    obs: 'Clusters', '_X', '_Y', 'initial_size_unspliced', 'initial_size_spliced', 'initial_size', 'sample', 'barcode', 'batch', 'doublet_score', 'predicted_doublets', 'predicted_doublets_based_on_10x_chromium_spec', 'n_genes_by_counts', 'total_counts', 'total_counts_mt', 'pct_counts_mt', 'total_counts_rb', 'pct_counts_rb', 'pct_counts_unspliced', 'pred_doubl_cat', 'stage', 'S_score', 'G2M_score', 'phase', '_scvi_batch', '_scvi_labels', 'leiden', 'leiden_default', 'leiden_ecto', 'leiden_ecto_fine', 'leiden_ecto_extra_fine', 'leiden_ecto1', 'E11_ecto_annotation_coarse', 'E11_ecto_annotation_fine', 'leiden_surface', 'E11_ecto_surface_subset'\n",
       "    var: 'gene_name', 'ensembl_id', 'mt', 'rb', 'n_cells_by_counts', 'mean_counts', 'pct_dropout_by_counts', 'total_counts', 'n_cells', 'mean', 'std', 'highly_variable', 'highly_variable_rank', 'means', 'variances', 'variances_norm'\n",
       "    uns: 'E11_ecto_annotation_coarse_colors', 'E11_ecto_annotation_fine_colors', 'E11_ecto_surface_subset_colors', '_scvi_manager_uuid', '_scvi_uuid', 'batch_colors', 'hvg', 'leiden', 'leiden_colors', 'leiden_default_colors', 'leiden_ecto1_colors', 'leiden_ecto_extra_fine_colors', 'leiden_ecto_fine_colors', 'leiden_surface_colors', 'log1p', 'neighbors', 'pca', 'phase_colors', 'rank_genes_groups_wilcoxon', 'umap'\n",
       "    obsm: 'X_MDE', 'X_pca', 'X_scvi', 'X_scvi_MDE', 'X_umap', '_scvi_extra_continuous_covs'\n",
       "    varm: 'PCs'\n",
       "    layers: 'ambiguous', 'matrix', 'original_counts', 'spliced', 'unspliced'\n",
       "    obsp: 'connectivities', 'distances'"
      ]
     },
     "execution_count": 10,
     "metadata": {},
     "output_type": "execute_result"
    }
   ],
   "source": [
    "ecto"
   ]
  },
  {
   "cell_type": "code",
   "execution_count": 11,
   "id": "ffe78a13-209e-420d-8844-1f6fd90f24e0",
   "metadata": {
    "tags": []
   },
   "outputs": [
    {
     "data": {
      "text/plain": [
       "AnnData object with n_obs × n_vars = 1455 × 22912\n",
       "    obs: 'Clusters', '_X', '_Y', 'initial_size_unspliced', 'initial_size_spliced', 'initial_size', 'sample', 'barcode', 'batch', 'doublet_score', 'predicted_doublets', 'predicted_doublets_based_on_10x_chromium_spec', 'n_genes_by_counts', 'total_counts', 'total_counts_mt', 'pct_counts_mt', 'total_counts_rb', 'pct_counts_rb', 'pct_counts_unspliced', 'pred_doubl_cat', 'stage', 'S_score', 'G2M_score', 'phase', '_scvi_batch', '_scvi_labels', 'leiden', 'leiden_default', 'leiden_fine', 'E11_mesen_annotation_coarse', 'leiden_filt.8', 'leiden_filt.9', 'leiden_filt1.1', 'leiden_filt1.2', 'leiden_filt1.3', 'E11_mesen_annotation_fine', 'integration_label', 'leiden_dermal', 'E11_mesen_dermal_subset'\n",
       "    var: 'gene_name', 'ensembl_id', 'mt', 'rb', 'n_cells_by_counts', 'mean_counts', 'pct_dropout_by_counts', 'total_counts', 'n_cells', 'mean', 'std', 'highly_variable', 'highly_variable_rank', 'means', 'variances', 'variances_norm'\n",
       "    uns: 'E11_mesen_annotation_fine_colors', 'E11_mesen_dermal_subset_colors', '_scvi_manager_uuid', '_scvi_uuid', 'batch_colors', 'hvg', 'integration_label_colors', 'leiden', 'leiden_colors', 'leiden_default_colors', 'leiden_dermal_colors', 'leiden_filt.8_colors', 'leiden_filt.9_colors', 'leiden_filt1.1_colors', 'leiden_filt1.2_colors', 'leiden_filt1.3_colors', 'leiden_fine_colors', 'log1p', 'neighbors', 'pca', 'phase_colors', 'rank_genes_groups_wilcoxon', 'umap'\n",
       "    obsm: 'X_MDE', 'X_pca', 'X_scvi', 'X_scvi_MDE', 'X_umap', '_scvi_extra_continuous_covs'\n",
       "    varm: 'PCs'\n",
       "    layers: 'ambiguous', 'matrix', 'original_counts', 'spliced', 'unspliced'\n",
       "    obsp: 'connectivities', 'distances'"
      ]
     },
     "execution_count": 11,
     "metadata": {},
     "output_type": "execute_result"
    }
   ],
   "source": [
    "mesen"
   ]
  },
  {
   "cell_type": "code",
   "execution_count": 12,
   "id": "70d563b1-c2a7-4969-b293-3bf7377d3c4f",
   "metadata": {
    "tags": []
   },
   "outputs": [],
   "source": [
    "ecto.obs['annotation_combined'] = ecto.obs['E11_ecto_surface_subset']\n",
    "\n",
    "mesen.obs['annotation_combined'] = mesen.obs['E11_mesen_dermal_subset']\n"
   ]
  },
  {
   "cell_type": "code",
   "execution_count": 13,
   "id": "fc58b75b-5af8-4509-8444-c515912f7c30",
   "metadata": {
    "tags": []
   },
   "outputs": [],
   "source": [
    "import anndata as ad\n",
    "adata_combined = ad.concat([ecto, mesen])"
   ]
  },
  {
   "cell_type": "code",
   "execution_count": 14,
   "id": "08a4938a-fbe1-43ec-bd12-1936a12d7945",
   "metadata": {
    "tags": []
   },
   "outputs": [],
   "source": [
    "adata_combined.write('anndata_objects/adata_E11_whiskers_combined.h5ad')"
   ]
  },
  {
   "cell_type": "code",
   "execution_count": null,
   "id": "63bfd208-2c41-4512-aedb-8b8101b82bc4",
   "metadata": {},
   "outputs": [],
   "source": []
  },
  {
   "cell_type": "code",
   "execution_count": 15,
   "id": "8925ffab-5b7a-467b-a572-d0eec6926b61",
   "metadata": {
    "tags": []
   },
   "outputs": [],
   "source": [
    "#whisker cellchat attempts\n",
    "#\n",
    "#E12\n",
    "ecto = sc.read('anndata_objects/adata_E12_ecto_surface.h5ad')\n",
    "mesen = sc.read('anndata_objects/adata_E12_mesen_dermal.h5ad')"
   ]
  },
  {
   "cell_type": "code",
   "execution_count": 16,
   "id": "6b85e9e8-0030-4900-b7da-ba714999c288",
   "metadata": {
    "tags": []
   },
   "outputs": [
    {
     "data": {
      "text/plain": [
       "AnnData object with n_obs × n_vars = 732 × 22912\n",
       "    obs: 'Clusters', '_X', '_Y', 'initial_size_unspliced', 'initial_size_spliced', 'initial_size', 'sample', 'barcode', 'batch', 'doublet_score', 'predicted_doublets', 'predicted_doublets_based_on_10x_chromium_spec', 'n_genes_by_counts', 'total_counts', 'total_counts_mt', 'pct_counts_mt', 'total_counts_rb', 'pct_counts_rb', 'pct_counts_unspliced', 'pred_doubl_cat', 'stage', 'S_score', 'G2M_score', 'phase', '_scvi_batch', '_scvi_labels', 'leiden', 'leiden_default', 'leiden_ecto', 'leiden_neuron', 'E12_ecto_annotation_coarse', 'E12_ecto_annotation_fine', 'leiden_surface', 'leiden_surface_test', 'E11_ecto_surface'\n",
       "    var: 'gene_name', 'ensembl_id', 'mt', 'rb', 'n_cells_by_counts', 'mean_counts', 'pct_dropout_by_counts', 'total_counts', 'n_cells', 'mean', 'std', 'highly_variable', 'highly_variable_rank', 'means', 'variances', 'variances_norm'\n",
       "    uns: 'E11_ecto_surface_colors', 'E12_ecto_annotation_coarse_colors', 'E12_ecto_annotation_fine_colors', '_scvi_manager_uuid', '_scvi_uuid', 'batch_colors', 'hvg', 'leiden', 'leiden_colors', 'leiden_ecto_colors', 'leiden_neuron_colors', 'leiden_surface_colors', 'leiden_surface_test_colors', 'log1p', 'neighbors', 'pca', 'phase_colors', 'rank_genes_groups_wilcoxon', 'umap'\n",
       "    obsm: 'X_MDE', 'X_pca', 'X_scvi', 'X_scvi_MDE', 'X_umap', '_scvi_extra_continuous_covs'\n",
       "    varm: 'PCs'\n",
       "    layers: 'ambiguous', 'matrix', 'original_counts', 'spliced', 'unspliced'\n",
       "    obsp: 'connectivities', 'distances'"
      ]
     },
     "execution_count": 16,
     "metadata": {},
     "output_type": "execute_result"
    }
   ],
   "source": [
    "ecto"
   ]
  },
  {
   "cell_type": "code",
   "execution_count": 17,
   "id": "5639cde8-1e5d-442a-a6b8-e7dbb082390b",
   "metadata": {
    "tags": []
   },
   "outputs": [
    {
     "data": {
      "text/plain": [
       "AnnData object with n_obs × n_vars = 3678 × 22912\n",
       "    obs: 'Clusters', '_X', '_Y', 'initial_size_unspliced', 'initial_size_spliced', 'initial_size', 'sample', 'barcode', 'batch', 'doublet_score', 'predicted_doublets', 'predicted_doublets_based_on_10x_chromium_spec', 'n_genes_by_counts', 'total_counts', 'total_counts_mt', 'pct_counts_mt', 'total_counts_rb', 'pct_counts_rb', 'pct_counts_unspliced', 'pred_doubl_cat', 'stage', 'S_score', 'G2M_score', 'phase', '_scvi_batch', '_scvi_labels', 'leiden', 'leiden_lowres', 'leiden_default', 'leiden_filt2', 'leiden_filt.4', 'leiden_filt.5', 'leiden_filt1.5', 'E12_mesen_annotation_coarse', 'integration_label', 'leiden_dermal', 'leiden_dermal_high', 'E11_mesen_dermal'\n",
       "    var: 'gene_name', 'ensembl_id', 'mt', 'rb', 'n_cells_by_counts', 'mean_counts', 'pct_dropout_by_counts', 'total_counts', 'n_cells', 'mean', 'std', 'highly_variable', 'highly_variable_rank', 'means', 'variances', 'variances_norm'\n",
       "    uns: 'E11_mesen_dermal_colors', 'E12_mesen_annotation_coarse_colors', '_scvi_manager_uuid', '_scvi_uuid', 'batch_colors', 'hvg', 'integration_label_colors', 'leiden', 'leiden_colors', 'leiden_default_colors', 'leiden_dermal_colors', 'leiden_dermal_high_colors', 'leiden_filt.4_colors', 'leiden_filt.5_colors', 'leiden_filt1.5_colors', 'leiden_filt2_colors', 'leiden_lowres_colors', 'log1p', 'neighbors', 'pca', 'phase_colors', 'rank_genes_groups_wilcoxon', 'umap'\n",
       "    obsm: 'X_MDE', 'X_pca', 'X_scvi', 'X_scvi_MDE', 'X_umap', '_scvi_extra_continuous_covs'\n",
       "    varm: 'PCs'\n",
       "    layers: 'ambiguous', 'matrix', 'original_counts', 'spliced', 'unspliced'\n",
       "    obsp: 'connectivities', 'distances'"
      ]
     },
     "execution_count": 17,
     "metadata": {},
     "output_type": "execute_result"
    }
   ],
   "source": [
    "mesen"
   ]
  },
  {
   "cell_type": "code",
   "execution_count": 18,
   "id": "91cb8a09-9398-4d8a-b8cd-bd5c52fbbc5b",
   "metadata": {
    "tags": []
   },
   "outputs": [],
   "source": [
    "ecto.obs['annotation_combined'] = ecto.obs['E11_ecto_surface']\n",
    "\n",
    "mesen.obs['annotation_combined'] = mesen.obs['E11_mesen_dermal']\n"
   ]
  },
  {
   "cell_type": "code",
   "execution_count": 19,
   "id": "cf9bc43c-1524-4dfb-9212-94a330c358c2",
   "metadata": {
    "tags": []
   },
   "outputs": [],
   "source": [
    "import anndata as ad\n",
    "adata_combined = ad.concat([ecto, mesen])"
   ]
  },
  {
   "cell_type": "code",
   "execution_count": 20,
   "id": "ce27869b-4a59-4bb5-8ee6-207b8389ab5f",
   "metadata": {
    "tags": []
   },
   "outputs": [],
   "source": [
    "adata_combined.write('anndata_objects/adata_E12_whiskers_combined.h5ad')"
   ]
  },
  {
   "cell_type": "code",
   "execution_count": null,
   "id": "4116a885-14e9-4f46-99b4-08b3535fc6f6",
   "metadata": {},
   "outputs": [],
   "source": []
  }
 ],
 "metadata": {
  "kernelspec": {
   "display_name": "cellrank",
   "language": "python",
   "name": "cellrank"
  },
  "language_info": {
   "codemirror_mode": {
    "name": "ipython",
    "version": 3
   },
   "file_extension": ".py",
   "mimetype": "text/x-python",
   "name": "python",
   "nbconvert_exporter": "python",
   "pygments_lexer": "ipython3",
   "version": "3.11.7"
  }
 },
 "nbformat": 4,
 "nbformat_minor": 5
}
